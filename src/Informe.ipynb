{
 "cells": [
  {
   "cell_type": "markdown",
   "id": "d62e1fcc-c45a-425e-8b4a-d5ad4c0a4d5e",
   "metadata": {
    "slideshow": {
     "slide_type": "slide"
    },
    "tags": []
   },
   "source": [
    "# DEVS SIMULATION MODEL TO EVALUATE PERFORMANCE OF D2D/NB-IOT COMMUNICATIONS "
   ]
  },
  {
   "cell_type": "markdown",
   "id": "539788c3-7cc5-4d92-9f6d-b6d2916d7ebd",
   "metadata": {},
   "source": [
    "# Outline\n",
    "\n",
    "* [Introducción](#intro)\n",
    "  * [What is IoT?](#iot)\n",
    "  * [What is D2D?](#d2d)\n",
    "  * [What is NB-IoT?](#nb-iot)\n",
    "  * [D2D-NB-IoT](#d2d-nb-iot)\n",
    "  * [Objective](#objective)\n",
    "  * [Performance parameters](#parameters)\n",
    "      * [Distances between devices](#distance)\n",
    "      * [Obstacle density](#obstacle)\n",
    "      * [Transmission’s scheduling](#scheduling)\n",
    "      * [Interfering device density](#interference)\n",
    "  * [Model](#model)"
   ]
  },
  {
   "cell_type": "markdown",
   "id": "0f2de52f-36ed-441a-854e-669a78c94df1",
   "metadata": {},
   "source": [
    "<a id='iot'></a>\n",
    "# Wha is IoT?\n"
   ]
  },
  {
   "cell_type": "markdown",
   "id": "5f325ab5-9fbd-4b82-a049-6d1d334a8746",
   "metadata": {},
   "source": [
    "<center><img src=\"img/iot.jpg\" width=\"600\"></center>"
   ]
  },
  {
   "cell_type": "markdown",
   "id": "c6a2cd09-368a-49ed-adce-252dfee7bf9a",
   "metadata": {},
   "source": [
    "# Internet of Things\n",
    "   * Grouping and interconnection of devices and objects through a network.\n",
    "   * All of them could be visible and interact.\n",
    "   * They could be sensors and mechanical devices and everyday objects such as the refrigerator, footwear or clothing.\n",
    "   * Anything that can be imagined could be connected to the internet and interact without the need for human intervention.\n",
    "   * Machine-to-Machine (M2M) or Device-to-Device (D2D) interaction."
   ]
  },
  {
   "cell_type": "markdown",
   "id": "bc7ecd8f-1a84-48dc-a2e9-6cd6411483b4",
   "metadata": {},
   "source": [
    "<a id='d2d'></a>\n",
    "# What is D2D?"
   ]
  },
  {
   "cell_type": "markdown",
   "id": "153ffc5d-2d38-46e4-855c-d236813e9ae1",
   "metadata": {},
   "source": [
    "<center><img src=\"img/d2d.png\" width=\"600\"></center>"
   ]
  },
  {
   "cell_type": "markdown",
   "id": "89e3246e-6a29-4610-bf79-1bbfb7aa2952",
   "metadata": {},
   "source": [
    "# Device to Device communications\n",
    "In classical network all communications must go through a base station even when two devices are in range of stablishing a connection.\n",
    "Device to Device communication is defined as a direct communication between two users without traversing\n",
    "the Base Station improving the spectral efficency, throughput,\n",
    "energy efficiency, delay, and fairness by offloading traffic from the core network.\n",
    "We focus on Inband implementations where lincensed cellular frequencies are used thus interference between devices and cellular links must be modeled."
   ]
  },
  {
   "cell_type": "markdown",
   "id": "4663c7b2-48e9-4e02-afa9-bcd78db1a02d",
   "metadata": {},
   "source": [
    "<a id='nb-iot'></a>\n",
    "# What is NB-IoT?"
   ]
  },
  {
   "cell_type": "markdown",
   "id": "2f7ce019-84cd-43cd-bf41-efd52206e3b2",
   "metadata": {},
   "source": [
    "<center><img src=\"img/nbiot.png\" width=\"600\"></center>"
   ]
  },
  {
   "cell_type": "markdown",
   "id": "91e606a2-2c4f-48d7-a747-129414026c1b",
   "metadata": {},
   "source": [
    "# Narrow Band in Internet of Things\n",
    "   Narrow Band networks use a small bandwidth in a known cellular spectrum to transmit data at high fault resistance and lower power consumption.\n",
    "   * A standards-based low power wide area (LPWA) technology.\n",
    "   * Cellular technologie: 5G.\n",
    "   * Enable a wide range of new IoT devices and services.\n",
    "   * Significantly improves the power consumption of user devices, system capacity and spectrum efficiency, especially in deep coverage.\n",
    "   * Battery life of more than 10 years.\n",
    "   * It can co-exist with 2G, 3G, and 4G mobile networks.\n",
    "   \n",
    "Although one of the main characteristics of this technology is wide coverage, it's starts facing issues under high device density areas and long distance communications."
   ]
  },
  {
   "cell_type": "markdown",
   "id": "e8a94608-6c9f-46ec-91fc-803514b14abc",
   "metadata": {},
   "source": [
    "<a id='d2d-nb-iot'></a>\n",
    "# D2D in NB-IoT"
   ]
  },
  {
   "cell_type": "markdown",
   "id": "296ab694-e338-4a03-9c57-1dc93629fdbe",
   "metadata": {},
   "source": [
    "<center><img src=\"img/antenas_relays2.png\" width=\"600\"></center>"
   ]
  },
  {
   "cell_type": "markdown",
   "id": "072b9dc2-6e22-41fa-871a-82269000b6e8",
   "metadata": {
    "tags": []
   },
   "source": [
    "# Device to Device in Narrow Band Internet of Things\n",
    "Given the connectivity issues NB-IoT presents, D2D solutions were suggested for achieving coverage between far devices more over improving QoS.\n",
    "The D2D protocol establish a 2 hop route between devices out of coverage of the base station (DUE) and the base station(BS) by means of selecting a second device connected to the BS (UE) in range of the DUE as relay.   \n",
    "   * D2D comunication to not-coveraged devices.\n",
    "   * NB-IoT full communication.\n",
    "   * Coveraged area extended.\n",
    "\n",
    "   "
   ]
  },
  {
   "cell_type": "markdown",
   "id": "4d0efd19-48a5-4d1a-8a10-c33cf9b68431",
   "metadata": {},
   "source": [
    "<a id='objective'></a>\n",
    "# Objective"
   ]
  },
  {
   "cell_type": "markdown",
   "id": "6690c87b-6998-402b-9945-251b8756f15a",
   "metadata": {},
   "source": [
    "We would like to evaluate the QoS of D2D NB-IoT communications given a relay selection policy under physical characteristics of the network"
   ]
  },
  {
   "cell_type": "markdown",
   "id": "c3e9dddd-821d-4766-a765-303ffe66993c",
   "metadata": {},
   "source": [
    "<a id='parameters'></a>\n",
    "# Performance Parameters"
   ]
  },
  {
   "cell_type": "markdown",
   "id": "2083dc3e-514b-46bd-9a87-ca9f96fb891f",
   "metadata": {},
   "source": [
    "<a id='distance'></a>\n",
    "## Distance between devices"
   ]
  },
  {
   "cell_type": "markdown",
   "id": "5d0ff0db-e3f4-42a5-a2c0-3016fe1bbedb",
   "metadata": {},
   "source": [
    "<center><img src=\"img/distances.png\" width=\"700\"></center>"
   ]
  },
  {
   "cell_type": "markdown",
   "id": "e626fe80-441e-4e53-9ce0-cbb20450de10",
   "metadata": {},
   "source": [
    "* Rayleigh Model is the l parameter\n",
    "* Long distance “ą low quality communications\"."
   ]
  },
  {
   "cell_type": "markdown",
   "id": "05189255-b1c6-4698-a752-ec9085c26303",
   "metadata": {},
   "source": [
    "<a id='obstacle'></a>\n",
    "## Obstacle Density"
   ]
  },
  {
   "cell_type": "markdown",
   "id": "f2f8798d-a8c2-414a-8674-5eee9ce6d03d",
   "metadata": {},
   "source": [
    "<center><img src=\"img/urban_suburban.png\" width=\"600\"></center>"
   ]
  },
  {
   "cell_type": "markdown",
   "id": "327ed569-219d-4788-b602-c7af6bdc8687",
   "metadata": {},
   "source": [
    "* In the Rayleigh Model is the α parameter.\n",
    "* Urban scenario: High density of obstacles.\n",
    "* Suburban scenario: Low density of obstacles."
   ]
  },
  {
   "cell_type": "markdown",
   "id": "3c17bcde-c908-4ae6-9ff9-345e7b49bceb",
   "metadata": {},
   "source": [
    "<a id='scheduling'></a>\n",
    "## Transmission’s scheduling"
   ]
  },
  {
   "cell_type": "markdown",
   "id": "37740dc7-585e-4914-9cb4-b5917ecd2758",
   "metadata": {},
   "source": [
    "<center><img src=\"img/scheduling.png\" width=\"600\"></center>"
   ]
  },
  {
   "cell_type": "markdown",
   "id": "e625b4e2-511b-4b07-821a-31e6d350b819",
   "metadata": {},
   "source": [
    "* NB-IoT parameters.\n",
    "* Repetitions: Several messages in the transmission.\n",
    "* Retransmissions: Several transmission of the same messages."
   ]
  },
  {
   "cell_type": "markdown",
   "id": "c04c1e5e-62f4-4c56-b518-a4d836f47754",
   "metadata": {},
   "source": [
    "<a id='interference'></a>\n",
    "## Interfering device density"
   ]
  },
  {
   "cell_type": "markdown",
   "id": "c10bf4f5-3d78-447e-a0a8-eae3dfa566b2",
   "metadata": {},
   "source": [
    "<center><img src=\"img/interference.png\" width=\"600\"></center>"
   ]
  },
  {
   "cell_type": "markdown",
   "id": "9d5c59c1-8652-43b1-b517-c9d318d5dc31",
   "metadata": {},
   "source": [
    "<a id='model'></a>\n",
    "# Model"
   ]
  },
  {
   "cell_type": "markdown",
   "id": "426da8b9-6ff1-4a13-9775-05906882f108",
   "metadata": {},
   "source": [
    "## Chanels\n",
    "We are studying device-to-device (D2D) communications in an NB-IoT context, and we define the fading Rayleigh as channel model whose signal-to-noise ratio with interference (SINR) is used to calculate the packet delivery ratio (PDR), to both D2D communication and for device-to-base station communication. PDR represents a probability of successful packet delivery, and multiple devices within the base station's coverage area are used to forward packets from out-of-area devices.\n",
    "\n",
    "* __Relays__ : \n",
    "    * Duty cycle windows of fixed size segmented by intervals of maximum transmission time in which the device is in state D2D or cellular. \n",
    "    * Using a MonteCarlo process, calculate if a transmission is sucessful given its PDR (including D2D and D2BS comunication).\n",
    "    * Consider information about the obstacles and interfirence devices density relative to each relay and the BS.\n",
    "    * The interference is Random generated as vectors of the other devices to each relay and to the BS.\n",
    "* __DUE__ \n",
    "    * Packets are transmitted between intervals following a exponential distribution (Poisson proccess).\n",
    "* __BS__\n",
    "    * Recieves the packets to generates data necessary to calculate Expected Delivery Ratio (EDR) as quality measure.\n"
   ]
  },
  {
   "cell_type": "markdown",
   "id": "1145916a-4176-4d89-b040-23520aaa95b8",
   "metadata": {},
   "source": [
    "### Relay Scheduling\n",
    "The relay selection is based considering comibined PDR in D2D and D2BS communication. Whenever a transmission to BS fails the scheduler is notified and chooses the next relay to transmit the message up to a maximum of N retransmissions.\n",
    "\n",
    "* Controller\n",
    "    * Message FIFO Queue for DUE arrivals and relays retransmission. \n",
    "    * Relay Selector using PDR weigthed score dinamycaly updated on relay delivery failure.\n",
    "    * On message retrieval from the queue the N retransmission schema is timed based on each relay duty cycle window. For each time interval T1,...,TN the highest priority relay whose D2D cycle is active is scheduled for potential retransmission.\n",
    "    * On message successful delivery or message loss, asks for updates in relay's duty cycle window and PDR\n"
   ]
  },
  {
   "cell_type": "markdown",
   "id": "55a40918-bfd7-407f-b1f0-c2de311ac092",
   "metadata": {},
   "source": [
    "<img src=\"img/scheduler.png\" width=\"600\">"
   ]
  },
  {
   "cell_type": "markdown",
   "id": "85ac5f50-2334-4514-974b-e7ae800f5c1e",
   "metadata": {},
   "source": [
    "<a id='devs'></a>\n",
    "# Coupled Model "
   ]
  },
  {
   "cell_type": "markdown",
   "id": "9c175af0-8f40-4c38-be2d-736686a3b2db",
   "metadata": {},
   "source": [
    "* The top model is composed by:\n",
    "    * Atomic DUE \n",
    "    * Atomic Base Station \n",
    "    * Relay-hop coupled model where relay policy logic is implemented.\n",
    "        1. K atomic relays (for this assignment we limit the number at 4 to 6 and improve upon it the second part of the course)\n",
    "        2. Controller coupled model\n",
    "            * Atomic message FIFO Queue\n",
    "            * Atomic Relay Selector"
   ]
  },
  {
   "cell_type": "markdown",
   "id": "66a02acc-2456-4710-980c-a4e160acff85",
   "metadata": {},
   "source": [
    "<a id='specification'></a>\n",
    "# DEVS Model Specification "
   ]
  },
  {
   "cell_type": "markdown",
   "id": "4f58c40b-46e8-4c99-855e-5ef946c5474e",
   "metadata": {},
   "source": [
    "## Coupled Models"
   ]
  },
  {
   "cell_type": "markdown",
   "id": "04d73b97-9232-41c8-8f92-19a20d57d4f3",
   "metadata": {},
   "source": [
    "### NB-IOT TOP MODEL\n",
    "\n",
    "     Coupled Model <X, Y, D, {Md]d D}, EIC, EOC, IC, select >\n",
    "\n",
    "    IPorts = {packet_port, success_port, failed_port}\n",
    "    OPorts = {out, transmission_port, trow, hop}\n",
    "\n",
    "    X = {(packet_port,<N,N_0>), (succes_port,<N_0,N_0,PDR ∈ R/0<=PDR<=1), (failed_port,<N_0,N_0,PDR ∈ R/0<=PDR<=1)};\n",
    "    \n",
    "    Y = {(out,  < EDR ∈ R >), (transmission_port, <N,N_0>), (trow_port, <N,N_0,R+>),  (deliver_port, <N,N_0,R+>), (out,  < EDD ∈ R >)  };\n",
    "    \n",
    "    D = {DUE, Relay Hop System, Stats};\n",
    "    \n",
    "    Md = {  M_DUE, M_Relay_Hop_System, M_Stats };\n",
    "    \n",
    "    EIC = { ∅ };\n",
    "    \n",
    "    EOC = { ( <Stats, out>, <Self, out> ) }; \n",
    "    \n",
    "    IC  = { ( <DUE, packet_port>, <Relay Hop System, transmission_port>), (<Relay Hop System,trow>, <Stats, failed_port>), (<Relay Hop System, hop>, <Stats, success_port>)    }; \n",
    "    \n",
    "    select = {DUE, Relay Hop System, Stats}\n",
    "    \n",
    "\n",
    "    \n",
    "\n",
    "    \n",
    "    \n",
    "\n"
   ]
  },
  {
   "cell_type": "markdown",
   "id": "4c75998d-cf75-41e5-95b4-123deb5a2f27",
   "metadata": {},
   "source": [
    "<img src=\"img/top.png\" width=\"50%\"></left>"
   ]
  },
  {
   "cell_type": "markdown",
   "id": "f14a9a42-a3e3-4de0-b745-41e2997f4f3e",
   "metadata": {},
   "source": [
    "### Relay Hop System\n",
    "\n",
    "    Coupled Model <X, Y, D, {Md]d D}, EIC, EOC, IC, select>\n",
    "\n",
    "    IPorts = {packet_port, transmission_port, relayIn, ProtocolIn, UpdateIn }\n",
    "    OPorts = {relay1Out, relay2Out, relay3Out, relay4Out, ProtocolOut, UpdateOut, retransmit, hop, trow}\n",
    "\n",
    "    Y = {(relayiOut,<N_0>), (update,<{0,1},id ∈ N/ ∃ r ∈ {Relay1,..,Relay4}, r.id = id > ), \n",
    "    (ProtocolOut,<windowd ∈ {0,1}^4, type ∈ {0,1}, id ∈ N/ ∃ r ∈ {Relay1,..,Relay4}, PDR(i) ∈ R/0<=PDR(i)<=1 > ),\n",
    "    (retransmit, < t ∈ N/ t <= controller.max_retransmission(), PDR ∈ R/0<=PDR<=1 , outcome ∈ {0,1}, id ∈ N/ ∃ r ∈ {Relay1,..,Relay4} > ),\n",
    "    (hop, < t ∈ N/ t <= controller.max_retransmission(), PDR ∈ R/0<=PDR<=1 , id ∈ N/ ∃ r ∈ {Relay1,..,Relay4} > ), \n",
    "    (trow, < t ∈ N/ t <= controller.max_retransmission(), PDR ∈ R/0<=PDR<=1 >, id ∈ N/ ∃ r ∈ {Relay1,..,Relay4}),\n",
    "    (UpdateOut, <0> )\n",
    "    };\n",
    "    \n",
    "    X = {(ProtocolIn , <windowd ∈ {0,1}^4, type ∈ {0,1}, id ∈ N/ ∃ r ∈ {Relay1,..,Relay4}, PDR(i) ∈ R/0<=PDR(i)<=1 > ),\n",
    "        (relayIn, < t ∈ N/ t <= controller.max_retransmission(), PDR(i) ∈ R/0<=PDR(i)<=1, {0,1},id ∈ N/ ∃ r ∈ {Relay1,..,Relay4}, >), \n",
    "        (packet_port, <N, N_0>),\n",
    "        (transmission_port, <N, N_0>)\n",
    "        (UpdateIn, <0> )\n",
    "        };\n",
    "    \n",
    "    D = {Controller, Relay1, Relay2, Relay3, Relay4};\n",
    "    \n",
    "    Md = {  M_Controller, M_Relay};\n",
    "    \n",
    "    EIC = { (<Self,transmission_port> , <Controller, packet_port> ) };\n",
    "    \n",
    "    EOC = { ( <Relayi, hop>, <Self, hop> ), ( <Controller, trow>, <Self, trow> )}; \n",
    "    \n",
    "    IC  = {  <Controller, RelayiOut>, <Relayi, packet_port> ), ( <Relayi, ProtocolOut>, <Controller,ProtocolIn> ), ( <Relayi, retransmit>, <Controller,relayIn> ), \n",
    "          ( <Controler, UpdateOut>, <Relayi,UpdateIn> )    }; \n",
    "    \n",
    "    select = {Relay1,Relay2,Relay3,Relay4 Controller}"
   ]
  },
  {
   "cell_type": "markdown",
   "id": "30c1027d-76b9-4ee3-819f-fac9cde254fd",
   "metadata": {},
   "source": [
    "<img src=\"img/RelayHopSystem.png\" width=\"50%\"></left>"
   ]
  },
  {
   "cell_type": "markdown",
   "id": "ddf9525c-9a29-4832-adea-6bbcef5aaca5",
   "metadata": {},
   "source": [
    "### Controller\n",
    "\n",
    "    Coupled Model <X, Y, D, {Md]d D}, EIC, EOC, IC, select>\n",
    "\n",
    "    IPorts = {in, done, Packet, relayIn, ProtocolIn}\n",
    "    OPorts = {relay1Out, relay2Out, relay3Out, relay4Out, UpdateOut, trow, ack}\n",
    "\n",
    "    Y = {(relayiOut,<N_0>), \n",
    "        (UpdateOut, <0> )\n",
    "        (trow, <t ∈ N/ t <= controller.max_retransmission(),id ∈ N/ ∃ r ∈ {Relay1,..,Relay4},PDR ∈ R/0<=PDR<=1 >),\n",
    "        (ack, <0>)};\n",
    "        (out, <N, N_0>)};\n",
    "    \n",
    "    X = {(in ,  <N, N_0> ),\n",
    "        (done, <0>), \n",
    "        (ProtocolIn , <windowd ∈ {0,1}^4, type ∈ {0,1}, id ∈ N/ ∃ r ∈ {Relay1,..,Relay4}, PDR(i) ∈ R/0<=PDR(i)<=1 > ),  \n",
    "        (relayIn, <t ∈ N/ t <= controller.max_retransmission(),{0,1},id ∈ N/ ∃ r ∈ {Relay1,..,Relay4},PDR(i) ∈ R/0<=PDR(i)<=1 >), \n",
    "        (PacketIn, <N, N_0>)};\n",
    "    \n",
    "    D = {Fifo, Scheduler};\n",
    "    \n",
    "    Md = {  M_Queue, M_Scheduler};\n",
    "    \n",
    "    EIC = { (<Self,Packet> , <Fifo, in> ), ( <self, ProtocolIn>, <Scheduler, ProtocolIn> ), ( <self, relayIn>, <Controller,relayIn> ) };\n",
    "    \n",
    "    EOC = { ( <Scheduler, trow>, <Self, trow> ), ( <Scheduler, relayiOut>, <Self, relayiOut> ), ( <self, UpdateOut>, <Scheduler,UpdateOut> )}; \n",
    "    \n",
    "    IC  = {  <Scheduler, ack>, <Fifo, donde> ), (<Fifo, out>, <Scheduler, Packet>), }; \n",
    "    \n",
    "    select = {FiFo Scheduler}"
   ]
  },
  {
   "cell_type": "markdown",
   "id": "bd057619-ad86-4ea4-8127-e573ce0f122d",
   "metadata": {},
   "source": [
    "<img src=\"img/Controller.png\" width=\"50%\"></left>"
   ]
  },
  {
   "cell_type": "markdown",
   "id": "d33ed4a9-56d2-4f08-a00e-6856c2d4fe54",
   "metadata": {},
   "source": [
    "### Relay\n",
    "\n",
    "        \n",
    "    Coupled Model <X, Y, D, {Md]d D}, EIC, EOC, IC, select>\n",
    "\n",
    "    IPorts = {Packet, UpdateIn}\n",
    "    OPorts = {hop, retransmit, ProtocolOut}\n",
    "\n",
    "    Y = {(ProtocolOut,<windowd ∈ {0,1}^4, type ∈ {0,1}, id ∈ N/ ∃ r ∈ {Relay1,..,Relay4}, PDR(i) ∈ R/0<=PDR(i)<=1 > ),\n",
    "        (retransmit, < t ∈ N/ t <= controller.max_retransmission(), PDR ∈ R/0<=PDR<=1 , outcome ∈ {0,1}, id ∈ N/ ∃ r ∈ {Relay1,..,Relay4} > ),\n",
    "        (hop, < t ∈ N/ t <= controller.max_retransmission(), PDR ∈ R/0<=PDR<=1 , id ∈ N/ ∃ r ∈ {Relay1,..,Relay4} > )\n",
    "        };\n",
    "    \n",
    "    X = {(Packet, <N, N_0>),\n",
    "        (UpdateIn, <0> )\n",
    "        }; \n",
    "        \n",
    "    D = {Transmitter, CycleScheduler};\n",
    "    \n",
    "    Md = {  M_Transmitter, M_CycleScheduler};\n",
    "    \n",
    "    EIC = { (<Self,Packet> , <Transmitter, Packet> ), ( <self, UpdateIn>, <CycleScheduler, UpdateIn> ), ( <self, UpdateIn>, <Transmiter, UpdateIn> )};\n",
    "    \n",
    "    EOC = { ( <CycleScheduler, ProtocolOut>, <Self, ProtocolOut> ), ( <Transmitter, ProtocolOut>, <Self, ProtocolOut> ), ( <Transmitter, hop>, <Self,hop> ),  (<Transmitter, retransmit>, <Self,retransmit> )}; \n",
    "    \n",
    "    IC  = { ∅ }; \n",
    "    \n",
    "    select = {CycleScheduler, Transmitter}"
   ]
  },
  {
   "cell_type": "markdown",
   "id": "efc4e99c-ea35-41b8-94af-464d3b55d881",
   "metadata": {},
   "source": [
    "## Atomic Models"
   ]
  },
  {
   "cell_type": "markdown",
   "id": "c11c4a7b-6b5f-4851-ad37-d00917d822c4",
   "metadata": {},
   "source": [
    "### DUE\n",
    "    atomic = <X, Y, S, δ int , δ ext , λ, ta>\n",
    "    \n",
    "    X = { ∅ };\n",
    "    \n",
    "    Y = {(Out, <N,N_0>)];\n",
    "    S = {lambda ∈ R, message_id ∈ N};\n",
    " \n",
    "    δ ext : (S,e,X)  = S;\n",
    "    δ int : (S) = message_id++;\n",
    "    λ: (S) = sendOutput(time, Out, message_id)\n",
    "    ta:(S) = x ~ exp(lambda)"
   ]
  },
  {
   "cell_type": "markdown",
   "id": "818bf948-83d1-4dbf-be98-f41a9f30b5dc",
   "metadata": {},
   "source": [
    "### Transmitter\n",
    "    atomic = <X, Y, S, δ int , δ ext , λ, ta>\n",
    "    \n",
    "    X = {(Packet, <N, N_0>),\n",
    "        (UpdateIn, <0> )\n",
    "        };\n",
    "    \n",
    "    Y = {(ProtocolOut,<windowd ∈ {0,1}^4, type ∈ {0,1}, id ∈ N/ ∃ r ∈ {Relay1,..,Relay4}, PDR(i) ∈ R/0<=PDR(i)<=1 > ),\n",
    "        (retransmit, < t ∈ N/ t <= controller.max_retransmission(), PDR ∈ R/0<=PDR<=1 , outcome ∈ {0,1}, id ∈ N/ ∃ r ∈ {Relay1,..,Relay4} > ),\n",
    "        (hop, < t ∈ N/ t <= controller.max_retransmission(), PDR ∈ R/0<=PDR<=1 , id ∈ N/ ∃ r ∈ {Relay1,..,Relay4} > )\n",
    "        };\n",
    "\n",
    "    S = {send_info ∈ Bool, pdr ∈ R/0<=pdr<=1,  mu ∈ R, H_x_b ∈ R, distance_to_bs ∈ N, devices_maximum_distance ∈ N, packet_size ∈ N, packet_split ∈ N, noise ∈ R, \n",
    "        alpha ∈ R, Px ∈ R, interferance ∈ R, device_density ∈ N, #retransmissions ∈ N};\n",
    "         \n",
    "    δ ext : (S,e,X)  = if ( X == UpdateIn): \n",
    "                            send_info = true\n",
    "                            total ~ Binomial(device_density)\n",
    "                            r ~ Uniform(1, device_maximum_distance)\n",
    "                            h_y_b ~ exp(mu)\n",
    "                            interference = getInterferance(h_y_b, r, alpha, total)\n",
    "                            pdr = getPDR(H_x_b, interference, alpha, Px, distance_to_bs)\n",
    "                            ta(0)\n",
    "                            \n",
    "    δ int : (S) = send_info = false\n",
    "                  passivate()\n",
    "    λ: (S) = relay_id = Port.Influence.modelId()\n",
    "             if(send_info):\n",
    "                sendOutput( msg.time(), ProtocolOut,  <0,0,0,0,1,relayid,pdr>)\n",
    "             else:\n",
    "                choice ~Uniform_Real(0.0, 1.0)\n",
    "                if(choice <= pdr):\n",
    "                    sendOutput( msg.time(), hop, <pdr,#retransmission,relay_id>)\n",
    "                    sendOutput( msg.time(), retransmit, <pdr, #retransmission,0relay_d>)\n",
    "                else\n",
    "                    sendOutput( msg.time(), retransmit, <pdr,#retransmission,1,relay_id>);\n"
   ]
  },
  {
   "cell_type": "markdown",
   "id": "e6a82c0d-1ae1-40fc-acd9-26c6c36cadfe",
   "metadata": {},
   "source": [
    "### CycleScheduler\n",
    "\n",
    "    atomic = <X, Y, S, δ int , δ ext , λ, ta>\n",
    "\n",
    "    X = {(UpdateIn, <0> )};\n",
    "\n",
    "    Y = {(ProtocolOut,<windowd ∈ {0,1}^4, type ∈ {0,1}, id ∈ N/ ∃ r ∈ {Relay1,..,Relay4}, PDR(i) ∈ R/0<=PDR(i)<=1 > ) };\n",
    "\n",
    "    S = {send_info ∈ Bool, cycle_rate ∈ R/0<=cycle_rate<=1, duty_window ∈ {0,1}^4};\n",
    "\n",
    "    δ ext : (S,e,X) = send_info = true\n",
    "\n",
    "    δ int : (S) = send_info = false    \n",
    "                  for(i =0; i<4;i++):\n",
    "                    round ~ Uniform_Real(0.0, 1.0)\n",
    "                    if(round <= cycle_rate):\n",
    "                        duty_window[i] = 1;\n",
    "                    else\n",
    "                        duty_window[i] = 0;\n",
    "\n",
    "    λ: (S) = if(send_info):\n",
    "                 relay_id = ProtocolOut.Influence.modelId\n",
    "                 sendOutput( msg.time(), ProtocolOut, <duty_window, 0, relay_id, 0.0>);\n",
    "    ta:(S) = 1 segundo"
   ]
  },
  {
   "cell_type": "markdown",
   "id": "9f504b91-4266-48a7-a19a-734a66d9b944",
   "metadata": {},
   "source": [
    "### Scheduler\n",
    "\n",
    "    atomic = <X, Y, S, δ int , δ ext , λ, ta>\n",
    "\n",
    "    X = {(ProtocolIn , <window ∈ {0,1}^4, type ∈ {0,1}, id ∈ N/ ∃ r ∈ {Relay1,..,Relay4}, PDR(i) ∈ R/0<=PDR(i)<=1 > ),  \n",
    "        (relayIn, <t ∈ N/ t <= controller.max_retransmission(),outcome ∈ {0,1},id ∈ N/ ∃ r ∈ {Relay1,..,Relay4},PDR(i) ∈ R/0<=PDR(i)<=1 >), \n",
    "        (PacketIn, <N, N_0>)};\n",
    "        \n",
    "    Y = {(relay1Out,<N_0>),\n",
    "        (relay2Out,<N_0>),\n",
    "        (relay3Out,<N_0>),\n",
    "        (relay4Out,<N_0>),\n",
    "        (UpdateOut, <0> ),\n",
    "        (trow, <t ∈ N/ t <= controller.max_retransmission()+1,id ∈ N/ ∃ r ∈ {Relay1,..,Relay4},PDR ∈ R/0<=PDR<=1 >),\n",
    "        (ack, <0>)};\n",
    "         \n",
    "    S = {lambda ∈ R\n",
    "        relay_pdr / ∀Key ∈ relay_pdr.keys(), Key ∈ relay_ids Y 0<= relay_pdr[key] <=1 , \n",
    "        duty_cycle_windows / ∀Key ∈ duty_cycle_windows.keys(), Key ∈ relay_ids Y duty_cycle_windows[Key] ∈ {0,1}^4,\n",
    "        priority / id ∈ priority -> id ∈ relay_ids\n",
    "        maxRetransmission ∈ N\n",
    "        message_identifier ∈ N_0\n",
    "        acknowledge ∈ Bool\n",
    "        wait_for_info ∈ Bool\n",
    "        updates ∈ N_0\n",
    "        #retransmission ∈ N_0\n",
    "        };\n",
    "\n",
    "    δ ext : (S,e,X) = if(X == Packet):\n",
    "                          #retransmission  = msg[1]\n",
    "                          acknowledge = false\n",
    "                          wait_for_info = true\n",
    "                          updates = 0\n",
    "                          ta(0)\n",
    "                      else if( X == ProtocolIn):\n",
    "                          type = msg.type\n",
    "                          relay_identifier = msg.id\n",
    "                          if(type == 0):\n",
    "                              duty_cycle_window[relay_identifier] = msg.window\n",
    "                          else:\n",
    "                              pdr = msg.pdr\n",
    "                              relay_pdr[relay_identifier] = pdr\n",
    "                          updates++\n",
    "                          if(updates == 8):\n",
    "                              choose_priority(relay_pdr, duty_cycle_window , priority)\n",
    "                              wait_for_info = false;\n",
    "                              ta(0)\n",
    "                      else:\n",
    "                          outcome = msg.outcome\n",
    "                          #retransmission = msg.t\n",
    "                          if(outcome == 0):\n",
    "                              acknowledge = true;\n",
    "                          else:\n",
    "                              acknowledge = false;\n",
    "                          ta(0)\n",
    "\n",
    "    δ int : (S) = passivate();\n",
    "\n",
    "    λ: (S) = if(wait_for_info):\n",
    "                if(updates == 0):\n",
    "                    sendOutput(msg.time(), ProtocolOut, 0 )\n",
    "             else:\n",
    "                outRelay =  priority[#retransmission];\n",
    "                while(outRelay == 0 &&  priority.size() > #retransmission):\n",
    "                     #retransmission++\n",
    "                     outRelay =priority[#retransmission];\n",
    "                else if(maxRetransmission > #retransmission && outRelay != 0)\n",
    "\n",
    "            if(!this->acknowledge){\n",
    "\t\t\t\t\tthis->number_of_retransmission = this->number_of_retransmission + Real(1);\n",
    "\t\t\t\t\tstd::cout << \"selecting...\" << endl;\n",
    "\t\t\t\t\tstd::cout << \"selected Relay: \" << outRelay << endl; \n",
    "\t\t\t\t\tstd::cout << \"Port: \" <<this->port_hash[outRelay]->id() << endl; \n",
    "\t\t\t\t\tstd::cout << \"message transmitted\" << endl;\n",
    "\t\t\t\t\tsendOutput(msg.time(), *this->port_hash[outRelay] , this->number_of_retransmission);\n",
    "\t\t\t\t\t\n",
    "\t\t\t\t}else{\n",
    "\t\t\t\t\tstd::cout << \"delivered/listening for package\" << endl;\n",
    "\t\t\t\t\tsendOutput(msg.time(), ack, Real(0) );\n",
    "\t\t\t\t}\n",
    "\n",
    "\t\t\t}else{\n",
    "\t\t\t\tTuple<Real> trow_info{this->relay_pdr[this->message_identifier], this->number_of_retransmission,  this->message_identifier};\n",
    "\t\t\t\tsendOutput(msg.time(), ack, Real(0) );\n",
    "\t\t\t\tsendOutput(msg.time(),trow, trow_info);\n",
    "\t\t\t}\n",
    "\n",
    "\n",
    "\t}"
   ]
  },
  {
   "cell_type": "code",
   "execution_count": null,
   "id": "75496ce9-d396-4bc1-85b3-9d9efffa8334",
   "metadata": {},
   "outputs": [],
   "source": []
  }
 ],
 "metadata": {
  "kernelspec": {
   "display_name": "Python 3 (ipykernel)",
   "language": "python",
   "name": "python3"
  },
  "language_info": {
   "codemirror_mode": {
    "name": "ipython",
    "version": 3
   },
   "file_extension": ".py",
   "mimetype": "text/x-python",
   "name": "python",
   "nbconvert_exporter": "python",
   "pygments_lexer": "ipython3",
   "version": "3.8.10"
  }
 },
 "nbformat": 4,
 "nbformat_minor": 5
}
