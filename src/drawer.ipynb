{
 "cells": [
  {
   "cell_type": "markdown",
   "id": "d62e1fcc-c45a-425e-8b4a-d5ad4c0a4d5e",
   "metadata": {
    "slideshow": {
     "slide_type": "slide"
    },
    "tags": []
   },
   "source": [
    "# DEVS SIMULATION MODEL TO EVALUATE PERFORMANCE OF D2D/NB-IOT COMMUNICATIONS "
   ]
  },
  {
   "cell_type": "markdown",
   "id": "539788c3-7cc5-4d92-9f6d-b6d2916d7ebd",
   "metadata": {},
   "source": [
    "# Outline\n",
    "\n",
    "* [Introducción](#intro)\n",
    "  * [What is IoT?](#iot)\n",
    "  * [What is D2D?](#d2d)\n",
    "  * [What is NB-IoT?](#nb-iot)\n",
    "  * [D2D-NB-IoT](#d2d-nb-iot)\n",
    "  * [Objective](#objective)\n",
    "  * [Performance parameters](#parameters)\n",
    "      * [Distances between devices](#distance)\n",
    "      * [Obstacle density](#obstacle)\n",
    "      * [Transmission’s scheduling](#scheduling)\n",
    "      * [Interfering device density](#interference)\n",
    "  * [Model](#model)"
   ]
  },
  {
   "cell_type": "markdown",
   "id": "0f2de52f-36ed-441a-854e-669a78c94df1",
   "metadata": {},
   "source": [
    "<a id='iot'></a>\n",
    "# Wha is IoT?\n"
   ]
  },
  {
   "cell_type": "markdown",
   "id": "5f325ab5-9fbd-4b82-a049-6d1d334a8746",
   "metadata": {},
   "source": [
    "<center><img src=\"img/iot.jpg\" width=\"600\"></center>"
   ]
  },
  {
   "cell_type": "markdown",
   "id": "c6a2cd09-368a-49ed-adce-252dfee7bf9a",
   "metadata": {},
   "source": [
    "# Internet of Things\n",
    "   * Grouping and interconnection of devices and objects through a network.\n",
    "   * All of them could be visible and interact.\n",
    "   * They could be sensors and mechanical devices and everyday objects such as the refrigerator, footwear or clothing.\n",
    "   * Anything that can be imagined could be connected to the internet and interact without the need for human intervention.\n",
    "   * Machine-to-Machine (M2M) or Device-to-Device (D2D) interaction."
   ]
  },
  {
   "cell_type": "markdown",
   "id": "bc7ecd8f-1a84-48dc-a2e9-6cd6411483b4",
   "metadata": {},
   "source": [
    "<a id='d2d'></a>\n",
    "# What is D2D?"
   ]
  },
  {
   "cell_type": "markdown",
   "id": "153ffc5d-2d38-46e4-855c-d236813e9ae1",
   "metadata": {},
   "source": [
    "<center><img src=\"img/d2d.png\" width=\"600\"></center>"
   ]
  },
  {
   "cell_type": "markdown",
   "id": "89e3246e-6a29-4610-bf79-1bbfb7aa2952",
   "metadata": {},
   "source": [
    "# Device to Device communications\n",
    "In classical network all communications must go through a base station even when two devices are in range of stablishing a connection.\n",
    "Device to Device communication is defined as a direct communication between two users without traversing\n",
    "the Base Station improving the spectral efficency, throughput,\n",
    "energy efficiency, delay, and fairness by offloading traffic from the core network.\n",
    "We focus on Inband implementations where lincensed cellular frequencies are used thus interference between devices and cellular links must be modeled."
   ]
  },
  {
   "cell_type": "markdown",
   "id": "4663c7b2-48e9-4e02-afa9-bcd78db1a02d",
   "metadata": {},
   "source": [
    "<a id='nb-iot'></a>\n",
    "# What is NB-IoT?"
   ]
  },
  {
   "cell_type": "markdown",
   "id": "2f7ce019-84cd-43cd-bf41-efd52206e3b2",
   "metadata": {},
   "source": [
    "<center><img src=\"img/nbiot.png\" width=\"600\"></center>"
   ]
  },
  {
   "cell_type": "markdown",
   "id": "91e606a2-2c4f-48d7-a747-129414026c1b",
   "metadata": {},
   "source": [
    "# Narrow Band in Internet of Things\n",
    "   Narrow Band networks use a small bandwidth in a known cellular spectrum to transmit data at high fault resistance and lower power consumption.\n",
    "   * A standards-based low power wide area (LPWA) technology.\n",
    "   * Cellular technologie: 5G.\n",
    "   * Enable a wide range of new IoT devices and services.\n",
    "   * Significantly improves the power consumption of user devices, system capacity and spectrum efficiency, especially in deep coverage.\n",
    "   * Battery life of more than 10 years.\n",
    "   * It can co-exist with 2G, 3G, and 4G mobile networks.\n",
    "   \n",
    "Although one of the main characteristics of this technology is wide coverage, it's starts facing issues under high device density areas and long distance communications."
   ]
  },
  {
   "cell_type": "markdown",
   "id": "e8a94608-6c9f-46ec-91fc-803514b14abc",
   "metadata": {},
   "source": [
    "<a id='d2d-nb-iot'></a>\n",
    "# D2D in NB-IoT"
   ]
  },
  {
   "cell_type": "markdown",
   "id": "296ab694-e338-4a03-9c57-1dc93629fdbe",
   "metadata": {},
   "source": [
    "<center><img src=\"img/antenas_relays2.png\" width=\"600\"></center>"
   ]
  },
  {
   "cell_type": "markdown",
   "id": "072b9dc2-6e22-41fa-871a-82269000b6e8",
   "metadata": {
    "tags": []
   },
   "source": [
    "# Device to Device in Narrow Band Internet of Things\n",
    "Given the connectivity issues NB-IoT presents, D2D solutions were suggested for achieving coverage between far devices more over improving QoS.\n",
    "The D2D protocol establish a 2 hop route between devices out of coverage of the base station (DUE) and the base station(BS) by means of selecting a second device connected to the BS (UE) in range of the DUE as relay.   \n",
    "   * D2D comunication to not-coveraged devices.\n",
    "   * NB-IoT full communication.\n",
    "   * Coveraged area extended.\n",
    "\n",
    "   "
   ]
  },
  {
   "cell_type": "markdown",
   "id": "4d0efd19-48a5-4d1a-8a10-c33cf9b68431",
   "metadata": {},
   "source": [
    "<a id='objective'></a>\n",
    "# Objective"
   ]
  },
  {
   "cell_type": "markdown",
   "id": "6690c87b-6998-402b-9945-251b8756f15a",
   "metadata": {},
   "source": [
    "We would like to evaluate the QoS of D2D NB-IoT communications given a relay selection policy under physical characteristics of the network"
   ]
  },
  {
   "cell_type": "markdown",
   "id": "c3e9dddd-821d-4766-a765-303ffe66993c",
   "metadata": {},
   "source": [
    "<a id='parameters'></a>\n",
    "# Performance Parameters"
   ]
  },
  {
   "cell_type": "markdown",
   "id": "2083dc3e-514b-46bd-9a87-ca9f96fb891f",
   "metadata": {},
   "source": [
    "<a id='distance'></a>\n",
    "## Distance between devices"
   ]
  },
  {
   "cell_type": "markdown",
   "id": "5d0ff0db-e3f4-42a5-a2c0-3016fe1bbedb",
   "metadata": {},
   "source": [
    "<center><img src=\"img/distances.png\" width=\"700\"></center>"
   ]
  },
  {
   "cell_type": "markdown",
   "id": "e626fe80-441e-4e53-9ce0-cbb20450de10",
   "metadata": {},
   "source": [
    "* Rayleigh Model is the l parameter\n",
    "* Long distance “ą low quality communications\"."
   ]
  },
  {
   "cell_type": "markdown",
   "id": "05189255-b1c6-4698-a752-ec9085c26303",
   "metadata": {},
   "source": [
    "<a id='obstacle'></a>\n",
    "## Obstacle Density"
   ]
  },
  {
   "cell_type": "markdown",
   "id": "f2f8798d-a8c2-414a-8674-5eee9ce6d03d",
   "metadata": {},
   "source": [
    "<center><img src=\"img/urban_suburban.png\" width=\"600\"></center>"
   ]
  },
  {
   "cell_type": "markdown",
   "id": "327ed569-219d-4788-b602-c7af6bdc8687",
   "metadata": {},
   "source": [
    "* In the Rayleigh Model is the α parameter.\n",
    "* Urban scenario: High density of obstacles.\n",
    "* Suburban scenario: Low density of obstacles."
   ]
  },
  {
   "cell_type": "markdown",
   "id": "3c17bcde-c908-4ae6-9ff9-345e7b49bceb",
   "metadata": {},
   "source": [
    "<a id='scheduling'></a>\n",
    "## Transmission’s scheduling"
   ]
  },
  {
   "cell_type": "markdown",
   "id": "37740dc7-585e-4914-9cb4-b5917ecd2758",
   "metadata": {},
   "source": [
    "<center><img src=\"img/scheduling.png\" width=\"600\"></center>"
   ]
  },
  {
   "cell_type": "markdown",
   "id": "e625b4e2-511b-4b07-821a-31e6d350b819",
   "metadata": {},
   "source": [
    "* NB-IoT parameters.\n",
    "* Repetitions: Several messages in the transmission.\n",
    "* Retransmissions: Several transmission of the same messages."
   ]
  },
  {
   "cell_type": "markdown",
   "id": "c04c1e5e-62f4-4c56-b518-a4d836f47754",
   "metadata": {},
   "source": [
    "<a id='interference'></a>\n",
    "## Interfering device density"
   ]
  },
  {
   "cell_type": "markdown",
   "id": "c10bf4f5-3d78-447e-a0a8-eae3dfa566b2",
   "metadata": {},
   "source": [
    "<center><img src=\"img/interference.png\" width=\"600\"></center>"
   ]
  },
  {
   "cell_type": "markdown",
   "id": "9d5c59c1-8652-43b1-b517-c9d318d5dc31",
   "metadata": {},
   "source": [
    "<a id='model'></a>\n",
    "# Model"
   ]
  },
  {
   "cell_type": "markdown",
   "id": "426da8b9-6ff1-4a13-9775-05906882f108",
   "metadata": {},
   "source": [
    "## Chanels\n",
    "We are studying device-to-device (D2D) communications in an NB-IoT context, and we define the fading Rayleigh as channel model whose signal-to-noise ratio with interference (SINR) is used to calculate the packet delivery ratio (PDR), to both D2D communication and for device-to-base station communication. PDR represents a probability of successful packet delivery, and multiple devices within the base station's coverage area are used to forward packets from out-of-area devices.\n",
    "\n",
    "* __Relays__ : \n",
    "    * Duty cycle windows of fixed size segmented by intervals of maximum transmission time in which the device is in state D2D or cellular. \n",
    "    * Using a MonteCarlo process, calculate if a transmission is sucessful given its PDR (including D2D and D2BS comunication).\n",
    "    * Consider information about the obstacles and interfirence devices density relative to each relay and the BS.\n",
    "    * The interference is Random generated as vectors of the other devices to each relay and to the BS.\n",
    "* __DUE__ \n",
    "    * Packets are transmitted between intervals following a exponential distribution (Poisson proccess).\n",
    "* __BS__\n",
    "    * Recieves the packets to generates data necessary to calculate Expected Delivery Ratio (EDR) as quality measure.\n"
   ]
  },
  {
   "cell_type": "markdown",
   "id": "1145916a-4176-4d89-b040-23520aaa95b8",
   "metadata": {},
   "source": [
    "### Relay Scheduling\n",
    "The relay selection is based considering comibined PDR in D2D and D2BS communication. Whenever a transmission to BS fails the scheduler is notified and chooses the next relay to transmit the message up to a maximum of N retransmissions.\n",
    "\n",
    "* Controller\n",
    "    * Message FIFO Queue for DUE arrivals and relays retransmission. \n",
    "    * Relay Selector using PDR weigthed score dinamycaly updated on relay delivery failure.\n",
    "    * On message retrieval from the queue the N retransmission schema is timed based on each relay duty cycle window. For each time interval T1,...,TN the highest priority relay whose D2D cycle is active is scheduled for potential retransmission.\n",
    "    * On message successful delivery or message loss, asks for updates in relay's duty cycle window and PDR\n"
   ]
  },
  {
   "cell_type": "markdown",
   "id": "55a40918-bfd7-407f-b1f0-c2de311ac092",
   "metadata": {},
   "source": [
    "<img src=\"img/scheduler.png\" width=\"600\">"
   ]
  },
  {
   "cell_type": "markdown",
   "id": "85ac5f50-2334-4514-974b-e7ae800f5c1e",
   "metadata": {},
   "source": [
    "<a id='devs'></a>\n",
    "# Coupled Model "
   ]
  },
  {
   "cell_type": "markdown",
   "id": "9c175af0-8f40-4c38-be2d-736686a3b2db",
   "metadata": {},
   "source": [
    "* The top model is composed by:\n",
    "    * Atomic DUE \n",
    "    * Atomic Base Station \n",
    "    * Relay-hop coupled model where relay policy logic is implemented.\n",
    "        1. K atomic relays (for this assignment we limit the number at 4 to 6 and improve upon it the second part of the course)\n",
    "        2. Controller coupled model\n",
    "            * Atomic message FIFO Queue\n",
    "            * Atomic Relay Selector"
   ]
  },
  {
   "cell_type": "markdown",
   "id": "30b822bc-9428-4e44-af04-8a38b3faf25b",
   "metadata": {},
   "source": [
    "<p float = \"left\">\n",
    "    <img src=\"img/devsmodel.jpeg\" width=\"50%\"></left>\n",
    "    <p></p>\n",
    "    <img src=\"img/Controller.png\" width=\"32%\"></right>\n",
    "</p>"
   ]
  },
  {
   "cell_type": "markdown",
   "id": "66a02acc-2456-4710-980c-a4e160acff85",
   "metadata": {},
   "source": [
    "<a id='specification'></a>\n",
    "# DEVS Model Specification "
   ]
  },
  {
   "cell_type": "markdown",
   "id": "04d73b97-9232-41c8-8f92-19a20d57d4f3",
   "metadata": {},
   "source": [
    "### NB-IOT TOP MODEL\n",
    "\n",
    "     Coupled Model <X, Y, D, {Md]d D}, EIC, EOC, IC, select >\n",
    "\n",
    "    IPorts = {packet_port, success_port, failed_port}\n",
    "    OPorts = {out, transmission_port, trow_port, deliver_port}\n",
    "\n",
    "    X = {(packet_port,<N,N_0>), (succes_port,<N_0,N_0,PDR ∈ R/0<=PDR<=1), (failed_port,<N_0,N_0,PDR ∈ R/0<=PDR<=1)};\n",
    "    \n",
    "    Y = {(out,  < EDR ∈ R >), (transmission_port, <N,N_0>), (trow_port, <N,N_0,R+>),  (deliver_port, <N,N_0,R+>), (out,  < EDD ∈ R >)  };\n",
    "    \n",
    "    D = {DUE, Relay Hop System, Stats};\n",
    "    \n",
    "    Md = {  M_DUE, M_Relay_Hop_System, M_Stats };\n",
    "    \n",
    "    EIC = { ∅ };\n",
    "    \n",
    "    EOC = { ( <Stats, out>, <Self, out> ) }; \n",
    "    \n",
    "    IC  = { ( <DUE, packet_port>, <Relay Hop System, transmission_port>), (<Relay Hop System,trow_port>, <Stats, failed_port>), (<Relay Hop System, deliver_port>, <Stats, success_port>)    }; \n",
    "    \n",
    "    select = {DUE, Relay Hop System, Stats}\n",
    "    \n",
    "### Relay Hop System\n",
    "\n",
    "    Coupled Model <X, Y, D, {Md]d D}, EIC, EOC, IC, select\n",
    "\n",
    "    IPorts = {packet_port, in, relayIn, updateIn}\n",
    "    OPorts = {relay1Out, relay2Out, relay3Out, relay4Out, protocol, updateOut, hop, trow, stats}\n",
    "\n",
    "    Y = {(relayiOut,<N_0>), (update,<{0,1},id ∈ N/ ∃ r ∈ {Relay1,..,Relay4}, r.id = id > ), \n",
    "    (protocol,<t ∈ N/ t <= controller.max_retransmission()+1,{0,1},id ∈ N/ ∃ r ∈ {Relay1,..,Relay4},PDR(i) ∈ R/0<=PDR(i)<=1 > ), \n",
    "    (hop, <t ∈ N/ t <= controller.max_retransmission()+1,id ∈ N/ ∃ r ∈ {Relay1,..,Relay4},PDR ∈ R/0<=PDR<=1 > ), \n",
    "    (trow, <t ∈ N/ t <= controller.max_retransmission()+1,id ∈ N/ ∃ r ∈ {Relay1,..,Relay4},PDR ∈ R/0<=PDR<=1 >),\n",
    "    (stats, <t ∈ N/ t <= controller.max_retransmission()+1,id ∈ N/ ∃ r ∈ {Relay1,..,Relay4},PDR ∈ R/0<=PDR<=1 >)};\n",
    "    \n",
    "    X = {(updateIn , <t ∈ N/ t <= controller.max_retransmission()+1,{0,1},id ∈ N/ ∃ r ∈ {Relay1,..,Relay4},PDR(i) ∈ R/0<=PDR(i)<=1 > ),\n",
    "        (relayIn, t ∈ N/ t <= controller.max_retransmission()+1,{0,1},id ∈ N/ ∃ r ∈ {Relay1,..,Relay4},PDR(i) ∈ R/0<=PDR(i)<=1 >), \n",
    "        (packet_port, <N, N_0>),  \n",
    "        (in, <N, N_0>)};\n",
    "    \n",
    "    D = {Controller, Relay1, Relay2, Relay3, Relay4};\n",
    "    \n",
    "    Md = {  M_Controller, M_Relay};\n",
    "    \n",
    "    EIC = { (<Self,in> , <Controller, packet_port> ) };\n",
    "    \n",
    "    EOC = { ( <Relayi, hop>, <Self, stats> ), ( <Controller, trow>, <Self, stats> )}; \n",
    "    \n",
    "    IC  = {  <Controller, RelayiOut>, <Relayi, packet_port> ), ( <Relayi, updateOut>, <Controller,updateIn> ), ( <Relayi, protocol>, <Controller,relayIn> )    }; \n",
    "    \n",
    "    select = {Relay1,Relay2,Relay3,Relay4 Controller}\n",
    "    \n",
    "### Controller\n",
    "\n",
    "    Coupled Model <X, Y, D, {Md]d D}, EIC, EOC, IC, select\n",
    "\n",
    "    IPorts = {in, done, PacketIn, relayIn, updateIn}\n",
    "    OPorts = {relay1Out, relay2Out, relay3Out, relay4Out, trow, ack, out}\n",
    "\n",
    "    Y = {(relayiOut,<N_0>), \n",
    "    (updateIn,<{0,1},id ∈ N/ ∃ r ∈ {Relay1,..,Relay4}, r.id = id > ),  \n",
    "    (trow, <t ∈ N/ t <= controller.max_retransmission()+1,id ∈ N/ ∃ r ∈ {Relay1,..,Relay4},PDR ∈ R/0<=PDR<=1 >),\n",
    "    (ack, <0>)};\n",
    "    (out, <N, N_0>)};\n",
    "    \n",
    "    X = {(in ,  <N, N_0> ),\n",
    "        (done, <0>), \n",
    "        (updateIn, <t ∈ N/ t <= Scheduler.max_retransmission()+1,{0,1},id ∈ N/ ∃ r ∈ {Relay1,..,Relay4},PDR(i) ∈ R/0<=PDR(i)<=1 >),  \n",
    "        (relayIn, <t ∈ N/ t <= controller.max_retransmission()+1,{0,1},id ∈ N/ ∃ r ∈ {Relay1,..,Relay4},PDR(i) ∈ R/0<=PDR(i)<=1 >), \n",
    "        (PacketIn, <N>)};\n",
    "    \n",
    "    D = {Fifo, Scheduler};\n",
    "    \n",
    "    Md = {  M_Queue, M_Scheduler};\n",
    "    \n",
    "    EIC = { (<Self,in> , <Fifo, in> ), ( <self, updateIn>, <Scheduler,updateIn> ), ( <self, relayIn>, <Controller,relayIn> ) };\n",
    "    \n",
    "    EOC = { ( <Scheduler, trow>, <Self, trow> ), ( <Scheduler, relayiOut>, <Self, relayiOut> )}; \n",
    "    \n",
    "    IC  = {  <Controller, ack>, <Fifo, donde> ), (<Fifo, out>, <Scheduler, PacketIn>), }; \n",
    "    \n",
    "    select = {FiFo Scheduler}\n",
    "    \n",
    "    \n",
    "### Relay\n"
   ]
  },
  {
   "cell_type": "markdown",
   "id": "e6acc977-9874-4481-922e-4affd769c470",
   "metadata": {},
   "source": [
    "### DUE\n",
    "\n",
    "\n",
    "\n",
    "### Cycle Scheduler\n",
    "### Transmitter\n",
    "### Controller Queue\n",
    "\n",
    "### Relay\n",
    "### Relay Scheduling"
   ]
  },
  {
   "cell_type": "code",
   "execution_count": null,
   "id": "c3f64fc6-b92b-4d8c-a9d8-33002686eefe",
   "metadata": {},
   "outputs": [],
   "source": []
  },
  {
   "cell_type": "code",
   "execution_count": 1,
   "id": "f8302615-9b54-43d2-93b0-7129173f3dc1",
   "metadata": {},
   "outputs": [],
   "source": [
    "from pathlib import Path\n",
    "\n",
    "SED_HOME = Path.home().joinpath('SED')\n",
    "\n",
    "#Directorio base donde está instalado el siumulador\n",
    "CDPP_DIR = SED_HOME.joinpath('CDPP_ExtendedStates-codename-Santi')\n",
    "\n",
    "CDPP_SRC = CDPP_DIR.joinpath('src')\n",
    "CDPP_EXAMPLES = CDPP_DIR.joinpath('examples')\n",
    "CDPP_SCRIPTS = CDPP_DIR.joinpath('scripts')\n",
    "BASE_BIN = CDPP_SRC.joinpath('bin')"
   ]
  },
  {
   "cell_type": "code",
   "execution_count": 2,
   "id": "e70ab2a3-545d-41c8-8db9-8707cb971cdb",
   "metadata": {},
   "outputs": [
    {
     "name": "stdout",
     "output_type": "stream",
     "text": [
      "[top]\n",
      "components : Due@due  relaySYSTEM\n",
      "out : out_port\n",
      "link : out@due in@relaySYSTEM\n",
      "link : out@relaySYSTEM out_port\n",
      "\n",
      "[relaySYSTEM]\n",
      "components : Relay1 Relay2 Relay3 Relay4 controller\n",
      "out : out stats\n",
      "in : in   \n",
      "Link :  relay1Out@controller packetPort@Relay1\n",
      "Link :  relay2Out@controller packetPort@Relay2\n",
      "Link :  relay3Out@controller packetPort@Relay3\n",
      "Link :  relay4Out@controller packetPort@Relay4\n",
      "Link :  protocol@Relay1 relayIn@controller\n",
      "Link :  protocol@Relay2 relayIn@controller  \n",
      "Link :  protocol@Relay3 relayIn@controller  \n",
      "Link :  protocol@Relay4 relayIn@controller\n",
      "Link :  updatePort@Relay1 protocolPort@controller\n",
      "Link :  updatePort@Relay2 protocolPort@controller  \n",
      "Link :  updatePort@Relay3 protocolPort@controller  \n",
      "Link :  updatePort@Relay4 protocolPort@controller  \n",
      "Link : in in@controller\n",
      "Link : hop@Relay1 out\n",
      "Link : hop@Relay2 out\n",
      "Link : hop@Relay3 out\n",
      "Link : hop@Relay4 out\n",
      "Link : trow@controller stats\n",
      "\n",
      "[controller]\n",
      "components : fifo@Queue Selector@scheduler\n",
      "out : relay1Out relay2Out relay3Out relay4Out trow\n",
      "in :  in relayIn protocolPort\n",
      "Link : out@fifo queuePort@Selector\n",
      "Link : ack@Selector done@fifo\n",
      "Link : relay1Out@Selector relay1Out\n",
      "Link : relay2Out@Selector relay2Out\n",
      "Link : relay3Out@Selector relay3Out\n",
      "Link : relay4Out@Selector relay4Out\n",
      "Link : relayIn relayIn@Selector \n",
      "Link : protocolPort protocolPort@Selector \n",
      "Link : trow@Selector trow\n",
      "Link : in in@fifo\n",
      "\n",
      "\n",
      "\n",
      "[Relay1]\n",
      "components : Transmitter1@transmitter CycleDuty1@cycleScheduler\n",
      "out : hop protocol updatePort \n",
      "in :  packetPort  \n",
      "Link : packetPort packetPort@Transmitter1\n",
      "Link : hop@Transmitter1 hop\n",
      "Link : updatePort@CycleDuty1 updatePort\n",
      "Link : protocol@Transmitter1 protocol\n",
      "\n",
      "[Relay2]\n",
      "components : Transmitter2@transmitter CycleDuty2@cycleScheduler\n",
      "out : hop protocol updatePort \n",
      "in :  packetPort  \n",
      "Link : packetPort packetPort@Transmitter2\n",
      "Link : hop@Transmitter2 hop\n",
      "Link : updatePort@CycleDuty2 updatePort\n",
      "Link : protocol@Transmitter2 protocol\n",
      "\n",
      "[Relay3]\n",
      "components : Transmitter3@transmitter CycleDuty3@cycleScheduler\n",
      "out : hop protocol updatePort \n",
      "in :  packetPort  \n",
      "Link : packetPort packetPort@Transmitter3\n",
      "Link : hop@Transmitter3 hop\n",
      "Link : updatePort@CycleDuty3 updatePort\n",
      "Link : protocol@Transmitter3 protocol\n",
      "\n",
      "[Relay4]\n",
      "components : Transmitter4@transmitter CycleDuty4@cycleScheduler\n",
      "out : hop protocol updatePort \n",
      "in :   packetPort  \n",
      "Link : packetPort packetPort@Transmitter4\n",
      "Link : hop@Transmitter4 hop\n",
      "Link : updatePort@CycleDuty4 updatePort\n",
      "Link : protocol@Transmitter4 protocol\n",
      "\n",
      "\n",
      "\n",
      "[Due]\n",
      "lambda : 0.5\n",
      "\n",
      "[Transmitter1]\n",
      "mu : 1.5\n",
      "r : 10\n",
      "size : 4\n",
      "l: 2\n",
      "noise : 50\n",
      "alpha : 1.3\n",
      "Px : 13\n",
      "device_density : 500\n",
      "tau : 10\n",
      "\n",
      "[Transmitter2]\n",
      "mu : 1.5\n",
      "r : 10\n",
      "size : 4\n",
      "l: 2\n",
      "noise : 50\n",
      "alpha : 1.3\n",
      "Px : 13\n",
      "device_density : 500\n",
      "tau : 10\n",
      "\n",
      "[Transmitter3]\n",
      "mu : 1.5\n",
      "r : 10\n",
      "size : 4\n",
      "l: 2\n",
      "noise : 50\n",
      "alpha : 1.3\n",
      "Px : 13\n",
      "device_density : 500\n",
      "tau : 10\n",
      "\n",
      "[Transmitter4]\n",
      "mu : 1.5\n",
      "r : 10\n",
      "size : 4\n",
      "l: 2\n",
      "noise : 50\n",
      "alpha : 1.3\n",
      "Px : 13\n",
      "device_density : 500\n",
      "tau : 10\n",
      "\n",
      "[CycleDuty1]\n",
      "c : 0.2\n",
      "\n",
      "[CycleDuty2]\n",
      "c : 0.2\n",
      "\n",
      "[CycleDuty3]\n",
      "c : 0.2\n",
      "\n",
      "[CycleDuty4]\n",
      "c : 0.2\n",
      "\n",
      "[Selector]\n",
      "N : 4\n",
      "\n",
      "[fifo]\n",
      "preparation : ''\n"
     ]
    }
   ],
   "source": [
    "%%bash -s \"$CDPP_EXAMPLES\"\n",
    "\n",
    "cd $1/D2D/model/\n",
    "\n",
    "cat D2D.ma"
   ]
  },
  {
   "cell_type": "code",
   "execution_count": 3,
   "id": "b56cd2e0-adfe-423c-b884-bb514242de0b",
   "metadata": {},
   "outputs": [
    {
     "name": "stdout",
     "output_type": "stream",
     "text": [
      "PCD++: A Tool to Implement n-Dimensional Cell-DEVS models\n",
      "Version 3.0 - March 2003\n",
      "Troccoli A., Rodriguez D., Wainer G., Barylko A., Beyoglonian J., Lopez A.\n",
      "-----------------------------------------------------------------------------\n",
      "PCD++ Extended States: An extended and improved version of CD++ for Cell-DEVS\n",
      "Version 4.1.2 - December 2018\n",
      "Santi L., Castro, R., Pimás, J.\n",
      "-----------------------------------------------------------------------------\n",
      "Discrete Event Simulation Lab\n",
      "Departamento de Computación\n",
      "Facultad de Ciencias Exactas y Naturales\n",
      "Universidad de Buenos Aires, Argentina\n",
      "-----------------------------------------------------------------------------\n",
      "Compiled for standalone simulation\n",
      "\n",
      "\n",
      "Loading models from D2D.ma\n",
      "Loading events from D2D.ev\n",
      "Running parallel simulation. Reading models partition from \n",
      "Model partition details output to: /dev/null*\n",
      "Message log: D2D.log\n",
      "Output to: D2D.out\n",
      "Tolerance set to: 1e-08\n",
      "Configuration to show real numbers: Width = 12 - Precision = 5\n",
      "Quantum: Not used\n",
      "Evaluate Debug Mode = OFF\n",
      "Flat Cell Debug Mode = OFF\n",
      "Debug Cell Rules Mode = OFF\n",
      "Aborting simulation...\n"
     ]
    },
    {
     "name": "stderr",
     "output_type": "stream",
     "text": [
      "Exception AssertException thrown!\n",
      "Description: Invalid assertion\n",
      "Thrown in: \n",
      "\tFile: macroexp.cpp - Method: expand - Line: 158\n",
      "Description: \n",
      "\tfileIn != NULL\n",
      "\tCan't open the file D2D.ma\n"
     ]
    }
   ],
   "source": [
    "%%bash -s \"$CDPP_EXAMPLES\"\n",
    "\n",
    "cd $1/D2D/\n",
    "\n",
    "../../src/bin/cd++ -m D2D.ma  \\\n",
    "                   -l D2D.log \\\n",
    "                   -e D2D.ev  \\\n",
    "                   -o D2D.out"
   ]
  },
  {
   "cell_type": "code",
   "execution_count": null,
   "id": "2a538ae0-6279-48df-b472-e2de8d0fcdbd",
   "metadata": {},
   "outputs": [],
   "source": []
  }
 ],
 "metadata": {
  "kernelspec": {
   "display_name": "Python 3 (ipykernel)",
   "language": "python",
   "name": "python3"
  },
  "language_info": {
   "codemirror_mode": {
    "name": "ipython",
    "version": 3
   },
   "file_extension": ".py",
   "mimetype": "text/x-python",
   "name": "python",
   "nbconvert_exporter": "python",
   "pygments_lexer": "ipython3",
   "version": "3.8.10"
  }
 },
 "nbformat": 4,
 "nbformat_minor": 5
}
