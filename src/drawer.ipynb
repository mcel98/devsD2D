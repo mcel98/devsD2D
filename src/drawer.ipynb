{
 "cells": [
  {
   "cell_type": "markdown",
   "id": "d62e1fcc-c45a-425e-8b4a-d5ad4c0a4d5e",
   "metadata": {
    "slideshow": {
     "slide_type": "slide"
    },
    "tags": []
   },
   "source": [
    "# DEVS SIMULATION MODEL TO EVALUATE PERFORMANCE OF D2D/NB-IOT COMMUNICATIONS "
   ]
  },
  {
   "cell_type": "code",
   "execution_count": 3,
   "id": "0bbc6d99-34b8-45d6-94b5-19f3e4069815",
   "metadata": {},
   "outputs": [
    {
     "data": {
      "text/html": [
       "\n",
       "        <iframe\n",
       "            width=\"100%\"\n",
       "            height=\"1000px\"\n",
       "            src=\"visualPage.html\"\n",
       "            frameborder=\"0\"\n",
       "            allowfullscreen\n",
       "        ></iframe>\n",
       "        "
      ],
      "text/plain": [
       "<IPython.lib.display.IFrame at 0x7fa82031f400>"
      ]
     },
     "execution_count": 3,
     "metadata": {},
     "output_type": "execute_result"
    }
   ],
   "source": [
    "from IPython.display import IFrame\n",
    "IFrame(src=\"visualPage.html\", width='100%', height='1000px')"
   ]
  },
  {
   "cell_type": "markdown",
   "id": "539788c3-7cc5-4d92-9f6d-b6d2916d7ebd",
   "metadata": {},
   "source": [
    "# Outline\n",
    "\n",
    "* [Introducción](#intro)\n",
    "  * [What is IoT?](#iot)\n",
    "  * [What is D2D?](#d2d)\n",
    "  * [What is NB-IoT?](#nb-iot)\n",
    "  * [D2D-NB-IoT](#d2d-nb-iot)\n",
    "  * [Performance parameters](#parameters)\n",
    "      * [Distances between devices](#distance)\n",
    "      * [Obstacle density](#obstacle)\n",
    "      * [Transmission’s scheduling](#scheduling)\n",
    "      * [Interfering device density](#interference)\n",
    "  * [DEVS Simulation Model](#devs)"
   ]
  },
  {
   "cell_type": "markdown",
   "id": "0f2de52f-36ed-441a-854e-669a78c94df1",
   "metadata": {},
   "source": [
    "<a id='iot'></a>\n",
    "# Wha is IoT?\n"
   ]
  },
  {
   "cell_type": "markdown",
   "id": "5f325ab5-9fbd-4b82-a049-6d1d334a8746",
   "metadata": {},
   "source": [
    "<center><img src=\"img/iot.jpg\" width=\"600\"></center>"
   ]
  },
  {
   "cell_type": "markdown",
   "id": "c6a2cd09-368a-49ed-adce-252dfee7bf9a",
   "metadata": {},
   "source": [
    "# Internet of Things\n",
    "   * Grouping and interconnection of devices and objects through a network.\n",
    "   * All of them could be visible and interact.\n",
    "   * They could be sensors and mechanical devices and everyday objects such as the refrigerator, footwear or clothing.\n",
    "   * Anything that can be imagined could be connected to the internet and interact without the need for human intervention.\n",
    "   * Machine-to-Machine (M2M) or Device-to-Device (D2D) interaction."
   ]
  },
  {
   "cell_type": "markdown",
   "id": "bc7ecd8f-1a84-48dc-a2e9-6cd6411483b4",
   "metadata": {},
   "source": [
    "<a id='d2d'></a>\n",
    "# What is D2D?"
   ]
  },
  {
   "cell_type": "markdown",
   "id": "153ffc5d-2d38-46e4-855c-d236813e9ae1",
   "metadata": {},
   "source": [
    "<center><img src=\"img/d2d.jpeg\" width=\"600\"></center>"
   ]
  },
  {
   "cell_type": "markdown",
   "id": "89e3246e-6a29-4610-bf79-1bbfb7aa2952",
   "metadata": {},
   "source": [
    "# Device to Device communications\n",
    "   * Enables direct communication between nearby mobiles.\n",
    "   * Feature of next-generation cellular networks. \n",
    "   * Facilitate the interoperability between critical public safety networks and ubiquitous commercial networks based (e.g. LTE)."
   ]
  },
  {
   "cell_type": "markdown",
   "id": "4663c7b2-48e9-4e02-afa9-bcd78db1a02d",
   "metadata": {},
   "source": [
    "<a id='nb-iot'></a>\n",
    "# What is NB-IoT?"
   ]
  },
  {
   "cell_type": "markdown",
   "id": "2f7ce019-84cd-43cd-bf41-efd52206e3b2",
   "metadata": {},
   "source": [
    "<center><img src=\"img/nbiot.png\" width=\"600\"></center>"
   ]
  },
  {
   "cell_type": "markdown",
   "id": "91e606a2-2c4f-48d7-a747-129414026c1b",
   "metadata": {},
   "source": [
    "# Narrow Band in Internet of Things\n",
    "\n",
    "   * A standards-based low power wide area (LPWA) technology.\n",
    "   * Cellular technologie: 5G.\n",
    "   * Enable a wide range of new IoT devices and services.\n",
    "   * Significantly improves the power consumption of user devices, system capacity and spectrum efficiency, especially in deep coverage.\n",
    "   * Battery life of more than 10 years.\n",
    "   * It can co-exist with 2G, 3G, and 4G mobile networks."
   ]
  },
  {
   "cell_type": "markdown",
   "id": "e8a94608-6c9f-46ec-91fc-803514b14abc",
   "metadata": {},
   "source": [
    "<a id='d2d-nb-iot'></a>\n",
    "# D2D in NB-IoT"
   ]
  },
  {
   "cell_type": "markdown",
   "id": "296ab694-e338-4a03-9c57-1dc93629fdbe",
   "metadata": {},
   "source": [
    "<center><img src=\"img/antenas_relays.png\" width=\"600\"></center>"
   ]
  },
  {
   "cell_type": "markdown",
   "id": "072b9dc2-6e22-41fa-871a-82269000b6e8",
   "metadata": {},
   "source": [
    "# Device to Device in Narrow Band Internet of Things\n",
    "\n",
    "   * D2D comunication to not-coveraged devices.\n",
    "   * NB-IoT full communication.\n",
    "   * Coveraged area extended."
   ]
  },
  {
   "cell_type": "markdown",
   "id": "79c72dfc-3bbd-4265-a7cf-f62723a31545",
   "metadata": {},
   "source": [
    "<a id='parameters'></a>\n",
    "# Performance Parameters"
   ]
  },
  {
   "cell_type": "markdown",
   "id": "2083dc3e-514b-46bd-9a87-ca9f96fb891f",
   "metadata": {},
   "source": [
    "<a id='distance'></a>\n",
    "## Distance between devices"
   ]
  },
  {
   "cell_type": "markdown",
   "id": "5d0ff0db-e3f4-42a5-a2c0-3016fe1bbedb",
   "metadata": {},
   "source": [
    "<center><img src=\"img/distances.png\" width=\"600\"></center>"
   ]
  },
  {
   "cell_type": "markdown",
   "id": "e626fe80-441e-4e53-9ce0-cbb20450de10",
   "metadata": {},
   "source": [
    "* Rayleigh Model is the l parameter.\n",
    "* Long distance “ą low quality communications\"."
   ]
  },
  {
   "cell_type": "markdown",
   "id": "05189255-b1c6-4698-a752-ec9085c26303",
   "metadata": {},
   "source": [
    "<a id='obstacle'></a>\n",
    "## Obstacle Density"
   ]
  },
  {
   "cell_type": "markdown",
   "id": "f2f8798d-a8c2-414a-8674-5eee9ce6d03d",
   "metadata": {},
   "source": [
    "<center><img src=\"img/urban_suburban.png\" width=\"600\"></center>"
   ]
  },
  {
   "cell_type": "markdown",
   "id": "327ed569-219d-4788-b602-c7af6bdc8687",
   "metadata": {},
   "source": [
    "* In the Rayleigh Model is the α parameter.\n",
    "* Urban scenario: High density of obstacles.\n",
    "* Suburban scenario: Low density of obstacles."
   ]
  },
  {
   "cell_type": "markdown",
   "id": "3c17bcde-c908-4ae6-9ff9-345e7b49bceb",
   "metadata": {},
   "source": [
    "<a id='scheduling'></a>\n",
    "## Transmission’s scheduling"
   ]
  },
  {
   "cell_type": "markdown",
   "id": "37740dc7-585e-4914-9cb4-b5917ecd2758",
   "metadata": {},
   "source": [
    "<center><img src=\"img/scheduling.png\" width=\"600\"></center>"
   ]
  },
  {
   "cell_type": "markdown",
   "id": "e625b4e2-511b-4b07-821a-31e6d350b819",
   "metadata": {},
   "source": [
    "* NB-IoT parameters.\n",
    "* Repetitions: Several messages in the transmission.\n",
    "* Retransmissions: Several transmission of the same messages."
   ]
  },
  {
   "cell_type": "markdown",
   "id": "c04c1e5e-62f4-4c56-b518-a4d836f47754",
   "metadata": {},
   "source": [
    "<a id='interference'></a>\n",
    "## Interfering device density"
   ]
  },
  {
   "cell_type": "markdown",
   "id": "c10bf4f5-3d78-447e-a0a8-eae3dfa566b2",
   "metadata": {},
   "source": [
    "<center><img src=\"img/interference.png\" width=\"600\"></center>"
   ]
  },
  {
   "cell_type": "markdown",
   "id": "9d5c59c1-8652-43b1-b517-c9d318d5dc31",
   "metadata": {},
   "source": [
    "<a id='model'></a>\n",
    "# Model"
   ]
  },
  {
   "cell_type": "markdown",
   "id": "426da8b9-6ff1-4a13-9775-05906882f108",
   "metadata": {},
   "source": [
    "* Rayleigh fading as statistical model of channel.\n",
    "* Signal-to-interference-plus-noise ratio (SINR) as nuclear measure.\n",
    "* Packet Delivery Ratio (PDR) as measure per message per device.\n",
    "* Expected Delivery Ratio (EDR) and Expected End-to-end communication Delay (EED) as quality measures."
   ]
  },
  {
   "cell_type": "markdown",
   "id": "85ac5f50-2334-4514-974b-e7ae800f5c1e",
   "metadata": {},
   "source": [
    "<a id='devs'></a>\n",
    "# Simulation Model using DEVS"
   ]
  },
  {
   "cell_type": "markdown",
   "id": "30b822bc-9428-4e44-af04-8a38b3faf25b",
   "metadata": {},
   "source": [
    "<center><img src=\"img/Modelo_DEVS_D2D.png\" width=\"600\"></center>"
   ]
  },
  {
   "cell_type": "code",
   "execution_count": null,
   "id": "b6f23b1c-4b57-436e-9e7c-bf15b6e0cebf",
   "metadata": {},
   "outputs": [],
   "source": []
  },
  {
   "cell_type": "code",
   "execution_count": null,
   "id": "86b7238c-e320-493f-ab61-4b3cf9dea22c",
   "metadata": {},
   "outputs": [],
   "source": []
  }
 ],
 "metadata": {
  "kernelspec": {
   "display_name": "Python 3 (ipykernel)",
   "language": "python",
   "name": "python3"
  },
  "language_info": {
   "codemirror_mode": {
    "name": "ipython",
    "version": 3
   },
   "file_extension": ".py",
   "mimetype": "text/x-python",
   "name": "python",
   "nbconvert_exporter": "python",
   "pygments_lexer": "ipython3",
   "version": "3.8.10"
  }
 },
 "nbformat": 4,
 "nbformat_minor": 5
}
