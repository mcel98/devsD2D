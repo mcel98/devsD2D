{
 "cells": [
  {
   "cell_type": "code",
   "execution_count": 1,
   "id": "1de7f535-5af6-4312-a22f-21f9097878d0",
   "metadata": {
    "tags": []
   },
   "outputs": [
    {
     "data": {
      "text/html": [
       "<!DOCTYPE html>\n",
       "<html lang=\"en\">\n",
       "  <head>\n",
       "    <link rel=\"stylesheet\" type=\"text/css\" href=\"devs.css\"/>\n",
       "    <style>\n",
       "      html,body,.tool {\n",
       "        height:100%;\n",
       "        width: 100%;\n",
       "      }\n",
       "      #WorkArea{\n",
       "        height: 100%\n",
       "\n",
       "      }\n",
       "\n",
       "    </style>\n",
       "\n",
       "    <meta charset=\"utf-8\"> \n",
       "   \n",
       "    <meta name=\"viewport\" content=\"width=device-width, initial-scale=1\">\n",
       "\n",
       "    <link rel=\"stylesheet\" href=\"https://maxcdn.bootstrapcdn.com/bootstrap/4.0.0/css/bootstrap.min.css\" integrity=\"sha384-Gn5384xqQ1aoWXA+058RXPxPg6fy4IWvTNh0E263XmFcJlSAwiGgFAW/dAiS6JXm\" crossorigin=\"anonymous\">\n",
       "    <link rel=\"stylesheet\" type=\"text/css\" href=\"https://cdnjs.cloudflare.com/ajax/libs/jointjs/3.3.1/joint.css\" />\n",
       "\n",
       "  <body>\n",
       "    <div class=\"container-fluid tool\">\n",
       "       <!-- content -->\n",
       "       <!-- TODO: usar boostrap y volver el tamaño del div dinamico dependiendo del tamaño del dispositivo -->\n",
       "      <div class=\"row h-100\">\n",
       "        <div id=\"WorkArea\" class = \"col-sm-9 col-md-9 col-lg-9 col-xl-9 \"> </div>\n",
       "        <div id=\"toolBar\" class = \"col-sm-3 col-md-3 col-lg-3 col-xl-3\">\n",
       "          <div class=\"btn-group-vertical\">\n",
       "            <button type=\"button\" id=\"tool\" class=\"btn btn-default\" name=\"place0\">place</button>\n",
       "            <button type=\"button\" id=\"tool\" class=\"btn btn-default\" name=\"atomic0\">atomic</button>\n",
       "          </div>\n",
       "        </div>\n",
       "      </div>\n",
       "    </div>\n",
       "\n",
       "    <!-- dependencies -->\n",
       "\t  \n",
       "    <script src=\"https://cdnjs.cloudflare.com/ajax/libs/jquery/3.5.1/jquery.js\"></script>\n",
       "    <script src=\"https://cdnjs.cloudflare.com/ajax/libs/lodash.js/4.17.20/lodash.js\"></script>\n",
       "    <script src=\"https://cdnjs.cloudflare.com/ajax/libs/backbone.js/1.4.0/backbone.js\"></script>\n",
       "    <script src=\"https://cdnjs.cloudflare.com/ajax/libs/jointjs/3.3.1/joint.js\"></script>\n",
       "    <script src=\"https://cdnjs.cloudflare.com/ajax/libs/popper.js/1.12.9/umd/popper.min.js\" integrity=\"sha384-ApNbgh9B+Y1QKtv3Rn7W3mgPxhU9K/ScQsAP7hUibX39j7fakFPskvXusvfa0b4Q\" crossorigin=\"anonymous\"></script>\n",
       "\t  <script src=\"https://maxcdn.bootstrapcdn.com/bootstrap/4.0.0/js/bootstrap.min.js\" integrity=\"sha384-JZR6Spejh4U02d8jOt6vLEHfe/JQGiRRSQQxSfFWpi1MquVdAyjUar5+76PVCmYl\" crossorigin=\"anonymous\"></script>\n",
       "    <script type=\"text/javascript\" src=\"sketchScripts.js\"></script>\n",
       "\t\n",
       "  </body>\n",
       "\n",
       "</html>"
      ],
      "text/plain": [
       "<IPython.core.display.HTML object>"
      ]
     },
     "metadata": {},
     "output_type": "display_data"
    }
   ],
   "source": [
    "from IPython.display import display, HTML\n",
    "display(HTML(filename=\"visualPage.html\"))"
   ]
  }
 ],
 "metadata": {
  "kernelspec": {
   "display_name": "Python 3 (ipykernel)",
   "language": "python",
   "name": "python3"
  },
  "language_info": {
   "codemirror_mode": {
    "name": "ipython",
    "version": 3
   },
   "file_extension": ".py",
   "mimetype": "text/x-python",
   "name": "python",
   "nbconvert_exporter": "python",
   "pygments_lexer": "ipython3",
   "version": "3.8.10"
  }
 },
 "nbformat": 4,
 "nbformat_minor": 5
}
