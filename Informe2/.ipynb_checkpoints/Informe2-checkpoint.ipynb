{
 "cells": [
  {
   "cell_type": "markdown",
   "id": "d62e1fcc-c45a-425e-8b4a-d5ad4c0a4d5e",
   "metadata": {
    "slideshow": {
     "slide_type": "slide"
    },
    "tags": []
   },
   "source": [
    "# Cell-DEVS SIMULATION MODEL TO EVALUATE PACKAGE DELIVERY RATIO (PDR) OF D2D/NB-IOT COMMUNICATIONS "
   ]
  },
  {
   "cell_type": "markdown",
   "id": "f255d60d-f33e-4e88-a23f-612c129cdb91",
   "metadata": {},
   "source": [
    "Trabajo Práctico 2. Modelado y Simulación de Eventos Discretos. 2C - 2021\n",
    "\n",
    "Integrantes del grupo:\n",
    "* Mariano Segura.\n",
    "* Rodolfo L. Sumoza Matos."
   ]
  },
  {
   "cell_type": "markdown",
   "id": "539788c3-7cc5-4d92-9f6d-b6d2916d7ebd",
   "metadata": {},
   "source": [
    "# Outline\n",
    "\n",
    "* [Introducción](#intro)\n",
    "  * [D2D-NB-IoT](#d2d-nb-iot)\n",
    "  * [Objective](#objective)\n",
    "  * [Performance parameters](#parameters)\n",
    "      * [Distances between devices](#distance)\n",
    "      * [Obstacle density](#obstacle)\n",
    "      * [Interfering device density](#interference)\n",
    "  * [Model](#model)\n",
    "  * [Specification](#specification)\n",
    "  * [Experimentation](#Experimentation)"
   ]
  },
  {
   "cell_type": "markdown",
   "id": "e8a94608-6c9f-46ec-91fc-803514b14abc",
   "metadata": {},
   "source": [
    "<a id='d2d-nb-iot'></a>\n",
    "# D2D in NB-IoT"
   ]
  },
  {
   "cell_type": "markdown",
   "id": "296ab694-e338-4a03-9c57-1dc93629fdbe",
   "metadata": {},
   "source": [
    "<center><img src=\"img/antenas_relays2.png\" width=\"600\"></center>"
   ]
  },
  {
   "cell_type": "markdown",
   "id": "072b9dc2-6e22-41fa-871a-82269000b6e8",
   "metadata": {
    "tags": []
   },
   "source": [
    "# Device to Device in Narrow Band Internet of Things\n",
    "Given the connectivity issues NB-IoT presents, D2D solutions were suggested for achieving coverage between far devices more over improving QoS.\n",
    "The D2D protocol establish a 2 hop route between devices out of coverage of the base station (DUE) and the base station(BS) by means of selecting a second device connected to the BS (UE) in range of the DUE as relay.   \n",
    "   * D2D comunication to not-coveraged devices.\n",
    "   * NB-IoT full communication.\n",
    "   * Coveraged area extended.\n",
    "\n",
    "   "
   ]
  },
  {
   "cell_type": "markdown",
   "id": "4d0efd19-48a5-4d1a-8a10-c33cf9b68431",
   "metadata": {},
   "source": [
    "<a id='objective'></a>\n",
    "# Objective"
   ]
  },
  {
   "cell_type": "markdown",
   "id": "6690c87b-6998-402b-9945-251b8756f15a",
   "metadata": {},
   "source": [
    "We would like to evaluate the Package Delivery Ratio of D2D NB-IoT communications."
   ]
  },
  {
   "cell_type": "markdown",
   "id": "c3e9dddd-821d-4766-a765-303ffe66993c",
   "metadata": {},
   "source": [
    "<a id='parameters'></a>\n",
    "# PDR Parameters"
   ]
  },
  {
   "cell_type": "markdown",
   "id": "2083dc3e-514b-46bd-9a87-ca9f96fb891f",
   "metadata": {},
   "source": [
    "<a id='distance'></a>\n",
    "## Distance between devices"
   ]
  },
  {
   "cell_type": "markdown",
   "id": "5d0ff0db-e3f4-42a5-a2c0-3016fe1bbedb",
   "metadata": {},
   "source": [
    "<center><img src=\"img/distances.png\" width=\"700\"></center>"
   ]
  },
  {
   "cell_type": "markdown",
   "id": "e626fe80-441e-4e53-9ce0-cbb20450de10",
   "metadata": {},
   "source": [
    "* Rayleigh Model is the l parameter\n",
    "* Long distance “ą low quality communications\"."
   ]
  },
  {
   "cell_type": "markdown",
   "id": "05189255-b1c6-4698-a752-ec9085c26303",
   "metadata": {},
   "source": [
    "<a id='obstacle'></a>\n",
    "## Obstacle Density"
   ]
  },
  {
   "cell_type": "markdown",
   "id": "f2f8798d-a8c2-414a-8674-5eee9ce6d03d",
   "metadata": {},
   "source": [
    "<center><img src=\"img/urban_suburban.png\" width=\"600\"></center>"
   ]
  },
  {
   "cell_type": "markdown",
   "id": "327ed569-219d-4788-b602-c7af6bdc8687",
   "metadata": {},
   "source": [
    "* In the Rayleigh Model is the α parameter.\n",
    "* Urban scenario: High density of obstacles.\n",
    "* Suburban scenario: Low density of obstacles."
   ]
  },
  {
   "cell_type": "markdown",
   "id": "c04c1e5e-62f4-4c56-b518-a4d836f47754",
   "metadata": {},
   "source": [
    "<a id='interference'></a>\n",
    "## Interfering device density"
   ]
  },
  {
   "cell_type": "markdown",
   "id": "c10bf4f5-3d78-447e-a0a8-eae3dfa566b2",
   "metadata": {},
   "source": [
    "<center><img src=\"img/interference.png\" width=\"600\"></center>"
   ]
  },
  {
   "cell_type": "markdown",
   "id": "9d5c59c1-8652-43b1-b517-c9d318d5dc31",
   "metadata": {},
   "source": [
    "<a id='model'></a>\n",
    "# Model"
   ]
  },
  {
   "cell_type": "markdown",
   "id": "426da8b9-6ff1-4a13-9775-05906882f108",
   "metadata": {},
   "source": [
    "## Chanels\n",
    "We are studying device-to-device (D2D) communications in an NB-IoT context, and we define the fading Rayleigh as channel model whose signal-to-noise ratio with interference (SINR) is used to calculate the packet delivery ratio (PDR), to both D2D communication and for device-to-base station communication. PDR represents a probability of successful packet delivery, and multiple devices within the base station's coverage area are used to forward packets from out-of-area devices.\n",
    "\n",
    "* __Relays__ : \n",
    "    * Duty cycle windows of fixed size segmented by intervals of maximum transmission time in which the device is in state D2D or cellular. \n",
    "    * Using a MonteCarlo process, calculate if a transmission is sucessful given its PDR (including D2D and D2BS comunication).\n",
    "    * Consider information about the obstacles and interfirence devices density relative to each relay and the BS.\n",
    "    * The interference is Random generated as vectors of the other devices to each relay and to the BS.\n",
    "* __DUE__ \n",
    "    * Packets are transmitted between intervals following a exponential distribution (Poisson proccess). \n",
    "* __BS__\n",
    "    * Recieves the packets to generates data necessary to calculate Expected Delivery Ratio (EDR) as quality measure.\n",
    "    * Records packet Hits and Miss \n"
   ]
  },
  {
   "cell_type": "markdown",
   "id": "02b2606f-8063-4e50-87e7-418d9a1d5ddf",
   "metadata": {},
   "source": [
    " <font size=\"6\">\n",
    "$$SINR_{x,y}=\\dfrac{h_{x,y}P_{x}r^{-\\alpha}}{\\sum_{t \\in \\phi_{y},t \\neq x}h_{t,y}P_{t}r_{t,y}^{-\\alpha}+\\sigma^{2}}$$\n",
    "</font> \n"
   ]
  },
  {
   "cell_type": "markdown",
   "id": "85ac5f50-2334-4514-974b-e7ae800f5c1e",
   "metadata": {},
   "source": [
    "<a id='devs'></a>\n",
    "# Cell-DEVS Model "
   ]
  },
  {
   "cell_type": "markdown",
   "id": "9c175af0-8f40-4c38-be2d-736686a3b2db",
   "metadata": {},
   "source": [
    "* The top model is composed by:\n",
    "    * Modelo de 2 Capas.\n",
    "    * Una capa para representar posición de los dispositivos y su potencia de transmisión.\n",
    "    * Una capa para representar obstáculos en el canal de transmisión.\n",
    "    "
   ]
  },
  {
   "cell_type": "markdown",
   "id": "e7f4f482-b2b0-4ac2-a6d2-2a698f683bc6",
   "metadata": {},
   "source": [
    "<center><img src=\"img/cell-waves.png\" width=\"600\"></center>"
   ]
  },
  {
   "cell_type": "markdown",
   "id": "81a5e20f-92f5-434a-84bb-8bdd947716b4",
   "metadata": {},
   "source": [
    "<center><img src=\"img/cell-obstacles.png\" width=\"600\"></center>"
   ]
  },
  {
   "cell_type": "markdown",
   "id": "81d074fe-08f3-4a57-8947-a95a1c5bf06b",
   "metadata": {},
   "source": [
    "<center><img src=\"img/cell-total.png\" width=\"600\"></center>"
   ]
  },
  {
   "cell_type": "code",
   "execution_count": null,
   "id": "c0d0f4d8-a3e2-4939-95db-bba2f2916a18",
   "metadata": {},
   "outputs": [],
   "source": []
  }
 ],
 "metadata": {
  "kernelspec": {
   "display_name": "Python 3 (ipykernel)",
   "language": "python",
   "name": "python3"
  },
  "language_info": {
   "codemirror_mode": {
    "name": "ipython",
    "version": 3
   },
   "file_extension": ".py",
   "mimetype": "text/x-python",
   "name": "python",
   "nbconvert_exporter": "python",
   "pygments_lexer": "ipython3",
   "version": "3.7.3"
  }
 },
 "nbformat": 4,
 "nbformat_minor": 5
}
