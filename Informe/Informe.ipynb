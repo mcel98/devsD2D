{
 "cells": [
  {
   "cell_type": "markdown",
   "id": "d62e1fcc-c45a-425e-8b4a-d5ad4c0a4d5e",
   "metadata": {
    "slideshow": {
     "slide_type": "slide"
    },
    "tags": []
   },
   "source": [
    "# DEVS SIMULATION MODEL TO EVALUATE PERFORMANCE OF D2D/NB-IOT COMMUNICATIONS "
   ]
  },
  {
   "cell_type": "markdown",
   "id": "f255d60d-f33e-4e88-a23f-612c129cdb91",
   "metadata": {},
   "source": [
    "Trabajo Práctico 1. Modelado y Simulación de Eventos Discretos. 2C - 2021\n",
    "\n",
    "Integrantes del grupo:\n",
    "* Mariano Segura.\n",
    "* Rodolfo L. Sumoza Matos."
   ]
  },
  {
   "cell_type": "markdown",
   "id": "539788c3-7cc5-4d92-9f6d-b6d2916d7ebd",
   "metadata": {},
   "source": [
    "# Outline\n",
    "\n",
    "* [Introducción](#intro)\n",
    "  * [What is IoT?](#iot)\n",
    "  * [What is D2D?](#d2d)\n",
    "  * [What is NB-IoT?](#nb-iot)\n",
    "  * [D2D-NB-IoT](#d2d-nb-iot)\n",
    "  * [Objective](#objective)\n",
    "  * [Performance parameters](#parameters)\n",
    "      * [Distances between devices](#distance)\n",
    "      * [Obstacle density](#obstacle)\n",
    "      * [Transmission’s scheduling](#scheduling)\n",
    "      * [Interfering device density](#interference)\n",
    "  * [Model](#model)\n",
    "  * [Specification](#specification)\n",
    "  * [Experimentation](#Experimentation)"
   ]
  },
  {
   "cell_type": "markdown",
   "id": "0f2de52f-36ed-441a-854e-669a78c94df1",
   "metadata": {},
   "source": [
    "<a id='iot'></a>\n",
    "# Wha is IoT?\n"
   ]
  },
  {
   "cell_type": "markdown",
   "id": "5f325ab5-9fbd-4b82-a049-6d1d334a8746",
   "metadata": {},
   "source": [
    "<center><img src=\"img/iot.jpg\" width=\"600\"></center>"
   ]
  },
  {
   "cell_type": "markdown",
   "id": "c6a2cd09-368a-49ed-adce-252dfee7bf9a",
   "metadata": {},
   "source": [
    "# Internet of Things\n",
    "   * Grouping and interconnection of devices and objects through a network.\n",
    "   * All of them could be visible and interact.\n",
    "   * They could be sensors and mechanical devices and everyday objects such as the refrigerator, footwear or clothing.\n",
    "   * Anything that can be imagined could be connected to the internet and interact without the need for human intervention.\n",
    "   * Machine-to-Machine (M2M) or Device-to-Device (D2D) interaction."
   ]
  },
  {
   "cell_type": "markdown",
   "id": "bc7ecd8f-1a84-48dc-a2e9-6cd6411483b4",
   "metadata": {},
   "source": [
    "<a id='d2d'></a>\n",
    "# What is D2D?"
   ]
  },
  {
   "cell_type": "markdown",
   "id": "153ffc5d-2d38-46e4-855c-d236813e9ae1",
   "metadata": {},
   "source": [
    "<center><img src=\"img/d2d.png\" width=\"600\"></center>"
   ]
  },
  {
   "cell_type": "markdown",
   "id": "89e3246e-6a29-4610-bf79-1bbfb7aa2952",
   "metadata": {},
   "source": [
    "# Device to Device communications\n",
    "In classical network all communications must go through a base station even when two devices are in range of stablishing a connection.\n",
    "Device to Device communication is defined as a direct communication between two users without traversing\n",
    "the Base Station improving the spectral efficency, throughput,\n",
    "energy efficiency, delay, and fairness by offloading traffic from the core network.\n",
    "We focus on Inband implementations where lincensed cellular frequencies are used thus interference between devices and cellular links must be modeled."
   ]
  },
  {
   "cell_type": "markdown",
   "id": "4663c7b2-48e9-4e02-afa9-bcd78db1a02d",
   "metadata": {},
   "source": [
    "<a id='nb-iot'></a>\n",
    "# What is NB-IoT?"
   ]
  },
  {
   "cell_type": "markdown",
   "id": "2f7ce019-84cd-43cd-bf41-efd52206e3b2",
   "metadata": {},
   "source": [
    "<center><img src=\"img/nbiot.png\" width=\"600\"></center>"
   ]
  },
  {
   "cell_type": "markdown",
   "id": "91e606a2-2c4f-48d7-a747-129414026c1b",
   "metadata": {},
   "source": [
    "# Narrow Band in Internet of Things\n",
    "   Narrow Band networks use a small bandwidth in a known cellular spectrum to transmit data at high fault resistance and lower power consumption.\n",
    "   * A standards-based low power wide area (LPWA) technology.\n",
    "   * Cellular technologie: 5G.\n",
    "   * Enable a wide range of new IoT devices and services.\n",
    "   * Significantly improves the power consumption of user devices, system capacity and spectrum efficiency, especially in deep coverage.\n",
    "   * Battery life of more than 10 years.\n",
    "   * It can co-exist with 2G, 3G, and 4G mobile networks.\n",
    "   \n",
    "Although one of the main characteristics of this technology is wide coverage, it's starts facing issues under high device density areas and long distance communications."
   ]
  },
  {
   "cell_type": "markdown",
   "id": "e8a94608-6c9f-46ec-91fc-803514b14abc",
   "metadata": {},
   "source": [
    "<a id='d2d-nb-iot'></a>\n",
    "# D2D in NB-IoT"
   ]
  },
  {
   "cell_type": "markdown",
   "id": "296ab694-e338-4a03-9c57-1dc93629fdbe",
   "metadata": {},
   "source": [
    "<center><img src=\"img/antenas_relays2.png\" width=\"600\"></center>"
   ]
  },
  {
   "cell_type": "markdown",
   "id": "072b9dc2-6e22-41fa-871a-82269000b6e8",
   "metadata": {
    "tags": []
   },
   "source": [
    "# Device to Device in Narrow Band Internet of Things\n",
    "Given the connectivity issues NB-IoT presents, D2D solutions were suggested for achieving coverage between far devices more over improving QoS.\n",
    "The D2D protocol establish a 2 hop route between devices out of coverage of the base station (DUE) and the base station(BS) by means of selecting a second device connected to the BS (UE) in range of the DUE as relay.   \n",
    "   * D2D comunication to not-coveraged devices.\n",
    "   * NB-IoT full communication.\n",
    "   * Coveraged area extended.\n",
    "\n",
    "   "
   ]
  },
  {
   "cell_type": "markdown",
   "id": "4d0efd19-48a5-4d1a-8a10-c33cf9b68431",
   "metadata": {},
   "source": [
    "<a id='objective'></a>\n",
    "# Objective"
   ]
  },
  {
   "cell_type": "markdown",
   "id": "6690c87b-6998-402b-9945-251b8756f15a",
   "metadata": {},
   "source": [
    "We would like to evaluate the QoS of D2D NB-IoT communications given a relay selection policy under physical characteristics of the network"
   ]
  },
  {
   "cell_type": "markdown",
   "id": "c3e9dddd-821d-4766-a765-303ffe66993c",
   "metadata": {},
   "source": [
    "<a id='parameters'></a>\n",
    "# Performance Parameters"
   ]
  },
  {
   "cell_type": "markdown",
   "id": "2083dc3e-514b-46bd-9a87-ca9f96fb891f",
   "metadata": {},
   "source": [
    "<a id='distance'></a>\n",
    "## Distance between devices"
   ]
  },
  {
   "cell_type": "markdown",
   "id": "5d0ff0db-e3f4-42a5-a2c0-3016fe1bbedb",
   "metadata": {},
   "source": [
    "<center><img src=\"img/distances.png\" width=\"700\"></center>"
   ]
  },
  {
   "cell_type": "markdown",
   "id": "e626fe80-441e-4e53-9ce0-cbb20450de10",
   "metadata": {},
   "source": [
    "* Rayleigh Model is the l parameter\n",
    "* Long distance “ą low quality communications\"."
   ]
  },
  {
   "cell_type": "markdown",
   "id": "05189255-b1c6-4698-a752-ec9085c26303",
   "metadata": {},
   "source": [
    "<a id='obstacle'></a>\n",
    "## Obstacle Density"
   ]
  },
  {
   "cell_type": "markdown",
   "id": "f2f8798d-a8c2-414a-8674-5eee9ce6d03d",
   "metadata": {},
   "source": [
    "<center><img src=\"img/urban_suburban.png\" width=\"600\"></center>"
   ]
  },
  {
   "cell_type": "markdown",
   "id": "327ed569-219d-4788-b602-c7af6bdc8687",
   "metadata": {},
   "source": [
    "* In the Rayleigh Model is the α parameter.\n",
    "* Urban scenario: High density of obstacles.\n",
    "* Suburban scenario: Low density of obstacles."
   ]
  },
  {
   "cell_type": "markdown",
   "id": "3c17bcde-c908-4ae6-9ff9-345e7b49bceb",
   "metadata": {},
   "source": [
    "<a id='scheduling'></a>\n",
    "## Transmission’s scheduling"
   ]
  },
  {
   "cell_type": "markdown",
   "id": "37740dc7-585e-4914-9cb4-b5917ecd2758",
   "metadata": {},
   "source": [
    "<center><img src=\"img/scheduling.png\" width=\"600\"></center>"
   ]
  },
  {
   "cell_type": "markdown",
   "id": "e625b4e2-511b-4b07-821a-31e6d350b819",
   "metadata": {},
   "source": [
    "* NB-IoT parameters.\n",
    "* Repetitions: Several messages in the transmission.\n",
    "* Retransmissions: Several transmission of the same messages."
   ]
  },
  {
   "cell_type": "markdown",
   "id": "c04c1e5e-62f4-4c56-b518-a4d836f47754",
   "metadata": {},
   "source": [
    "<a id='interference'></a>\n",
    "## Interfering device density"
   ]
  },
  {
   "cell_type": "markdown",
   "id": "c10bf4f5-3d78-447e-a0a8-eae3dfa566b2",
   "metadata": {},
   "source": [
    "<center><img src=\"img/interference.png\" width=\"600\"></center>"
   ]
  },
  {
   "cell_type": "markdown",
   "id": "9d5c59c1-8652-43b1-b517-c9d318d5dc31",
   "metadata": {},
   "source": [
    "<a id='model'></a>\n",
    "# Model"
   ]
  },
  {
   "cell_type": "markdown",
   "id": "426da8b9-6ff1-4a13-9775-05906882f108",
   "metadata": {},
   "source": [
    "## Chanels\n",
    "We are studying device-to-device (D2D) communications in an NB-IoT context, and we define the fading Rayleigh as channel model whose signal-to-noise ratio with interference (SINR) is used to calculate the packet delivery ratio (PDR), to both D2D communication and for device-to-base station communication. PDR represents a probability of successful packet delivery, and multiple devices within the base station's coverage area are used to forward packets from out-of-area devices.\n",
    "\n",
    "* __Relays__ : \n",
    "    * Duty cycle windows of fixed size segmented by intervals of maximum transmission time in which the device is in state D2D or cellular. \n",
    "    * Using a MonteCarlo process, calculate if a transmission is sucessful given its PDR (including D2D and D2BS comunication).\n",
    "    * Consider information about the obstacles and interfirence devices density relative to each relay and the BS.\n",
    "    * The interference is Random generated as vectors of the other devices to each relay and to the BS.\n",
    "* __DUE__ \n",
    "    * Packets are transmitted between intervals following a exponential distribution (Poisson proccess). \n",
    "* __BS__\n",
    "    * Recieves the packets to generates data necessary to calculate Expected Delivery Ratio (EDR) as quality measure.\n",
    "    * Records packet Hits and Miss \n"
   ]
  },
  {
   "cell_type": "markdown",
   "id": "1145916a-4176-4d89-b040-23520aaa95b8",
   "metadata": {},
   "source": [
    "### Relay Scheduling\n",
    "The relay selection is based considering comibined PDR in D2D and D2BS communication. Whenever a transmission to BS fails the scheduler is notified and chooses the next relay to transmit the message up to a maximum of N retransmissions.\n",
    "\n",
    "* Controller\n",
    "    * Message FIFO Queue for DUE arrivals and relays retransmission. \n",
    "    * Relay Selector using PDR weigthed score dinamycaly updated on relay delivery failure.\n",
    "    * On message retrieval from the queue the N retransmission schema is timed based on each relay duty cycle window. For each time interval T1,...,TN the highest priority relay whose D2D cycle is active is scheduled for potential retransmission.\n",
    "    * On message successful delivery or message loss, asks for updates in relay's duty cycle window and PDR\n"
   ]
  },
  {
   "cell_type": "markdown",
   "id": "55a40918-bfd7-407f-b1f0-c2de311ac092",
   "metadata": {},
   "source": [
    "<img src=\"img/scheduler.png\" width=\"600\">"
   ]
  },
  {
   "cell_type": "markdown",
   "id": "85ac5f50-2334-4514-974b-e7ae800f5c1e",
   "metadata": {},
   "source": [
    "<a id='devs'></a>\n",
    "# Coupled Model "
   ]
  },
  {
   "cell_type": "markdown",
   "id": "9c175af0-8f40-4c38-be2d-736686a3b2db",
   "metadata": {},
   "source": [
    "* The top model is composed by:\n",
    "    * Atomic DUE \n",
    "    * Atomic Base Station \n",
    "    * Relay-hop coupled model where relay policy logic is implemented.\n",
    "        1. K atomic relays (for this assignment we limit the number at 4 and we will improve upon it the second part of the course)\n",
    "        2. Controller coupled model\n",
    "            * Atomic message FIFO Queue\n",
    "            * Atomic Relay Selector"
   ]
  },
  {
   "cell_type": "markdown",
   "id": "66a02acc-2456-4710-980c-a4e160acff85",
   "metadata": {},
   "source": [
    "<a id='specification'></a>\n",
    "# DEVS Model Specification "
   ]
  },
  {
   "cell_type": "markdown",
   "id": "4f58c40b-46e8-4c99-855e-5ef946c5474e",
   "metadata": {},
   "source": [
    "## Coupled Models"
   ]
  },
  {
   "cell_type": "markdown",
   "id": "04d73b97-9232-41c8-8f92-19a20d57d4f3",
   "metadata": {},
   "source": [
    "### NB-IOT TOP MODEL\n",
    "\n",
    "    Coupled Model <X, Y, D, {Md]d D}, EIC, EOC, IC, select >\n",
    "\n",
    "    IPorts = {packet_port, success_port, failed_port}\n",
    "    OPorts = {out, transmission_port, trow, hop}\n",
    "\n",
    "    X = {(packet_port,<N,N_0>), (succes_port,<N_0,N_0,PDR ∈ R/0<=PDR<=1), (failed_port,<N_0,N_0,PDR ∈ R/0<=PDR<=1)};\n",
    "    \n",
    "    Y = {(out,  < N_0 >), (transmission_port, <N,N_0>), (trow_port, <N,N_0,PDR ∈ R/0<=PDR<=1>),  (hop, <N,N_0,PDR ∈ R/0<=PDR<=1>)  };\n",
    "    Model\n",
    "    D = {DUE, Relay Hop System, Stats};\n",
    "    \n",
    "    Md = {  M_DUE, M_Relay_Hop_System, M_Stats };\n",
    "    \n",
    "    EIC = { ∅ };\n",
    "    \n",
    "    EOC = { ( <Stats, out>, <Self, out> ) }; \n",
    "    \n",
    "    IC  = { ( <DUE, packet_port>, <Relay Hop System, transmission_port>), (<Relay Hop System,trow>, <Stats, failed_port>), (<Relay Hop System, hop>, <Stats, success_port>)    }; \n",
    "    \n",
    "    select = {DUE, Relay Hop System, Stats}\n",
    "    \n",
    "\n",
    "    \n",
    "\n",
    "    \n",
    "    \n",
    "\n"
   ]
  },
  {
   "cell_type": "markdown",
   "id": "4c75998d-cf75-41e5-95b4-123deb5a2f27",
   "metadata": {},
   "source": [
    "<img src=\"img/top.png\" width=\"50%\"></left>"
   ]
  },
  {
   "cell_type": "markdown",
   "id": "f14a9a42-a3e3-4de0-b745-41e2997f4f3e",
   "metadata": {},
   "source": [
    "### Relay Hop System\n",
    "\n",
    "    Coupled Model <X, Y, D, {Md]d D}, EIC, EOC, IC, select>\n",
    "\n",
    "    IPorts = {packet_port, transmission_port, relayIn, ProtocolIn, UpdateIn }\n",
    "    OPorts = {relay1Out, relay2Out, relay3Out, relay4Out, ProtocolOut, UpdateOut, retransmit, hop, trow}\n",
    "\n",
    "    Y = {(relayiOut,<N_0>), (update,<{0,1},id ∈ N/ ∃ r ∈ {Relay1,..,Relay4}, r.id = id > ), \n",
    "    (ProtocolOut,<windowd ∈ {0,1}^4, type ∈ {0,1}, id ∈ N/ ∃ r ∈ {Relay1,..,Relay4}, PDR(i) ∈ R/0<=PDR(i)<=1 > ),\n",
    "    (retransmit, < t ∈ N/ t <= controller.max_retransmission(), PDR ∈ R/0<=PDR<=1 , outcome ∈ {0,1}, id ∈ N/ ∃ r ∈ {Relay1,..,Relay4} > ),\n",
    "    (hop, < t ∈ N/ t <= controller.max_retransmission(), PDR ∈ R/0<=PDR<=1 , id ∈ N/ ∃ r ∈ {Relay1,..,Relay4} > ), \n",
    "    (trow, < t ∈ N/ t <= controller.max_retransmission(), PDR ∈ R/0<=PDR<=1 >, id ∈ N/ ∃ r ∈ {Relay1,..,Relay4}),\n",
    "    (UpdateOut, <0> )\n",
    "    };\n",
    "    \n",
    "    X = {(ProtocolIn , <windowd ∈ {0,1}^4, type ∈ {0,1}, id ∈ N/ ∃ r ∈ {Relay1,..,Relay4}, PDR(i) ∈ R/0<=PDR(i)<=1 > ),\n",
    "        (relayIn, < t ∈ N/ t <= controller.max_retransmission(), PDR(i) ∈ R/0<=PDR(i)<=1, {0,1},id ∈ N/ ∃ r ∈ {Relay1,..,Relay4}, >), \n",
    "        (packet_port, <N, N_0>),\n",
    "        (transmission_port, <N, N_0>)\n",
    "        (UpdateIn, <0> )\n",
    "        };\n",
    "    \n",
    "    D = {Controller, Relay1, Relay2, Relay3, Relay4};\n",
    "    \n",
    "    Md = {  M_Controller, M_Relay};\n",
    "    \n",
    "    EIC = { (<Self,transmission_port> , <Controller, packet_port> ) };\n",
    "    \n",
    "    EOC = { ( <Relayi, hop>, <Self, hop> ), ( <Controller, trow>, <Self, trow> )}; \n",
    "    \n",
    "    IC  = {  <Controller, RelayiOut>, <Relayi, packet_port> ), ( <Relayi, ProtocolOut>, <Controller,ProtocolIn> ), ( <Relayi, retransmit>, <Controller,relayIn> ), \n",
    "          ( <Controler, UpdateOut>, <Relayi,UpdateIn> )    }; \n",
    "    \n",
    "    select = {Relay1,Relay2,Relay3,Relay4 Controller}"
   ]
  },
  {
   "cell_type": "markdown",
   "id": "30c1027d-76b9-4ee3-819f-fac9cde254fd",
   "metadata": {},
   "source": [
    "<img src=\"img/RelayHopSystem.png\" width=\"50%\"></left>"
   ]
  },
  {
   "cell_type": "markdown",
   "id": "ddf9525c-9a29-4832-adea-6bbcef5aaca5",
   "metadata": {},
   "source": [
    "### Controller\n",
    "\n",
    "    Coupled Model <X, Y, D, {Md]d D}, EIC, EOC, IC, select>\n",
    "\n",
    "    IPorts = {in, done, Packet, relayIn, ProtocolIn}\n",
    "    OPorts = {relay1Out, relay2Out, relay3Out, relay4Out, UpdateOut, trow, ack}\n",
    "\n",
    "    Y = {(relayiOut,<N_0>), \n",
    "        (UpdateOut, <0> )\n",
    "        (trow, <t ∈ N/ t <= controller.max_retransmission(),id ∈ N/ ∃ r ∈ {Relay1,..,Relay4},PDR ∈ R/0<=PDR<=1 >),\n",
    "        (ack, <0>)};\n",
    "        (out, <N, N_0>)};\n",
    "    \n",
    "    X = {(in ,  <N, N_0> ),\n",
    "        (done, <0>), \n",
    "        (ProtocolIn , <windowd ∈ {0,1}^4, type ∈ {0,1}, id ∈ N/ ∃ r ∈ {Relay1,..,Relay4}, PDR(i) ∈ R/0<=PDR(i)<=1 > ),  \n",
    "        (relayIn, <t ∈ N/ t <= controller.max_retransmission(),{0,1},id ∈ N/ ∃ r ∈ {Relay1,..,Relay4},PDR(i) ∈ R/0<=PDR(i)<=1 >), \n",
    "        (PacketIn, <N, N_0>)};\n",
    "    \n",
    "    D = {Fifo, Scheduler};\n",
    "    \n",
    "    Md = {  M_Queue, M_Scheduler};\n",
    "    \n",
    "    EIC = { (<Self,Packet> , <Fifo, in> ), ( <self, ProtocolIn>, <Scheduler, ProtocolIn> ), ( <self, relayIn>, <Controller,relayIn> ) };\n",
    "    \n",
    "    EOC = { ( <Scheduler, trow>, <Self, trow> ), ( <Scheduler, relayiOut>, <Self, relayiOut> ), ( <self, UpdateOut>, <Scheduler,UpdateOut> )}; \n",
    "    \n",
    "    IC  = {  <Scheduler, ack>, <Fifo, donde> ), (<Fifo, out>, <Scheduler, Packet>), }; \n",
    "    \n",
    "    select = {FiFo Scheduler}"
   ]
  },
  {
   "cell_type": "markdown",
   "id": "bd057619-ad86-4ea4-8127-e573ce0f122d",
   "metadata": {},
   "source": [
    "<img src=\"img/Controller.png\" width=\"50%\"></left>"
   ]
  },
  {
   "cell_type": "markdown",
   "id": "d33ed4a9-56d2-4f08-a00e-6856c2d4fe54",
   "metadata": {},
   "source": [
    "### Relay\n",
    "\n",
    "        \n",
    "    Coupled Model <X, Y, D, {Md]d D}, EIC, EOC, IC, select>\n",
    "\n",
    "    IPorts = {Packet, UpdateIn}\n",
    "    OPorts = {hop, retransmit, ProtocolOut}\n",
    "\n",
    "    Y = {(ProtocolOut,<windowd ∈ {0,1}^4, type ∈ {0,1}, id ∈ N/ ∃ r ∈ {Relay1,..,Relay4}, PDR(i) ∈ R/0<=PDR(i)<=1 > ),\n",
    "        (retransmit, < t ∈ N/ t <= controller.max_retransmission(), PDR ∈ R/0<=PDR<=1 , outcome ∈ {0,1}, id ∈ N/ ∃ r ∈ {Relay1,..,Relay4} > ),\n",
    "        (hop, < t ∈ N/ t <= controller.max_retransmission(), PDR ∈ R/0<=PDR<=1 , id ∈ N/ ∃ r ∈ {Relay1,..,Relay4} > )\n",
    "        };\n",
    "    \n",
    "    X = {(Packet, <N, N_0>),\n",
    "        (UpdateIn, <0> )\n",
    "        }; \n",
    "        \n",
    "    D = {Transmitter, CycleScheduler};\n",
    "    \n",
    "    Md = {  M_Transmitter, M_CycleScheduler};\n",
    "    \n",
    "    EIC = { (<Self,Packet> , <Transmitter, Packet> ), ( <self, UpdateIn>, <CycleScheduler, UpdateIn> ), ( <self, UpdateIn>, <Transmiter, UpdateIn> )};\n",
    "    \n",
    "    EOC = { ( <CycleScheduler, ProtocolOut>, <Self, ProtocolOut> ), ( <Transmitter, ProtocolOut>, <Self, ProtocolOut> ), ( <Transmitter, hop>, <Self,hop> ),  (<Transmitter, retransmit>, <Self,retransmit> )}; \n",
    "    \n",
    "    IC  = { ∅ }; \n",
    "    \n",
    "    select = {CycleScheduler, Transmitter}"
   ]
  },
  {
   "cell_type": "markdown",
   "id": "b525f637-060e-4c0d-b4e8-b0e635606b1b",
   "metadata": {},
   "source": [
    "<img src=\"img/Relay.png\" width=\"50%\"></left>"
   ]
  },
  {
   "cell_type": "markdown",
   "id": "efc4e99c-ea35-41b8-94af-464d3b55d881",
   "metadata": {},
   "source": [
    "## Atomic Models"
   ]
  },
  {
   "cell_type": "markdown",
   "id": "c11c4a7b-6b5f-4851-ad37-d00917d822c4",
   "metadata": {},
   "source": [
    "### DUE\n",
    "    atomic = <X, Y, S, δ int , δ ext , λ, ta>\n",
    "    \n",
    "    X = { ∅ };\n",
    "    \n",
    "    Y = {(Out, <N,N_0>)];\n",
    "    S = {lambda ∈ R, message_id ∈ N};\n",
    " \n",
    "    δ ext : (S,e,X)  = S;\n",
    "    δ int : (S) = message_id++;\n",
    "    λ: (S) = sendOutput(time, Out, message_id)\n",
    "    ta:(S) = x ~ exp(lambda)"
   ]
  },
  {
   "cell_type": "markdown",
   "id": "818bf948-83d1-4dbf-be98-f41a9f30b5dc",
   "metadata": {},
   "source": [
    "### Transmitter\n",
    "    atomic = <X, Y, S, δ int , δ ext , λ, ta>\n",
    "    \n",
    "    X = {(Packet, <N, N_0>),\n",
    "        (UpdateIn, <0> )\n",
    "        };\n",
    "    \n",
    "    Y = {(ProtocolOut,<windowd ∈ {0,1}^4, type ∈ {0,1}, id ∈ N/ ∃ r ∈ {Relay1,..,Relay4}, PDR(i) ∈ R/0<=PDR(i)<=1 > ),\n",
    "        (retransmit, < t ∈ N/ t <= controller.max_retransmission(), PDR ∈ R/0<=PDR<=1 , outcome ∈ {0,1}, id ∈ N/ ∃ r ∈ {Relay1,..,Relay4} > ),\n",
    "        (hop, < t ∈ N/ t <= controller.max_retransmission(), PDR ∈ R/0<=PDR<=1 , id ∈ N/ ∃ r ∈ {Relay1,..,Relay4} > )\n",
    "        };\n",
    "\n",
    "    S = {send_info ∈ Bool, pdr ∈ R/0<=pdr<=1,  mu ∈ R, H_x_b ∈ R, distance_to_bs ∈ N, devices_maximum_distance ∈ N, packet_size ∈ N, packet_split ∈ N, noise ∈ R, \n",
    "        alpha ∈ R, Px ∈ R, interferance ∈ R, device_density ∈ N, #retransmissions ∈ N};\n",
    "         \n",
    "    δ ext : (S,e,X)  = if ( X == UpdateIn): \n",
    "                            send_info = true\n",
    "                            total ~ Binomial(device_density)\n",
    "                            r ~ Uniform(1, device_maximum_distance)\n",
    "                            h_y_b ~ exp(mu)\n",
    "                            interference = getInterferance(h_y_b, r, alpha, total)\n",
    "                            pdr = getPDR(H_x_b, interference, alpha, Px, distance_to_bs)\n",
    "                            ta(0)\n",
    "                            \n",
    "    δ int : (S) = send_info = false\n",
    "                  passivate()\n",
    "    λ: (S) = relay_id = Port.Influence.modelId()\n",
    "             if(send_info):\n",
    "                sendOutput( msg.time(), ProtocolOut,  <0,0,0,0,1,relayid,pdr>)\n",
    "             else:\n",
    "                choice ~Uniform_Real(0.0, 1.0)\n",
    "                if(choice <= pdr):\n",
    "                    sendOutput( msg.time(), hop, <pdr,#retransmission,relay_id>)\n",
    "                    sendOutput( msg.time(), retransmit, <pdr, #retransmission,0relay_d>)\n",
    "                else\n",
    "                    sendOutput( msg.time(), retransmit, <pdr,#retransmission,1,relay_id>);\n"
   ]
  },
  {
   "cell_type": "markdown",
   "id": "e6a82c0d-1ae1-40fc-acd9-26c6c36cadfe",
   "metadata": {},
   "source": [
    "### CycleScheduler\n",
    "\n",
    "    atomic = <X, Y, S, δ int , δ ext , λ, ta>\n",
    "\n",
    "    X = {(UpdateIn, <0> )};\n",
    "\n",
    "    Y = {(ProtocolOut,<windowd ∈ {0,1}^4, type ∈ {0,1}, id ∈ N/ ∃ r ∈ {Relay1,..,Relay4}, PDR(i) ∈ R/0<=PDR(i)<=1 > ) };\n",
    "\n",
    "    S = {send_info ∈ Bool, cycle_rate ∈ R/0<=cycle_rate<=1, duty_window ∈ {0,1}^4};\n",
    "\n",
    "    δ ext : (S,e,X) = send_info = true\n",
    "\n",
    "    δ int : (S) = send_info = false    \n",
    "                  for(i =0; i<4;i++):\n",
    "                    round ~ Uniform_Real(0.0, 1.0)\n",
    "                    if(round <= cycle_rate):\n",
    "                        duty_window[i] = 1;\n",
    "                    else\n",
    "                        duty_window[i] = 0;\n",
    "\n",
    "    λ: (S) = if(send_info):\n",
    "                 relay_id = ProtocolOut.Influence.modelId\n",
    "                 sendOutput( msg.time(), ProtocolOut, <duty_window, 0, relay_id, 0.0>);\n",
    "    ta:(S) = 1 segundo"
   ]
  },
  {
   "cell_type": "markdown",
   "id": "9f504b91-4266-48a7-a19a-734a66d9b944",
   "metadata": {},
   "source": [
    "### Scheduler\n",
    "\n",
    "    atomic = <X, Y, S, δ int , δ ext , λ, ta>\n",
    "\n",
    "    X = {(ProtocolIn , <window ∈ {0,1}^4, type ∈ {0,1}, id ∈ N/ ∃ r ∈ {Relay1,..,Relay4}, PDR(i) ∈ R/0<=PDR(i)<=1 > ),  \n",
    "        (relayIn, <t ∈ N/ t <= controller.max_retransmission(),outcome ∈ {0,1},id ∈ N/ ∃ r ∈ {Relay1,..,Relay4},PDR(i) ∈ R/0<=PDR(i)<=1 >), \n",
    "        (PacketIn, <N, N_0>)};\n",
    "        \n",
    "    Y = {(relay1Out,<N_0>),\n",
    "        (relay2Out,<N_0>),\n",
    "        (relay3Out,<N_0>),\n",
    "        (relay4Out,<N_0>),\n",
    "        (UpdateOut, <0> ),\n",
    "        (trow, <t ∈ N/ t <= controller.max_retransmission()+1,id ∈ N/ ∃ r ∈ {Relay1,..,Relay4},PDR ∈ R/0<=PDR<=1 >),\n",
    "        (ack, <0>)};\n",
    "         \n",
    "    S = {lambda ∈ R\n",
    "        relay_pdr / ∀Key ∈ relay_pdr.keys(), Key ∈ relay_ids Y 0<= relay_pdr[key] <=1 , \n",
    "        duty_cycle_windows / ∀Key ∈ duty_cycle_windows.keys(), Key ∈ relay_ids Y duty_cycle_windows[Key] ∈ {0,1}^4,\n",
    "        priority / id ∈ priority -> id ∈ relay_ids\n",
    "        maxRetransmission ∈ N\n",
    "        relay_identifier ∈ N_0\n",
    "        acknowledge ∈ Bool\n",
    "        wait_for_info ∈ Bool\n",
    "        updates ∈ N_0\n",
    "        #retransmission ∈ N_0\n",
    "        };\n",
    "\n",
    "    δ ext : (S,e,X) = if(X == Packet):\n",
    "                          #retransmission  = msg[1]\n",
    "                          acknowledge = false\n",
    "                          wait_for_info = true\n",
    "                          updates = 0\n",
    "                          ta(0)\n",
    "                      else if( X == ProtocolIn):\n",
    "                          type = msg.type\n",
    "                          relay_identifier = msg.id\n",
    "                          if(type == 0):\n",
    "                              duty_cycle_window[relay_identifier] = msg.window\n",
    "                          else:\n",
    "                              pdr = msg.pdr\n",
    "                              relay_pdr[relay_identifier] = pdr\n",
    "                          updates++\n",
    "                          if(updates == 8):\n",
    "                              choose_priority(relay_pdr, duty_cycle_window , priority)\n",
    "                              wait_for_info = false;\n",
    "                              ta(0)\n",
    "                      else:\n",
    "                          relay_identifier = msg.id\n",
    "                          outcome = msg.outcome\n",
    "                          #retransmission = msg.t\n",
    "                          if(outcome == 0):\n",
    "                              acknowledge = true;\n",
    "                          else:\n",
    "                              acknowledge = false;\n",
    "                          ta(0)\n",
    "\n",
    "    δ int : (S) = passivate();\n",
    "\n",
    "    λ: (S) = if(wait_for_info):\n",
    "                if(updates == 0):\n",
    "                    sendOutput(msg.time(), ProtocolOut, 0 )\n",
    "             else:\n",
    "                outRelay =  priority[#retransmission];\n",
    "                while(outRelay == 0 &&  priority.size() > #retransmission):\n",
    "                     #retransmission++\n",
    "                     outRelay =priority[#retransmission];\n",
    "                else if(maxRetransmission > #retransmission && outRelay != 0)\n",
    "\n",
    "                     if(!this->acknowledge):\n",
    "                        #retransmission ++\n",
    "                        sendOutput(msg.time(), Relay*outRelay*Out , #retransmission)\n",
    "                    else:\n",
    "                        sendOutput(msg.time(), ack, Real(0) )\n",
    "            else:\n",
    "                sendOutput(msg.time(), ack, 0 );\n",
    "                sendOutput(msg.time(),trow, <relay_pdr[message_identifier], #retransmission,  relay_identifier>);\n",
    "    ta:(S) = 0"
   ]
  },
  {
   "cell_type": "markdown",
   "id": "10a1ac11-0fc6-4a0c-b70c-7a4a1135b65e",
   "metadata": {},
   "source": [
    "### Stats (Base Station)\n",
    "\n",
    "    atomic = <X, Y, S, δ int , δ ext , λ, ta>\n",
    "    \n",
    "\n",
    "    X = {(succes_port,<N_0,N_0,PDR ∈ R/0<=PDR<=1), (failed_port,<N_0,N_0,PDR ∈ R/0<=PDR<=1)};\n",
    "\n",
    "    Y = {(out, < N_0 >) };\n",
    "\n",
    "\n",
    "    S = {type ∈ Bool, failed ∈ N_0, delivered ∈ N_0};\n",
    "\n",
    "    δ ext : (S,e,X) =  if(X == fail):\n",
    "                           failed = msg.time().asSecs()\n",
    "                           type = false\n",
    "                       else:\n",
    "                           delivered = msg.time().asSecs()\n",
    "                           type = true\n",
    "                       ta(0)\n",
    "\n",
    "    δ int : (S) = passivate()\n",
    "\n",
    "    λ: (S) = if(type):\n",
    "                sendOutput( msg.time(), out, delivered );\n",
    "             else:\n",
    "                sendOutput( msg.time(), out, failed );\n",
    "\n",
    "    ta:(S) = Inf"
   ]
  },
  {
   "cell_type": "code",
   "execution_count": 3,
   "id": "bb53fb5f-0bb6-4df0-b11c-f0c008646830",
   "metadata": {},
   "outputs": [],
   "source": [
    "from pathlib import Path\n",
    "\n",
    "SED_HOME = Path.home().joinpath('SED')\n",
    "\n",
    "#Directorio base donde está instalado el siumulador\n",
    "CDPP_DIR = SED_HOME.joinpath('CDPP_ExtendedStates-codename-Santi')\n",
    "\n",
    "CDPP_SRC = CDPP_DIR.joinpath('src')\n",
    "CDPP_EXAMPLES = CDPP_DIR.joinpath('examples')\n",
    "CDPP_SCRIPTS = CDPP_DIR.joinpath('scripts')\n",
    "BASE_BIN = CDPP_SRC.joinpath('bin')\n",
    "CDPP_ATOMICS = CDPP_SRC.joinpath('cd++/atomics')"
   ]
  },
  {
   "cell_type": "code",
   "execution_count": 4,
   "id": "1bd8e7ef-01ee-485c-aba9-81c0e6b80371",
   "metadata": {},
   "outputs": [
    {
     "name": "stdout",
     "output_type": "stream",
     "text": [
      "g++ -c -I../../src/cd++/parser -I../../src/cd++/parser/cdlang -I../../src/cd++/parser/cdlang/obj -I../../src/cd++/parser/obj -I../../src/cd++/cell -I../../src/cd++/cell/obj -I../../src/cd++/val -I../../src/cd++/val/obj -I../../src/cd++/msg -I../../src/cd++/msg/obj -I../../src/cd++/warped -I../../src/cd++/warped/common -I../../src/cd++/warped/common/obj -I../../src/cd++/warped/notime -I../../src/cd++/warped/notime/obj -I../../src/cd++/misc -I../../src/cd++/misc/obj -I../../src/cd++/misc/math -I../../src/cd++/misc/math/obj -I../../src/cd++/proc -I../../src/cd++/proc/obj -I../../src/cd++/proc/state -I../../src/cd++/proc/state/obj -I../../src/cd++/utils -I../../src/cd++/utils/obj -I../../src/cd++/utils/log -I../../src/cd++/utils/log/obj -I../../src/cd++/model -I../../src/cd++/model/obj -I../../src/cd++/model/state -I../../src/cd++/model/state/obj -I../../src/cd++/atomics -I../../src/cd++/atomics/qss -I../../src/cd++/atomics/qss/obj -I../../src/cd++/atomics/queue -I../../src/cd++/atomics/queue/obj -I../../src/cd++/atomics/transducer -I../../src/cd++/atomics/transducer/obj -I../../src/cd++/atomics/cpu -I../../src/cd++/atomics/cpu/obj -I../../src/cd++/atomics/generator -I../../src/cd++/atomics/generator/obj -I../../src/cd++/main -I../../src/cd++/main/obj -I../../src/cd++/sim -I../../src/cd++/sim/obj -I../../src/cd++/sim/loader -I../../src/cd++/sim/loader/obj -I../../src/cd++/evt -I../../src/cd++/evt/obj  -DREGISTER_ATOMICS -DKERNEL_NOTIME -DUSE_USER_VTIME -DHAS_BOOLEAN -g -O0 -Wall -Wno-deprecated -std=c++11  register.cpp -o /home/rodolfo/SED/CDPP_ExtendedStates-codename-Santi/examples/D2D/bin/register.o\n",
      "g++ -c -I../../src/cd++/parser -I../../src/cd++/parser/cdlang -I../../src/cd++/parser/cdlang/obj -I../../src/cd++/parser/obj -I../../src/cd++/cell -I../../src/cd++/cell/obj -I../../src/cd++/val -I../../src/cd++/val/obj -I../../src/cd++/msg -I../../src/cd++/msg/obj -I../../src/cd++/warped -I../../src/cd++/warped/common -I../../src/cd++/warped/common/obj -I../../src/cd++/warped/notime -I../../src/cd++/warped/notime/obj -I../../src/cd++/misc -I../../src/cd++/misc/obj -I../../src/cd++/misc/math -I../../src/cd++/misc/math/obj -I../../src/cd++/proc -I../../src/cd++/proc/obj -I../../src/cd++/proc/state -I../../src/cd++/proc/state/obj -I../../src/cd++/utils -I../../src/cd++/utils/obj -I../../src/cd++/utils/log -I../../src/cd++/utils/log/obj -I../../src/cd++/model -I../../src/cd++/model/obj -I../../src/cd++/model/state -I../../src/cd++/model/state/obj -I../../src/cd++/atomics -I../../src/cd++/atomics/qss -I../../src/cd++/atomics/qss/obj -I../../src/cd++/atomics/queue -I../../src/cd++/atomics/queue/obj -I../../src/cd++/atomics/transducer -I../../src/cd++/atomics/transducer/obj -I../../src/cd++/atomics/cpu -I../../src/cd++/atomics/cpu/obj -I../../src/cd++/atomics/generator -I../../src/cd++/atomics/generator/obj -I../../src/cd++/main -I../../src/cd++/main/obj -I../../src/cd++/sim -I../../src/cd++/sim/obj -I../../src/cd++/sim/loader -I../../src/cd++/sim/loader/obj -I../../src/cd++/evt -I../../src/cd++/evt/obj  -DREGISTER_ATOMICS -DKERNEL_NOTIME -DUSE_USER_VTIME -DHAS_BOOLEAN -g -O0 -Wall -Wno-deprecated -std=c++11  stats.cpp -o /home/rodolfo/SED/CDPP_ExtendedStates-codename-Santi/examples/D2D/bin/stats.o\n",
      "g++ -c -I../../src/cd++/parser -I../../src/cd++/parser/cdlang -I../../src/cd++/parser/cdlang/obj -I../../src/cd++/parser/obj -I../../src/cd++/cell -I../../src/cd++/cell/obj -I../../src/cd++/val -I../../src/cd++/val/obj -I../../src/cd++/msg -I../../src/cd++/msg/obj -I../../src/cd++/warped -I../../src/cd++/warped/common -I../../src/cd++/warped/common/obj -I../../src/cd++/warped/notime -I../../src/cd++/warped/notime/obj -I../../src/cd++/misc -I../../src/cd++/misc/obj -I../../src/cd++/misc/math -I../../src/cd++/misc/math/obj -I../../src/cd++/proc -I../../src/cd++/proc/obj -I../../src/cd++/proc/state -I../../src/cd++/proc/state/obj -I../../src/cd++/utils -I../../src/cd++/utils/obj -I../../src/cd++/utils/log -I../../src/cd++/utils/log/obj -I../../src/cd++/model -I../../src/cd++/model/obj -I../../src/cd++/model/state -I../../src/cd++/model/state/obj -I../../src/cd++/atomics -I../../src/cd++/atomics/qss -I../../src/cd++/atomics/qss/obj -I../../src/cd++/atomics/queue -I../../src/cd++/atomics/queue/obj -I../../src/cd++/atomics/transducer -I../../src/cd++/atomics/transducer/obj -I../../src/cd++/atomics/cpu -I../../src/cd++/atomics/cpu/obj -I../../src/cd++/atomics/generator -I../../src/cd++/atomics/generator/obj -I../../src/cd++/main -I../../src/cd++/main/obj -I../../src/cd++/sim -I../../src/cd++/sim/obj -I../../src/cd++/sim/loader -I../../src/cd++/sim/loader/obj -I../../src/cd++/evt -I../../src/cd++/evt/obj  -DREGISTER_ATOMICS -DKERNEL_NOTIME -DUSE_USER_VTIME -DHAS_BOOLEAN -g -O0 -Wall -Wno-deprecated -std=c++11  cycleScheduler.cpp -o /home/rodolfo/SED/CDPP_ExtendedStates-codename-Santi/examples/D2D/bin/cycleScheduler.o\n",
      "g++ -c -I../../src/cd++/parser -I../../src/cd++/parser/cdlang -I../../src/cd++/parser/cdlang/obj -I../../src/cd++/parser/obj -I../../src/cd++/cell -I../../src/cd++/cell/obj -I../../src/cd++/val -I../../src/cd++/val/obj -I../../src/cd++/msg -I../../src/cd++/msg/obj -I../../src/cd++/warped -I../../src/cd++/warped/common -I../../src/cd++/warped/common/obj -I../../src/cd++/warped/notime -I../../src/cd++/warped/notime/obj -I../../src/cd++/misc -I../../src/cd++/misc/obj -I../../src/cd++/misc/math -I../../src/cd++/misc/math/obj -I../../src/cd++/proc -I../../src/cd++/proc/obj -I../../src/cd++/proc/state -I../../src/cd++/proc/state/obj -I../../src/cd++/utils -I../../src/cd++/utils/obj -I../../src/cd++/utils/log -I../../src/cd++/utils/log/obj -I../../src/cd++/model -I../../src/cd++/model/obj -I../../src/cd++/model/state -I../../src/cd++/model/state/obj -I../../src/cd++/atomics -I../../src/cd++/atomics/qss -I../../src/cd++/atomics/qss/obj -I../../src/cd++/atomics/queue -I../../src/cd++/atomics/queue/obj -I../../src/cd++/atomics/transducer -I../../src/cd++/atomics/transducer/obj -I../../src/cd++/atomics/cpu -I../../src/cd++/atomics/cpu/obj -I../../src/cd++/atomics/generator -I../../src/cd++/atomics/generator/obj -I../../src/cd++/main -I../../src/cd++/main/obj -I../../src/cd++/sim -I../../src/cd++/sim/obj -I../../src/cd++/sim/loader -I../../src/cd++/sim/loader/obj -I../../src/cd++/evt -I../../src/cd++/evt/obj  -DREGISTER_ATOMICS -DKERNEL_NOTIME -DUSE_USER_VTIME -DHAS_BOOLEAN -g -O0 -Wall -Wno-deprecated -std=c++11  due.cpp -o /home/rodolfo/SED/CDPP_ExtendedStates-codename-Santi/examples/D2D/bin/due.o\n",
      "g++ -c -I../../src/cd++/parser -I../../src/cd++/parser/cdlang -I../../src/cd++/parser/cdlang/obj -I../../src/cd++/parser/obj -I../../src/cd++/cell -I../../src/cd++/cell/obj -I../../src/cd++/val -I../../src/cd++/val/obj -I../../src/cd++/msg -I../../src/cd++/msg/obj -I../../src/cd++/warped -I../../src/cd++/warped/common -I../../src/cd++/warped/common/obj -I../../src/cd++/warped/notime -I../../src/cd++/warped/notime/obj -I../../src/cd++/misc -I../../src/cd++/misc/obj -I../../src/cd++/misc/math -I../../src/cd++/misc/math/obj -I../../src/cd++/proc -I../../src/cd++/proc/obj -I../../src/cd++/proc/state -I../../src/cd++/proc/state/obj -I../../src/cd++/utils -I../../src/cd++/utils/obj -I../../src/cd++/utils/log -I../../src/cd++/utils/log/obj -I../../src/cd++/model -I../../src/cd++/model/obj -I../../src/cd++/model/state -I../../src/cd++/model/state/obj -I../../src/cd++/atomics -I../../src/cd++/atomics/qss -I../../src/cd++/atomics/qss/obj -I../../src/cd++/atomics/queue -I../../src/cd++/atomics/queue/obj -I../../src/cd++/atomics/transducer -I../../src/cd++/atomics/transducer/obj -I../../src/cd++/atomics/cpu -I../../src/cd++/atomics/cpu/obj -I../../src/cd++/atomics/generator -I../../src/cd++/atomics/generator/obj -I../../src/cd++/main -I../../src/cd++/main/obj -I../../src/cd++/sim -I../../src/cd++/sim/obj -I../../src/cd++/sim/loader -I../../src/cd++/sim/loader/obj -I../../src/cd++/evt -I../../src/cd++/evt/obj  -DREGISTER_ATOMICS -DKERNEL_NOTIME -DUSE_USER_VTIME -DHAS_BOOLEAN -g -O0 -Wall -Wno-deprecated -std=c++11  transmitter.cpp -o /home/rodolfo/SED/CDPP_ExtendedStates-codename-Santi/examples/D2D/bin/transmitter.o\n",
      "g++ -c -I../../src/cd++/parser -I../../src/cd++/parser/cdlang -I../../src/cd++/parser/cdlang/obj -I../../src/cd++/parser/obj -I../../src/cd++/cell -I../../src/cd++/cell/obj -I../../src/cd++/val -I../../src/cd++/val/obj -I../../src/cd++/msg -I../../src/cd++/msg/obj -I../../src/cd++/warped -I../../src/cd++/warped/common -I../../src/cd++/warped/common/obj -I../../src/cd++/warped/notime -I../../src/cd++/warped/notime/obj -I../../src/cd++/misc -I../../src/cd++/misc/obj -I../../src/cd++/misc/math -I../../src/cd++/misc/math/obj -I../../src/cd++/proc -I../../src/cd++/proc/obj -I../../src/cd++/proc/state -I../../src/cd++/proc/state/obj -I../../src/cd++/utils -I../../src/cd++/utils/obj -I../../src/cd++/utils/log -I../../src/cd++/utils/log/obj -I../../src/cd++/model -I../../src/cd++/model/obj -I../../src/cd++/model/state -I../../src/cd++/model/state/obj -I../../src/cd++/atomics -I../../src/cd++/atomics/qss -I../../src/cd++/atomics/qss/obj -I../../src/cd++/atomics/queue -I../../src/cd++/atomics/queue/obj -I../../src/cd++/atomics/transducer -I../../src/cd++/atomics/transducer/obj -I../../src/cd++/atomics/cpu -I../../src/cd++/atomics/cpu/obj -I../../src/cd++/atomics/generator -I../../src/cd++/atomics/generator/obj -I../../src/cd++/main -I../../src/cd++/main/obj -I../../src/cd++/sim -I../../src/cd++/sim/obj -I../../src/cd++/sim/loader -I../../src/cd++/sim/loader/obj -I../../src/cd++/evt -I../../src/cd++/evt/obj  -DREGISTER_ATOMICS -DKERNEL_NOTIME -DUSE_USER_VTIME -DHAS_BOOLEAN -g -O0 -Wall -Wno-deprecated -std=c++11  scheduler.cpp -o /home/rodolfo/SED/CDPP_ExtendedStates-codename-Santi/examples/D2D/bin/scheduler.o\n",
      "make -C ../../src/cd++ cd++ OUT_DIR=/home/rodolfo/SED/CDPP_ExtendedStates-codename-Santi/examples/D2D/bin MODEL_FLAGS=-DREGISTER_ATOMICS\n",
      "make[1]: se entra en el directorio '/home/rodolfo/SED/CDPP_ExtendedStates-codename-Santi/src/cd++'\n",
      "make -C /home/rodolfo/SED/CDPP_ExtendedStates-codename-Santi/src/cd++/atomics OBJ_DIR=obj SRC_DIR=/home/rodolfo/SED/CDPP_ExtendedStates-codename-Santi/src/cd++ MODEL_FLAGS=-DREGISTER_ATOMICS\n",
      "make[2]: se entra en el directorio '/home/rodolfo/SED/CDPP_ExtendedStates-codename-Santi/src/cd++/atomics'\n",
      "make -C cpu OBJ_DIR=obj SRC_DIR=/home/rodolfo/SED/CDPP_ExtendedStates-codename-Santi/src/cd++\n",
      "make[3]: se entra en el directorio '/home/rodolfo/SED/CDPP_ExtendedStates-codename-Santi/src/cd++/atomics/cpu'\n",
      "make[3]: No se hace nada para 'all'.\n",
      "make[3]: se sale del directorio '/home/rodolfo/SED/CDPP_ExtendedStates-codename-Santi/src/cd++/atomics/cpu'\n",
      "make -C queue OBJ_DIR=obj SRC_DIR=/home/rodolfo/SED/CDPP_ExtendedStates-codename-Santi/src/cd++\n",
      "make[3]: se entra en el directorio '/home/rodolfo/SED/CDPP_ExtendedStates-codename-Santi/src/cd++/atomics/queue'\n",
      "make[3]: No se hace nada para 'all'.\n",
      "make[3]: se sale del directorio '/home/rodolfo/SED/CDPP_ExtendedStates-codename-Santi/src/cd++/atomics/queue'\n",
      "make -C qss OBJ_DIR=obj SRC_DIR=/home/rodolfo/SED/CDPP_ExtendedStates-codename-Santi/src/cd++\n",
      "make[3]: se entra en el directorio '/home/rodolfo/SED/CDPP_ExtendedStates-codename-Santi/src/cd++/atomics/qss'\n",
      "make[3]: No se hace nada para 'all'.\n",
      "make[3]: se sale del directorio '/home/rodolfo/SED/CDPP_ExtendedStates-codename-Santi/src/cd++/atomics/qss'\n",
      "make -C generator OBJ_DIR=obj SRC_DIR=/home/rodolfo/SED/CDPP_ExtendedStates-codename-Santi/src/cd++\n",
      "make[3]: se entra en el directorio '/home/rodolfo/SED/CDPP_ExtendedStates-codename-Santi/src/cd++/atomics/generator'\n",
      "make[3]: No se hace nada para 'all'.\n",
      "make[3]: se sale del directorio '/home/rodolfo/SED/CDPP_ExtendedStates-codename-Santi/src/cd++/atomics/generator'\n",
      "make -C transducer OBJ_DIR=obj SRC_DIR=/home/rodolfo/SED/CDPP_ExtendedStates-codename-Santi/src/cd++\n",
      "make[3]: se entra en el directorio '/home/rodolfo/SED/CDPP_ExtendedStates-codename-Santi/src/cd++/atomics/transducer'\n",
      "make[3]: No se hace nada para 'all'.\n",
      "make[3]: se sale del directorio '/home/rodolfo/SED/CDPP_ExtendedStates-codename-Santi/src/cd++/atomics/transducer'\n",
      "make[2]: se sale del directorio '/home/rodolfo/SED/CDPP_ExtendedStates-codename-Santi/src/cd++/atomics'\n",
      "make -C /home/rodolfo/SED/CDPP_ExtendedStates-codename-Santi/src/cd++/cell OBJ_DIR=obj SRC_DIR=/home/rodolfo/SED/CDPP_ExtendedStates-codename-Santi/src/cd++ MODEL_FLAGS=-DREGISTER_ATOMICS\n",
      "make[2]: se entra en el directorio '/home/rodolfo/SED/CDPP_ExtendedStates-codename-Santi/src/cd++/cell'\n",
      "make[2]: No se hace nada para 'all'.\n",
      "make[2]: se sale del directorio '/home/rodolfo/SED/CDPP_ExtendedStates-codename-Santi/src/cd++/cell'\n",
      "make -C /home/rodolfo/SED/CDPP_ExtendedStates-codename-Santi/src/cd++/evt OBJ_DIR=obj SRC_DIR=/home/rodolfo/SED/CDPP_ExtendedStates-codename-Santi/src/cd++ MODEL_FLAGS=-DREGISTER_ATOMICS\n",
      "make[2]: se entra en el directorio '/home/rodolfo/SED/CDPP_ExtendedStates-codename-Santi/src/cd++/evt'\n",
      "make[2]: No se hace nada para 'all'.\n",
      "make[2]: se sale del directorio '/home/rodolfo/SED/CDPP_ExtendedStates-codename-Santi/src/cd++/evt'\n",
      "make -C /home/rodolfo/SED/CDPP_ExtendedStates-codename-Santi/src/cd++/misc OBJ_DIR=obj SRC_DIR=/home/rodolfo/SED/CDPP_ExtendedStates-codename-Santi/src/cd++ MODEL_FLAGS=-DREGISTER_ATOMICS\n",
      "make[2]: se entra en el directorio '/home/rodolfo/SED/CDPP_ExtendedStates-codename-Santi/src/cd++/misc'\n",
      "make -C math OBJ_DIR=obj SRC_DIR=/home/rodolfo/SED/CDPP_ExtendedStates-codename-Santi/src/cd++\n",
      "make[3]: se entra en el directorio '/home/rodolfo/SED/CDPP_ExtendedStates-codename-Santi/src/cd++/misc/math'\n",
      "make[3]: No se hace nada para 'all'.\n",
      "make[3]: se sale del directorio '/home/rodolfo/SED/CDPP_ExtendedStates-codename-Santi/src/cd++/misc/math'\n",
      "make[2]: se sale del directorio '/home/rodolfo/SED/CDPP_ExtendedStates-codename-Santi/src/cd++/misc'\n",
      "make -C /home/rodolfo/SED/CDPP_ExtendedStates-codename-Santi/src/cd++/model OBJ_DIR=obj SRC_DIR=/home/rodolfo/SED/CDPP_ExtendedStates-codename-Santi/src/cd++ MODEL_FLAGS=-DREGISTER_ATOMICS\n",
      "make[2]: se entra en el directorio '/home/rodolfo/SED/CDPP_ExtendedStates-codename-Santi/src/cd++/model'\n",
      "make -C state OBJ_DIR=obj SRC_DIR=/home/rodolfo/SED/CDPP_ExtendedStates-codename-Santi/src/cd++\n",
      "make[3]: se entra en el directorio '/home/rodolfo/SED/CDPP_ExtendedStates-codename-Santi/src/cd++/model/state'\n",
      "make[3]: No se hace nada para 'all'.\n",
      "make[3]: se sale del directorio '/home/rodolfo/SED/CDPP_ExtendedStates-codename-Santi/src/cd++/model/state'\n",
      "make[2]: se sale del directorio '/home/rodolfo/SED/CDPP_ExtendedStates-codename-Santi/src/cd++/model'\n",
      "make -C /home/rodolfo/SED/CDPP_ExtendedStates-codename-Santi/src/cd++/msg OBJ_DIR=obj SRC_DIR=/home/rodolfo/SED/CDPP_ExtendedStates-codename-Santi/src/cd++ MODEL_FLAGS=-DREGISTER_ATOMICS\n",
      "make[2]: se entra en el directorio '/home/rodolfo/SED/CDPP_ExtendedStates-codename-Santi/src/cd++/msg'\n",
      "make[2]: No se hace nada para 'all'.\n",
      "make[2]: se sale del directorio '/home/rodolfo/SED/CDPP_ExtendedStates-codename-Santi/src/cd++/msg'\n",
      "make -C /home/rodolfo/SED/CDPP_ExtendedStates-codename-Santi/src/cd++/parser OBJ_DIR=obj SRC_DIR=/home/rodolfo/SED/CDPP_ExtendedStates-codename-Santi/src/cd++ MODEL_FLAGS=-DREGISTER_ATOMICS\n",
      "make[2]: se entra en el directorio '/home/rodolfo/SED/CDPP_ExtendedStates-codename-Santi/src/cd++/parser'\n",
      "make -C cdlang OBJ_DIR=obj SRC_DIR=/home/rodolfo/SED/CDPP_ExtendedStates-codename-Santi/src/cd++\n",
      "make[3]: se entra en el directorio '/home/rodolfo/SED/CDPP_ExtendedStates-codename-Santi/src/cd++/parser/cdlang'\n",
      "g++ -c -I/home/rodolfo/SED/CDPP_ExtendedStates-codename-Santi/src/cd++/parser -I/home/rodolfo/SED/CDPP_ExtendedStates-codename-Santi/src/cd++/parser/cdlang -I/home/rodolfo/SED/CDPP_ExtendedStates-codename-Santi/src/cd++/parser/cdlang/obj -I/home/rodolfo/SED/CDPP_ExtendedStates-codename-Santi/src/cd++/parser/obj -I/home/rodolfo/SED/CDPP_ExtendedStates-codename-Santi/src/cd++/cell -I/home/rodolfo/SED/CDPP_ExtendedStates-codename-Santi/src/cd++/cell/obj -I/home/rodolfo/SED/CDPP_ExtendedStates-codename-Santi/src/cd++/val -I/home/rodolfo/SED/CDPP_ExtendedStates-codename-Santi/src/cd++/val/obj -I/home/rodolfo/SED/CDPP_ExtendedStates-codename-Santi/src/cd++/msg -I/home/rodolfo/SED/CDPP_ExtendedStates-codename-Santi/src/cd++/msg/obj -I/home/rodolfo/SED/CDPP_ExtendedStates-codename-Santi/src/cd++/warped -I/home/rodolfo/SED/CDPP_ExtendedStates-codename-Santi/src/cd++/warped/common -I/home/rodolfo/SED/CDPP_ExtendedStates-codename-Santi/src/cd++/warped/common/obj -I/home/rodolfo/SED/CDPP_ExtendedStates-codename-Santi/src/cd++/warped/notime -I/home/rodolfo/SED/CDPP_ExtendedStates-codename-Santi/src/cd++/warped/notime/obj -I/home/rodolfo/SED/CDPP_ExtendedStates-codename-Santi/src/cd++/misc -I/home/rodolfo/SED/CDPP_ExtendedStates-codename-Santi/src/cd++/misc/obj -I/home/rodolfo/SED/CDPP_ExtendedStates-codename-Santi/src/cd++/misc/math -I/home/rodolfo/SED/CDPP_ExtendedStates-codename-Santi/src/cd++/misc/math/obj -I/home/rodolfo/SED/CDPP_ExtendedStates-codename-Santi/src/cd++/proc -I/home/rodolfo/SED/CDPP_ExtendedStates-codename-Santi/src/cd++/proc/obj -I/home/rodolfo/SED/CDPP_ExtendedStates-codename-Santi/src/cd++/proc/state -I/home/rodolfo/SED/CDPP_ExtendedStates-codename-Santi/src/cd++/proc/state/obj -I/home/rodolfo/SED/CDPP_ExtendedStates-codename-Santi/src/cd++/utils -I/home/rodolfo/SED/CDPP_ExtendedStates-codename-Santi/src/cd++/utils/obj -I/home/rodolfo/SED/CDPP_ExtendedStates-codename-Santi/src/cd++/utils/log -I/home/rodolfo/SED/CDPP_ExtendedStates-codename-Santi/src/cd++/utils/log/obj -I/home/rodolfo/SED/CDPP_ExtendedStates-codename-Santi/src/cd++/model -I/home/rodolfo/SED/CDPP_ExtendedStates-codename-Santi/src/cd++/model/obj -I/home/rodolfo/SED/CDPP_ExtendedStates-codename-Santi/src/cd++/model/state -I/home/rodolfo/SED/CDPP_ExtendedStates-codename-Santi/src/cd++/model/state/obj -I/home/rodolfo/SED/CDPP_ExtendedStates-codename-Santi/src/cd++/atomics -I/home/rodolfo/SED/CDPP_ExtendedStates-codename-Santi/src/cd++/atomics/qss -I/home/rodolfo/SED/CDPP_ExtendedStates-codename-Santi/src/cd++/atomics/qss/obj -I/home/rodolfo/SED/CDPP_ExtendedStates-codename-Santi/src/cd++/atomics/queue -I/home/rodolfo/SED/CDPP_ExtendedStates-codename-Santi/src/cd++/atomics/queue/obj -I/home/rodolfo/SED/CDPP_ExtendedStates-codename-Santi/src/cd++/atomics/transducer -I/home/rodolfo/SED/CDPP_ExtendedStates-codename-Santi/src/cd++/atomics/transducer/obj -I/home/rodolfo/SED/CDPP_ExtendedStates-codename-Santi/src/cd++/atomics/cpu -I/home/rodolfo/SED/CDPP_ExtendedStates-codename-Santi/src/cd++/atomics/cpu/obj -I/home/rodolfo/SED/CDPP_ExtendedStates-codename-Santi/src/cd++/atomics/generator -I/home/rodolfo/SED/CDPP_ExtendedStates-codename-Santi/src/cd++/atomics/generator/obj -I/home/rodolfo/SED/CDPP_ExtendedStates-codename-Santi/src/cd++/main -I/home/rodolfo/SED/CDPP_ExtendedStates-codename-Santi/src/cd++/main/obj -I/home/rodolfo/SED/CDPP_ExtendedStates-codename-Santi/src/cd++/sim -I/home/rodolfo/SED/CDPP_ExtendedStates-codename-Santi/src/cd++/sim/obj -I/home/rodolfo/SED/CDPP_ExtendedStates-codename-Santi/src/cd++/sim/loader -I/home/rodolfo/SED/CDPP_ExtendedStates-codename-Santi/src/cd++/sim/loader/obj -I/home/rodolfo/SED/CDPP_ExtendedStates-codename-Santi/src/cd++/evt -I/home/rodolfo/SED/CDPP_ExtendedStates-codename-Santi/src/cd++/evt/obj  -DREGISTER_ATOMICS -DKERNEL_NOTIME -DUSE_USER_VTIME -DHAS_BOOLEAN -g -O0 -Wall -Wno-deprecated -std=c++11  gram.c -o obj/gram.o\n",
      "g++ -c -I/home/rodolfo/SED/CDPP_ExtendedStates-codename-Santi/src/cd++/parser -I/home/rodolfo/SED/CDPP_ExtendedStates-codename-Santi/src/cd++/parser/cdlang -I/home/rodolfo/SED/CDPP_ExtendedStates-codename-Santi/src/cd++/parser/cdlang/obj -I/home/rodolfo/SED/CDPP_ExtendedStates-codename-Santi/src/cd++/parser/obj -I/home/rodolfo/SED/CDPP_ExtendedStates-codename-Santi/src/cd++/cell -I/home/rodolfo/SED/CDPP_ExtendedStates-codename-Santi/src/cd++/cell/obj -I/home/rodolfo/SED/CDPP_ExtendedStates-codename-Santi/src/cd++/val -I/home/rodolfo/SED/CDPP_ExtendedStates-codename-Santi/src/cd++/val/obj -I/home/rodolfo/SED/CDPP_ExtendedStates-codename-Santi/src/cd++/msg -I/home/rodolfo/SED/CDPP_ExtendedStates-codename-Santi/src/cd++/msg/obj -I/home/rodolfo/SED/CDPP_ExtendedStates-codename-Santi/src/cd++/warped -I/home/rodolfo/SED/CDPP_ExtendedStates-codename-Santi/src/cd++/warped/common -I/home/rodolfo/SED/CDPP_ExtendedStates-codename-Santi/src/cd++/warped/common/obj -I/home/rodolfo/SED/CDPP_ExtendedStates-codename-Santi/src/cd++/warped/notime -I/home/rodolfo/SED/CDPP_ExtendedStates-codename-Santi/src/cd++/warped/notime/obj -I/home/rodolfo/SED/CDPP_ExtendedStates-codename-Santi/src/cd++/misc -I/home/rodolfo/SED/CDPP_ExtendedStates-codename-Santi/src/cd++/misc/obj -I/home/rodolfo/SED/CDPP_ExtendedStates-codename-Santi/src/cd++/misc/math -I/home/rodolfo/SED/CDPP_ExtendedStates-codename-Santi/src/cd++/misc/math/obj -I/home/rodolfo/SED/CDPP_ExtendedStates-codename-Santi/src/cd++/proc -I/home/rodolfo/SED/CDPP_ExtendedStates-codename-Santi/src/cd++/proc/obj -I/home/rodolfo/SED/CDPP_ExtendedStates-codename-Santi/src/cd++/proc/state -I/home/rodolfo/SED/CDPP_ExtendedStates-codename-Santi/src/cd++/proc/state/obj -I/home/rodolfo/SED/CDPP_ExtendedStates-codename-Santi/src/cd++/utils -I/home/rodolfo/SED/CDPP_ExtendedStates-codename-Santi/src/cd++/utils/obj -I/home/rodolfo/SED/CDPP_ExtendedStates-codename-Santi/src/cd++/utils/log -I/home/rodolfo/SED/CDPP_ExtendedStates-codename-Santi/src/cd++/utils/log/obj -I/home/rodolfo/SED/CDPP_ExtendedStates-codename-Santi/src/cd++/model -I/home/rodolfo/SED/CDPP_ExtendedStates-codename-Santi/src/cd++/model/obj -I/home/rodolfo/SED/CDPP_ExtendedStates-codename-Santi/src/cd++/model/state -I/home/rodolfo/SED/CDPP_ExtendedStates-codename-Santi/src/cd++/model/state/obj -I/home/rodolfo/SED/CDPP_ExtendedStates-codename-Santi/src/cd++/atomics -I/home/rodolfo/SED/CDPP_ExtendedStates-codename-Santi/src/cd++/atomics/qss -I/home/rodolfo/SED/CDPP_ExtendedStates-codename-Santi/src/cd++/atomics/qss/obj -I/home/rodolfo/SED/CDPP_ExtendedStates-codename-Santi/src/cd++/atomics/queue -I/home/rodolfo/SED/CDPP_ExtendedStates-codename-Santi/src/cd++/atomics/queue/obj -I/home/rodolfo/SED/CDPP_ExtendedStates-codename-Santi/src/cd++/atomics/transducer -I/home/rodolfo/SED/CDPP_ExtendedStates-codename-Santi/src/cd++/atomics/transducer/obj -I/home/rodolfo/SED/CDPP_ExtendedStates-codename-Santi/src/cd++/atomics/cpu -I/home/rodolfo/SED/CDPP_ExtendedStates-codename-Santi/src/cd++/atomics/cpu/obj -I/home/rodolfo/SED/CDPP_ExtendedStates-codename-Santi/src/cd++/atomics/generator -I/home/rodolfo/SED/CDPP_ExtendedStates-codename-Santi/src/cd++/atomics/generator/obj -I/home/rodolfo/SED/CDPP_ExtendedStates-codename-Santi/src/cd++/main -I/home/rodolfo/SED/CDPP_ExtendedStates-codename-Santi/src/cd++/main/obj -I/home/rodolfo/SED/CDPP_ExtendedStates-codename-Santi/src/cd++/sim -I/home/rodolfo/SED/CDPP_ExtendedStates-codename-Santi/src/cd++/sim/obj -I/home/rodolfo/SED/CDPP_ExtendedStates-codename-Santi/src/cd++/sim/loader -I/home/rodolfo/SED/CDPP_ExtendedStates-codename-Santi/src/cd++/sim/loader/obj -I/home/rodolfo/SED/CDPP_ExtendedStates-codename-Santi/src/cd++/evt -I/home/rodolfo/SED/CDPP_ExtendedStates-codename-Santi/src/cd++/evt/obj  -DREGISTER_ATOMICS -DKERNEL_NOTIME -DUSE_USER_VTIME -DHAS_BOOLEAN -g -O0 -Wall -Wno-deprecated -std=c++11  parser.cpp -o obj/parser.o\n",
      "make[3]: se sale del directorio '/home/rodolfo/SED/CDPP_ExtendedStates-codename-Santi/src/cd++/parser/cdlang'\n",
      "make[2]: se sale del directorio '/home/rodolfo/SED/CDPP_ExtendedStates-codename-Santi/src/cd++/parser'\n",
      "make -C /home/rodolfo/SED/CDPP_ExtendedStates-codename-Santi/src/cd++/proc OBJ_DIR=obj SRC_DIR=/home/rodolfo/SED/CDPP_ExtendedStates-codename-Santi/src/cd++ MODEL_FLAGS=-DREGISTER_ATOMICS\n",
      "make[2]: se entra en el directorio '/home/rodolfo/SED/CDPP_ExtendedStates-codename-Santi/src/cd++/proc'\n",
      "make -C state OBJ_DIR=obj SRC_DIR=/home/rodolfo/SED/CDPP_ExtendedStates-codename-Santi/src/cd++\n",
      "make[3]: se entra en el directorio '/home/rodolfo/SED/CDPP_ExtendedStates-codename-Santi/src/cd++/proc/state'\n",
      "make[3]: No se hace nada para 'all'.\n",
      "make[3]: se sale del directorio '/home/rodolfo/SED/CDPP_ExtendedStates-codename-Santi/src/cd++/proc/state'\n",
      "make[2]: se sale del directorio '/home/rodolfo/SED/CDPP_ExtendedStates-codename-Santi/src/cd++/proc'\n",
      "make -C /home/rodolfo/SED/CDPP_ExtendedStates-codename-Santi/src/cd++/sim OBJ_DIR=obj SRC_DIR=/home/rodolfo/SED/CDPP_ExtendedStates-codename-Santi/src/cd++ MODEL_FLAGS=-DREGISTER_ATOMICS\n",
      "make[2]: se entra en el directorio '/home/rodolfo/SED/CDPP_ExtendedStates-codename-Santi/src/cd++/sim'\n",
      "make clean\n",
      "make[3]: se entra en el directorio '/home/rodolfo/SED/CDPP_ExtendedStates-codename-Santi/src/cd++/sim'\n",
      "make -C loader clean OBJ_DIR=obj SRC_DIR=/home/rodolfo/SED/CDPP_ExtendedStates-codename-Santi/src/cd++\n",
      "make[4]: se entra en el directorio '/home/rodolfo/SED/CDPP_ExtendedStates-codename-Santi/src/cd++/sim/loader'\n",
      "make[4]: se sale del directorio '/home/rodolfo/SED/CDPP_ExtendedStates-codename-Santi/src/cd++/sim/loader'\n",
      "make[3]: se sale del directorio '/home/rodolfo/SED/CDPP_ExtendedStates-codename-Santi/src/cd++/sim'\n",
      "make -C loader OBJ_DIR=obj SRC_DIR=/home/rodolfo/SED/CDPP_ExtendedStates-codename-Santi/src/cd++\n",
      "make[3]: se entra en el directorio '/home/rodolfo/SED/CDPP_ExtendedStates-codename-Santi/src/cd++/sim/loader'\n",
      "g++ -c -I/home/rodolfo/SED/CDPP_ExtendedStates-codename-Santi/src/cd++/parser -I/home/rodolfo/SED/CDPP_ExtendedStates-codename-Santi/src/cd++/parser/cdlang -I/home/rodolfo/SED/CDPP_ExtendedStates-codename-Santi/src/cd++/parser/cdlang/obj -I/home/rodolfo/SED/CDPP_ExtendedStates-codename-Santi/src/cd++/parser/obj -I/home/rodolfo/SED/CDPP_ExtendedStates-codename-Santi/src/cd++/cell -I/home/rodolfo/SED/CDPP_ExtendedStates-codename-Santi/src/cd++/cell/obj -I/home/rodolfo/SED/CDPP_ExtendedStates-codename-Santi/src/cd++/val -I/home/rodolfo/SED/CDPP_ExtendedStates-codename-Santi/src/cd++/val/obj -I/home/rodolfo/SED/CDPP_ExtendedStates-codename-Santi/src/cd++/msg -I/home/rodolfo/SED/CDPP_ExtendedStates-codename-Santi/src/cd++/msg/obj -I/home/rodolfo/SED/CDPP_ExtendedStates-codename-Santi/src/cd++/warped -I/home/rodolfo/SED/CDPP_ExtendedStates-codename-Santi/src/cd++/warped/common -I/home/rodolfo/SED/CDPP_ExtendedStates-codename-Santi/src/cd++/warped/common/obj -I/home/rodolfo/SED/CDPP_ExtendedStates-codename-Santi/src/cd++/warped/notime -I/home/rodolfo/SED/CDPP_ExtendedStates-codename-Santi/src/cd++/warped/notime/obj -I/home/rodolfo/SED/CDPP_ExtendedStates-codename-Santi/src/cd++/misc -I/home/rodolfo/SED/CDPP_ExtendedStates-codename-Santi/src/cd++/misc/obj -I/home/rodolfo/SED/CDPP_ExtendedStates-codename-Santi/src/cd++/misc/math -I/home/rodolfo/SED/CDPP_ExtendedStates-codename-Santi/src/cd++/misc/math/obj -I/home/rodolfo/SED/CDPP_ExtendedStates-codename-Santi/src/cd++/proc -I/home/rodolfo/SED/CDPP_ExtendedStates-codename-Santi/src/cd++/proc/obj -I/home/rodolfo/SED/CDPP_ExtendedStates-codename-Santi/src/cd++/proc/state -I/home/rodolfo/SED/CDPP_ExtendedStates-codename-Santi/src/cd++/proc/state/obj -I/home/rodolfo/SED/CDPP_ExtendedStates-codename-Santi/src/cd++/utils -I/home/rodolfo/SED/CDPP_ExtendedStates-codename-Santi/src/cd++/utils/obj -I/home/rodolfo/SED/CDPP_ExtendedStates-codename-Santi/src/cd++/utils/log -I/home/rodolfo/SED/CDPP_ExtendedStates-codename-Santi/src/cd++/utils/log/obj -I/home/rodolfo/SED/CDPP_ExtendedStates-codename-Santi/src/cd++/model -I/home/rodolfo/SED/CDPP_ExtendedStates-codename-Santi/src/cd++/model/obj -I/home/rodolfo/SED/CDPP_ExtendedStates-codename-Santi/src/cd++/model/state -I/home/rodolfo/SED/CDPP_ExtendedStates-codename-Santi/src/cd++/model/state/obj -I/home/rodolfo/SED/CDPP_ExtendedStates-codename-Santi/src/cd++/atomics -I/home/rodolfo/SED/CDPP_ExtendedStates-codename-Santi/src/cd++/atomics/qss -I/home/rodolfo/SED/CDPP_ExtendedStates-codename-Santi/src/cd++/atomics/qss/obj -I/home/rodolfo/SED/CDPP_ExtendedStates-codename-Santi/src/cd++/atomics/queue -I/home/rodolfo/SED/CDPP_ExtendedStates-codename-Santi/src/cd++/atomics/queue/obj -I/home/rodolfo/SED/CDPP_ExtendedStates-codename-Santi/src/cd++/atomics/transducer -I/home/rodolfo/SED/CDPP_ExtendedStates-codename-Santi/src/cd++/atomics/transducer/obj -I/home/rodolfo/SED/CDPP_ExtendedStates-codename-Santi/src/cd++/atomics/cpu -I/home/rodolfo/SED/CDPP_ExtendedStates-codename-Santi/src/cd++/atomics/cpu/obj -I/home/rodolfo/SED/CDPP_ExtendedStates-codename-Santi/src/cd++/atomics/generator -I/home/rodolfo/SED/CDPP_ExtendedStates-codename-Santi/src/cd++/atomics/generator/obj -I/home/rodolfo/SED/CDPP_ExtendedStates-codename-Santi/src/cd++/main -I/home/rodolfo/SED/CDPP_ExtendedStates-codename-Santi/src/cd++/main/obj -I/home/rodolfo/SED/CDPP_ExtendedStates-codename-Santi/src/cd++/sim -I/home/rodolfo/SED/CDPP_ExtendedStates-codename-Santi/src/cd++/sim/obj -I/home/rodolfo/SED/CDPP_ExtendedStates-codename-Santi/src/cd++/sim/loader -I/home/rodolfo/SED/CDPP_ExtendedStates-codename-Santi/src/cd++/sim/loader/obj -I/home/rodolfo/SED/CDPP_ExtendedStates-codename-Santi/src/cd++/evt -I/home/rodolfo/SED/CDPP_ExtendedStates-codename-Santi/src/cd++/evt/obj  -DREGISTER_ATOMICS -DKERNEL_NOTIME -DUSE_USER_VTIME -DHAS_BOOLEAN -g -O0 -Wall -Wno-deprecated -std=c++11  stdaload.cpp -o obj/stdaload.o\n",
      "make[3]: se sale del directorio '/home/rodolfo/SED/CDPP_ExtendedStates-codename-Santi/src/cd++/sim/loader'\n",
      "g++ -c -I/home/rodolfo/SED/CDPP_ExtendedStates-codename-Santi/src/cd++/parser -I/home/rodolfo/SED/CDPP_ExtendedStates-codename-Santi/src/cd++/parser/cdlang -I/home/rodolfo/SED/CDPP_ExtendedStates-codename-Santi/src/cd++/parser/cdlang/obj -I/home/rodolfo/SED/CDPP_ExtendedStates-codename-Santi/src/cd++/parser/obj -I/home/rodolfo/SED/CDPP_ExtendedStates-codename-Santi/src/cd++/cell -I/home/rodolfo/SED/CDPP_ExtendedStates-codename-Santi/src/cd++/cell/obj -I/home/rodolfo/SED/CDPP_ExtendedStates-codename-Santi/src/cd++/val -I/home/rodolfo/SED/CDPP_ExtendedStates-codename-Santi/src/cd++/val/obj -I/home/rodolfo/SED/CDPP_ExtendedStates-codename-Santi/src/cd++/msg -I/home/rodolfo/SED/CDPP_ExtendedStates-codename-Santi/src/cd++/msg/obj -I/home/rodolfo/SED/CDPP_ExtendedStates-codename-Santi/src/cd++/warped -I/home/rodolfo/SED/CDPP_ExtendedStates-codename-Santi/src/cd++/warped/common -I/home/rodolfo/SED/CDPP_ExtendedStates-codename-Santi/src/cd++/warped/common/obj -I/home/rodolfo/SED/CDPP_ExtendedStates-codename-Santi/src/cd++/warped/notime -I/home/rodolfo/SED/CDPP_ExtendedStates-codename-Santi/src/cd++/warped/notime/obj -I/home/rodolfo/SED/CDPP_ExtendedStates-codename-Santi/src/cd++/misc -I/home/rodolfo/SED/CDPP_ExtendedStates-codename-Santi/src/cd++/misc/obj -I/home/rodolfo/SED/CDPP_ExtendedStates-codename-Santi/src/cd++/misc/math -I/home/rodolfo/SED/CDPP_ExtendedStates-codename-Santi/src/cd++/misc/math/obj -I/home/rodolfo/SED/CDPP_ExtendedStates-codename-Santi/src/cd++/proc -I/home/rodolfo/SED/CDPP_ExtendedStates-codename-Santi/src/cd++/proc/obj -I/home/rodolfo/SED/CDPP_ExtendedStates-codename-Santi/src/cd++/proc/state -I/home/rodolfo/SED/CDPP_ExtendedStates-codename-Santi/src/cd++/proc/state/obj -I/home/rodolfo/SED/CDPP_ExtendedStates-codename-Santi/src/cd++/utils -I/home/rodolfo/SED/CDPP_ExtendedStates-codename-Santi/src/cd++/utils/obj -I/home/rodolfo/SED/CDPP_ExtendedStates-codename-Santi/src/cd++/utils/log -I/home/rodolfo/SED/CDPP_ExtendedStates-codename-Santi/src/cd++/utils/log/obj -I/home/rodolfo/SED/CDPP_ExtendedStates-codename-Santi/src/cd++/model -I/home/rodolfo/SED/CDPP_ExtendedStates-codename-Santi/src/cd++/model/obj -I/home/rodolfo/SED/CDPP_ExtendedStates-codename-Santi/src/cd++/model/state -I/home/rodolfo/SED/CDPP_ExtendedStates-codename-Santi/src/cd++/model/state/obj -I/home/rodolfo/SED/CDPP_ExtendedStates-codename-Santi/src/cd++/atomics -I/home/rodolfo/SED/CDPP_ExtendedStates-codename-Santi/src/cd++/atomics/qss -I/home/rodolfo/SED/CDPP_ExtendedStates-codename-Santi/src/cd++/atomics/qss/obj -I/home/rodolfo/SED/CDPP_ExtendedStates-codename-Santi/src/cd++/atomics/queue -I/home/rodolfo/SED/CDPP_ExtendedStates-codename-Santi/src/cd++/atomics/queue/obj -I/home/rodolfo/SED/CDPP_ExtendedStates-codename-Santi/src/cd++/atomics/transducer -I/home/rodolfo/SED/CDPP_ExtendedStates-codename-Santi/src/cd++/atomics/transducer/obj -I/home/rodolfo/SED/CDPP_ExtendedStates-codename-Santi/src/cd++/atomics/cpu -I/home/rodolfo/SED/CDPP_ExtendedStates-codename-Santi/src/cd++/atomics/cpu/obj -I/home/rodolfo/SED/CDPP_ExtendedStates-codename-Santi/src/cd++/atomics/generator -I/home/rodolfo/SED/CDPP_ExtendedStates-codename-Santi/src/cd++/atomics/generator/obj -I/home/rodolfo/SED/CDPP_ExtendedStates-codename-Santi/src/cd++/main -I/home/rodolfo/SED/CDPP_ExtendedStates-codename-Santi/src/cd++/main/obj -I/home/rodolfo/SED/CDPP_ExtendedStates-codename-Santi/src/cd++/sim -I/home/rodolfo/SED/CDPP_ExtendedStates-codename-Santi/src/cd++/sim/obj -I/home/rodolfo/SED/CDPP_ExtendedStates-codename-Santi/src/cd++/sim/loader -I/home/rodolfo/SED/CDPP_ExtendedStates-codename-Santi/src/cd++/sim/loader/obj -I/home/rodolfo/SED/CDPP_ExtendedStates-codename-Santi/src/cd++/evt -I/home/rodolfo/SED/CDPP_ExtendedStates-codename-Santi/src/cd++/evt/obj  -DREGISTER_ATOMICS -DKERNEL_NOTIME -DUSE_USER_VTIME -DHAS_BOOLEAN -g -O0 -Wall -Wno-deprecated -std=c++11  register.cpp -o obj/register.o\n",
      "g++ -c -I/home/rodolfo/SED/CDPP_ExtendedStates-codename-Santi/src/cd++/parser -I/home/rodolfo/SED/CDPP_ExtendedStates-codename-Santi/src/cd++/parser/cdlang -I/home/rodolfo/SED/CDPP_ExtendedStates-codename-Santi/src/cd++/parser/cdlang/obj -I/home/rodolfo/SED/CDPP_ExtendedStates-codename-Santi/src/cd++/parser/obj -I/home/rodolfo/SED/CDPP_ExtendedStates-codename-Santi/src/cd++/cell -I/home/rodolfo/SED/CDPP_ExtendedStates-codename-Santi/src/cd++/cell/obj -I/home/rodolfo/SED/CDPP_ExtendedStates-codename-Santi/src/cd++/val -I/home/rodolfo/SED/CDPP_ExtendedStates-codename-Santi/src/cd++/val/obj -I/home/rodolfo/SED/CDPP_ExtendedStates-codename-Santi/src/cd++/msg -I/home/rodolfo/SED/CDPP_ExtendedStates-codename-Santi/src/cd++/msg/obj -I/home/rodolfo/SED/CDPP_ExtendedStates-codename-Santi/src/cd++/warped -I/home/rodolfo/SED/CDPP_ExtendedStates-codename-Santi/src/cd++/warped/common -I/home/rodolfo/SED/CDPP_ExtendedStates-codename-Santi/src/cd++/warped/common/obj -I/home/rodolfo/SED/CDPP_ExtendedStates-codename-Santi/src/cd++/warped/notime -I/home/rodolfo/SED/CDPP_ExtendedStates-codename-Santi/src/cd++/warped/notime/obj -I/home/rodolfo/SED/CDPP_ExtendedStates-codename-Santi/src/cd++/misc -I/home/rodolfo/SED/CDPP_ExtendedStates-codename-Santi/src/cd++/misc/obj -I/home/rodolfo/SED/CDPP_ExtendedStates-codename-Santi/src/cd++/misc/math -I/home/rodolfo/SED/CDPP_ExtendedStates-codename-Santi/src/cd++/misc/math/obj -I/home/rodolfo/SED/CDPP_ExtendedStates-codename-Santi/src/cd++/proc -I/home/rodolfo/SED/CDPP_ExtendedStates-codename-Santi/src/cd++/proc/obj -I/home/rodolfo/SED/CDPP_ExtendedStates-codename-Santi/src/cd++/proc/state -I/home/rodolfo/SED/CDPP_ExtendedStates-codename-Santi/src/cd++/proc/state/obj -I/home/rodolfo/SED/CDPP_ExtendedStates-codename-Santi/src/cd++/utils -I/home/rodolfo/SED/CDPP_ExtendedStates-codename-Santi/src/cd++/utils/obj -I/home/rodolfo/SED/CDPP_ExtendedStates-codename-Santi/src/cd++/utils/log -I/home/rodolfo/SED/CDPP_ExtendedStates-codename-Santi/src/cd++/utils/log/obj -I/home/rodolfo/SED/CDPP_ExtendedStates-codename-Santi/src/cd++/model -I/home/rodolfo/SED/CDPP_ExtendedStates-codename-Santi/src/cd++/model/obj -I/home/rodolfo/SED/CDPP_ExtendedStates-codename-Santi/src/cd++/model/state -I/home/rodolfo/SED/CDPP_ExtendedStates-codename-Santi/src/cd++/model/state/obj -I/home/rodolfo/SED/CDPP_ExtendedStates-codename-Santi/src/cd++/atomics -I/home/rodolfo/SED/CDPP_ExtendedStates-codename-Santi/src/cd++/atomics/qss -I/home/rodolfo/SED/CDPP_ExtendedStates-codename-Santi/src/cd++/atomics/qss/obj -I/home/rodolfo/SED/CDPP_ExtendedStates-codename-Santi/src/cd++/atomics/queue -I/home/rodolfo/SED/CDPP_ExtendedStates-codename-Santi/src/cd++/atomics/queue/obj -I/home/rodolfo/SED/CDPP_ExtendedStates-codename-Santi/src/cd++/atomics/transducer -I/home/rodolfo/SED/CDPP_ExtendedStates-codename-Santi/src/cd++/atomics/transducer/obj -I/home/rodolfo/SED/CDPP_ExtendedStates-codename-Santi/src/cd++/atomics/cpu -I/home/rodolfo/SED/CDPP_ExtendedStates-codename-Santi/src/cd++/atomics/cpu/obj -I/home/rodolfo/SED/CDPP_ExtendedStates-codename-Santi/src/cd++/atomics/generator -I/home/rodolfo/SED/CDPP_ExtendedStates-codename-Santi/src/cd++/atomics/generator/obj -I/home/rodolfo/SED/CDPP_ExtendedStates-codename-Santi/src/cd++/main -I/home/rodolfo/SED/CDPP_ExtendedStates-codename-Santi/src/cd++/main/obj -I/home/rodolfo/SED/CDPP_ExtendedStates-codename-Santi/src/cd++/sim -I/home/rodolfo/SED/CDPP_ExtendedStates-codename-Santi/src/cd++/sim/obj -I/home/rodolfo/SED/CDPP_ExtendedStates-codename-Santi/src/cd++/sim/loader -I/home/rodolfo/SED/CDPP_ExtendedStates-codename-Santi/src/cd++/sim/loader/obj -I/home/rodolfo/SED/CDPP_ExtendedStates-codename-Santi/src/cd++/evt -I/home/rodolfo/SED/CDPP_ExtendedStates-codename-Santi/src/cd++/evt/obj  -DREGISTER_ATOMICS -DKERNEL_NOTIME -DUSE_USER_VTIME -DHAS_BOOLEAN -g -O0 -Wall -Wno-deprecated -std=c++11  parsimu.cpp -o obj/parsimu.o\n",
      "make[2]: se sale del directorio '/home/rodolfo/SED/CDPP_ExtendedStates-codename-Santi/src/cd++/sim'\n",
      "make -C /home/rodolfo/SED/CDPP_ExtendedStates-codename-Santi/src/cd++/utils OBJ_DIR=obj SRC_DIR=/home/rodolfo/SED/CDPP_ExtendedStates-codename-Santi/src/cd++ MODEL_FLAGS=-DREGISTER_ATOMICS\n",
      "make[2]: se entra en el directorio '/home/rodolfo/SED/CDPP_ExtendedStates-codename-Santi/src/cd++/utils'\n",
      "make -C log OBJ_DIR=obj SRC_DIR=/home/rodolfo/SED/CDPP_ExtendedStates-codename-Santi/src/cd++\n",
      "make[3]: se entra en el directorio '/home/rodolfo/SED/CDPP_ExtendedStates-codename-Santi/src/cd++/utils/log'\n",
      "make[3]: No se hace nada para 'all'.\n",
      "make[3]: se sale del directorio '/home/rodolfo/SED/CDPP_ExtendedStates-codename-Santi/src/cd++/utils/log'\n",
      "make[2]: se sale del directorio '/home/rodolfo/SED/CDPP_ExtendedStates-codename-Santi/src/cd++/utils'\n",
      "make -C /home/rodolfo/SED/CDPP_ExtendedStates-codename-Santi/src/cd++/val OBJ_DIR=obj SRC_DIR=/home/rodolfo/SED/CDPP_ExtendedStates-codename-Santi/src/cd++ MODEL_FLAGS=-DREGISTER_ATOMICS\n",
      "make[2]: se entra en el directorio '/home/rodolfo/SED/CDPP_ExtendedStates-codename-Santi/src/cd++/val'\n",
      "make[2]: No se hace nada para 'all'.\n",
      "make[2]: se sale del directorio '/home/rodolfo/SED/CDPP_ExtendedStates-codename-Santi/src/cd++/val'\n",
      "make -C /home/rodolfo/SED/CDPP_ExtendedStates-codename-Santi/src/cd++/main OBJ_DIR=obj SRC_DIR=/home/rodolfo/SED/CDPP_ExtendedStates-codename-Santi/src/cd++ MODEL_FLAGS=-DREGISTER_ATOMICS\n",
      "make[2]: se entra en el directorio '/home/rodolfo/SED/CDPP_ExtendedStates-codename-Santi/src/cd++/main'\n",
      "make[2]: No se hace nada para 'all'.\n",
      "make[2]: se sale del directorio '/home/rodolfo/SED/CDPP_ExtendedStates-codename-Santi/src/cd++/main'\n",
      "make -C /home/rodolfo/SED/CDPP_ExtendedStates-codename-Santi/src/cd++/warped OBJ_DIR=obj SRC_DIR=/home/rodolfo/SED/CDPP_ExtendedStates-codename-Santi/src/cd++ MODEL_FLAGS=-DREGISTER_ATOMICS\n",
      "make[2]: se entra en el directorio '/home/rodolfo/SED/CDPP_ExtendedStates-codename-Santi/src/cd++/warped'\n",
      "make -C common OBJ_DIR=obj SRC_DIR=/home/rodolfo/SED/CDPP_ExtendedStates-codename-Santi/src/cd++\n",
      "make[3]: se entra en el directorio '/home/rodolfo/SED/CDPP_ExtendedStates-codename-Santi/src/cd++/warped/common'\n",
      "make[3]: No se hace nada para 'all'.\n",
      "make[3]: se sale del directorio '/home/rodolfo/SED/CDPP_ExtendedStates-codename-Santi/src/cd++/warped/common'\n",
      "make -C notime OBJ_DIR=obj SRC_DIR=/home/rodolfo/SED/CDPP_ExtendedStates-codename-Santi/src/cd++\n",
      "make[3]: se entra en el directorio '/home/rodolfo/SED/CDPP_ExtendedStates-codename-Santi/src/cd++/warped/notime'\n",
      "make[3]: No se hace nada para 'all'.\n",
      "make[3]: se sale del directorio '/home/rodolfo/SED/CDPP_ExtendedStates-codename-Santi/src/cd++/warped/notime'\n",
      "make[2]: se sale del directorio '/home/rodolfo/SED/CDPP_ExtendedStates-codename-Santi/src/cd++/warped'\n",
      "g++ -L/home/rodolfo/SED/CDPP_ExtendedStates-codename-Santi/examples/D2D/bin -o /home/rodolfo/SED/CDPP_ExtendedStates-codename-Santi/examples/D2D/bin/cd++ main/obj/main.o warped/common/obj/VTime.o warped/notime/obj/KernelMsgs.o warped/notime/obj/Interactive.o warped/notime/obj/BasicState.o warped/notime/obj/CommManager.o warped/notime/obj/NoTimeObject.o warped/notime/obj/InputQueue.o warped/notime/obj/FileQueue.o warped/notime/obj/NoTime.o warped/notime/obj/LogicalProcess.o warped/notime/obj/BasicEvent.o warped/notime/obj/BasicNoTime.o warped/notime/obj/DebugStream.o /home/rodolfo/SED/CDPP_ExtendedStates-codename-Santi/examples/D2D/bin/transmitter.o /home/rodolfo/SED/CDPP_ExtendedStates-codename-Santi/examples/D2D/bin/register.o /home/rodolfo/SED/CDPP_ExtendedStates-codename-Santi/examples/D2D/bin/due.o /home/rodolfo/SED/CDPP_ExtendedStates-codename-Santi/examples/D2D/bin/cycleScheduler.o /home/rodolfo/SED/CDPP_ExtendedStates-codename-Santi/examples/D2D/bin/stats.o /home/rodolfo/SED/CDPP_ExtendedStates-codename-Santi/examples/D2D/bin/scheduler.o -lsimu\n",
      "make[1]: se sale del directorio '/home/rodolfo/SED/CDPP_ExtendedStates-codename-Santi/src/cd++'\n"
     ]
    },
    {
     "name": "stderr",
     "output_type": "stream",
     "text": [
      "In file included from register.cpp:5:\n",
      "transmitter.h:12: warning: \"ATOMIC_MODEL_NAME\" redefined\n",
      " #define ATOMIC_MODEL_NAME \"transmitter\" // cambiar nombre\n",
      " \n",
      "In file included from register.cpp:4:\n",
      "due.h:11: note: this is the location of the previous definition\n",
      " #define ATOMIC_MODEL_NAME \"due\" // cambiar nombre\n",
      " \n",
      "In file included from register.cpp:6:\n",
      "cycleScheduler.h:14: warning: \"ATOMIC_MODEL_NAME\" redefined\n",
      " #define ATOMIC_MODEL_NAME \"cycleScheduler\" // cambiar nombre\n",
      " \n",
      "In file included from register.cpp:5:\n",
      "transmitter.h:12: note: this is the location of the previous definition\n",
      " #define ATOMIC_MODEL_NAME \"transmitter\" // cambiar nombre\n",
      " \n",
      "In file included from register.cpp:7:\n",
      "scheduler.h:17: warning: \"ATOMIC_MODEL_NAME\" redefined\n",
      " #define ATOMIC_MODEL_NAME \"scheduler\" // cambiar nombre\n",
      " \n",
      "In file included from register.cpp:6:\n",
      "cycleScheduler.h:14: note: this is the location of the previous definition\n",
      " #define ATOMIC_MODEL_NAME \"cycleScheduler\" // cambiar nombre\n",
      " \n",
      "In file included from register.cpp:8:\n",
      "stats.h:13: warning: \"ATOMIC_MODEL_NAME\" redefined\n",
      " #define ATOMIC_MODEL_NAME \"stats\" // cambiar nombre\n",
      " \n",
      "In file included from register.cpp:7:\n",
      "scheduler.h:17: note: this is the location of the previous definition\n",
      " #define ATOMIC_MODEL_NAME \"scheduler\" // cambiar nombre\n",
      " \n",
      "In file included from stats.cpp:13:\n",
      "stats.h: In constructor ‘stats::stats(const string&)’:\n",
      "stats.h:42:9: warning: ‘stats::out’ will be initialized after [-Wreorder]\n",
      "   Port& out;\n",
      "         ^~~\n",
      "stats.h:40:21: warning:   ‘const Port& stats::success’ [-Wreorder]\n",
      "         const Port &success;\n",
      "                     ^~~~~~~\n",
      "stats.cpp:29:1: warning:   when initialized here [-Wreorder]\n",
      " stats::stats(const std::string &name): Atomic(name),\n",
      " ^~~~~\n",
      "In file included from ../../src/cd++/val/tbool.h:21,\n",
      "                 from ../../src/cd++/val/real.h:22,\n",
      "                 from ../../src/cd++/utils/strutil.h:28,\n",
      "                 from ../../src/cd++/model/pmodeladm.h:29,\n",
      "                 from ../../src/cd++/model/port.h:25,\n",
      "                 from ../../src/cd++/model/model.h:26,\n",
      "                 from ../../src/cd++/msg/message.h:26,\n",
      "                 from stats.cpp:7:\n",
      "../../src/cd++/val/tuple_value.h: In instantiation of ‘const T& Tuple<T>::operator[](int) const [with T = Real]’:\n",
      "stats.cpp:59:94:   required from here\n",
      "../../src/cd++/val/tuple_value.h:59:30: warning: comparison of integer expressions of different signedness: ‘int’ and ‘std::vector<Real, std::allocator<Real> >::size_type’ {aka ‘long unsigned int’} [-Wsign-compare]\n",
      "  MASSERT(index >= 0 && index < this->values.size());\n",
      "../../src/cd++/misc/except.h:32:30: note: in definition of macro ‘MASSERT’\n",
      " #define MASSERT(lexp) if( !( lexp ) ) { AssertException e( \"Invalid assertion\" ) ; e.addText( #lexp ) ; e.addLocation( MEXCEPTION_LOCATION() ) ; throw e ; }\n",
      "                              ^~~~\n",
      "In file included from ../../src/cd++/val/tbool.h:21,\n",
      "                 from ../../src/cd++/val/real.h:22,\n",
      "                 from ../../src/cd++/utils/strutil.h:28,\n",
      "                 from ../../src/cd++/model/pmodeladm.h:29,\n",
      "                 from ../../src/cd++/model/port.h:25,\n",
      "                 from ../../src/cd++/model/model.h:26,\n",
      "                 from ../../src/cd++/msg/message.h:26,\n",
      "                 from cycleScheduler.cpp:8:\n",
      "../../src/cd++/val/tuple_value.h: In instantiation of ‘const T& Tuple<T>::operator[](int) const [with T = Real]’:\n",
      "../../src/cd++/val/tuple_value.h:117:13:   required from ‘bool Tuple<T>::equals(const AbstractValue&) const [with T = Real]’\n",
      "../../src/cd++/val/tuple_value.h:107:6:   required from here\n",
      "../../src/cd++/val/tuple_value.h:59:30: warning: comparison of integer expressions of different signedness: ‘int’ and ‘std::vector<Real, std::allocator<Real> >::size_type’ {aka ‘long unsigned int’} [-Wsign-compare]\n",
      "  MASSERT(index >= 0 && index < this->values.size());\n",
      "../../src/cd++/misc/except.h:32:30: note: in definition of macro ‘MASSERT’\n",
      " #define MASSERT(lexp) if( !( lexp ) ) { AssertException e( \"Invalid assertion\" ) ; e.addText( #lexp ) ; e.addLocation( MEXCEPTION_LOCATION() ) ; throw e ; }\n",
      "                              ^~~~\n",
      "In file included from ../../src/cd++/val/tbool.h:21,\n",
      "                 from ../../src/cd++/val/real.h:22,\n",
      "                 from ../../src/cd++/utils/strutil.h:28,\n",
      "                 from ../../src/cd++/model/pmodeladm.h:29,\n",
      "                 from ../../src/cd++/model/port.h:25,\n",
      "                 from ../../src/cd++/model/model.h:26,\n",
      "                 from ../../src/cd++/msg/message.h:26,\n",
      "                 from due.cpp:7:\n",
      "../../src/cd++/val/tuple_value.h: In instantiation of ‘const T& Tuple<T>::operator[](int) const [with T = Real]’:\n",
      "../../src/cd++/val/tuple_value.h:117:13:   required from ‘bool Tuple<T>::equals(const AbstractValue&) const [with T = Real]’\n",
      "../../src/cd++/val/tuple_value.h:107:6:   required from here\n",
      "../../src/cd++/val/tuple_value.h:59:30: warning: comparison of integer expressions of different signedness: ‘int’ and ‘std::vector<Real, std::allocator<Real> >::size_type’ {aka ‘long unsigned int’} [-Wsign-compare]\n",
      "  MASSERT(index >= 0 && index < this->values.size());\n",
      "../../src/cd++/misc/except.h:32:30: note: in definition of macro ‘MASSERT’\n",
      " #define MASSERT(lexp) if( !( lexp ) ) { AssertException e( \"Invalid assertion\" ) ; e.addText( #lexp ) ; e.addLocation( MEXCEPTION_LOCATION() ) ; throw e ; }\n",
      "                              ^~~~\n",
      "In file included from transmitter.cpp:14:\n",
      "transmitter.h: In constructor ‘transmitter::transmitter(const string&)’:\n",
      "transmitter.h:45:15: warning: ‘transmitter::hop’ will be initialized after [-Wreorder]\n",
      "         Port &hop;\n",
      "               ^~~\n",
      "transmitter.h:44:15: warning:   ‘Port& transmitter::retransmit’ [-Wreorder]\n",
      "         Port &retransmit;\n",
      "               ^~~~~~~~~~\n",
      "transmitter.cpp:35:1: warning:   when initialized here [-Wreorder]\n",
      " transmitter::transmitter( const std::string &name ) :\n",
      " ^~~~~~~~~~~\n",
      "In file included from transmitter.cpp:14:\n",
      "transmitter.h:44:15: warning: ‘transmitter::retransmit’ will be initialized after [-Wreorder]\n",
      "         Port &retransmit;\n",
      "               ^~~~~~~~~~\n",
      "transmitter.h:42:9: warning:   ‘Port& transmitter::ProtocolOut’ [-Wreorder]\n",
      "   Port &ProtocolOut;\n",
      "         ^~~~~~~~~~~\n",
      "transmitter.cpp:35:1: warning:   when initialized here [-Wreorder]\n",
      " transmitter::transmitter( const std::string &name ) :\n",
      " ^~~~~~~~~~~\n",
      "In file included from transmitter.cpp:14:\n",
      "transmitter.h:43:15: warning: ‘transmitter::ProtocolIn’ will be initialized after [-Wreorder]\n",
      "   const Port &ProtocolIn;\n",
      "               ^~~~~~~~~~\n",
      "transmitter.h:41:21: warning:   ‘const Port& transmitter::packetPort’ [-Wreorder]\n",
      "         const Port &packetPort;\n",
      "                     ^~~~~~~~~~\n",
      "transmitter.cpp:35:1: warning:   when initialized here [-Wreorder]\n",
      " transmitter::transmitter( const std::string &name ) :\n",
      " ^~~~~~~~~~~\n",
      "In file included from ../../src/cd++/val/tbool.h:21,\n",
      "                 from ../../src/cd++/val/real.h:22,\n",
      "                 from ../../src/cd++/utils/strutil.h:28,\n",
      "                 from ../../src/cd++/model/pmodeladm.h:29,\n",
      "                 from ../../src/cd++/model/port.h:25,\n",
      "                 from ../../src/cd++/model/model.h:26,\n",
      "                 from ../../src/cd++/msg/message.h:26,\n",
      "                 from transmitter.cpp:8:\n",
      "../../src/cd++/val/tuple_value.h: In instantiation of ‘const T& Tuple<T>::operator[](int) const [with T = Real]’:\n",
      "../../src/cd++/val/tuple_value.h:117:13:   required from ‘bool Tuple<T>::equals(const AbstractValue&) const [with T = Real]’\n",
      "../../src/cd++/val/tuple_value.h:107:6:   required from here\n",
      "../../src/cd++/val/tuple_value.h:59:30: warning: comparison of integer expressions of different signedness: ‘int’ and ‘std::vector<Real, std::allocator<Real> >::size_type’ {aka ‘long unsigned int’} [-Wsign-compare]\n",
      "  MASSERT(index >= 0 && index < this->values.size());\n",
      "../../src/cd++/misc/except.h:32:30: note: in definition of macro ‘MASSERT’\n",
      " #define MASSERT(lexp) if( !( lexp ) ) { AssertException e( \"Invalid assertion\" ) ; e.addText( #lexp ) ; e.addLocation( MEXCEPTION_LOCATION() ) ; throw e ; }\n",
      "                              ^~~~\n",
      "In file included from scheduler.cpp:14:\n",
      "scheduler.h: In constructor ‘scheduler::scheduler(const string&)’:\n",
      "scheduler.h:53:9: warning: ‘scheduler::trow’ will be initialized after [-Wreorder]\n",
      "   Port &trow;\n",
      "         ^~~~\n",
      "scheduler.h:44:15: warning:   ‘const Port& scheduler::queuePort’ [-Wreorder]\n",
      "   const Port &queuePort;\n",
      "               ^~~~~~~~~\n",
      "scheduler.cpp:35:1: warning:   when initialized here [-Wreorder]\n",
      " scheduler::scheduler( const std::string &name ) :\n",
      " ^~~~~~~~~\n",
      "In file included from scheduler.cpp:14:\n",
      "scheduler.h:54:9: warning: ‘scheduler::ack’ will be initialized after [-Wreorder]\n",
      "   Port &ack;\n",
      "         ^~~\n",
      "scheduler.h:46:15: warning:   ‘const Port& scheduler::relayIn’ [-Wreorder]\n",
      "   const Port &relayIn;\n",
      "               ^~~~~~~\n",
      "scheduler.cpp:35:1: warning:   when initialized here [-Wreorder]\n",
      " scheduler::scheduler( const std::string &name ) :\n",
      " ^~~~~~~~~\n",
      "scheduler.cpp: In member function ‘virtual Model& scheduler::outputFunction(const CollectMessage&)’:\n",
      "scheduler.cpp:230:50: warning: comparison of integer expressions of different signedness: ‘std::vector<int>::size_type’ {aka ‘long unsigned int’} and ‘int’ [-Wsign-compare]\n",
      "    while(outRelay == 0 &&  this->priority.size() > static_cast<int>(this->number_of_retransmission.value()) ){\n",
      "                            ~~~~~~~~~~~~~~~~~~~~~~^~~~~~~~~~~~~~~~~~~~~~~~~~~~~~~~~~~~~~~~~~~~~~~~~~~~~~~~~~\n",
      "scheduler.cpp:236:109: warning: narrowing conversion of ‘((scheduler*)this)->scheduler::message_identifier’ from ‘int’ to ‘Value’ {aka ‘double’} inside { } [-Wnarrowing]\n",
      "     Tuple<Real> trow_info{this->relay_pdr[this->message_identifier], this->number_of_retransmission,  this->message_identifier};\n",
      "                                                                                                       ~~~~~~^~~~~~~~~~~~~~~~~~\n",
      "scheduler.cpp:256:109: warning: narrowing conversion of ‘((scheduler*)this)->scheduler::message_identifier’ from ‘int’ to ‘Value’ {aka ‘double’} inside { } [-Wnarrowing]\n",
      "     Tuple<Real> trow_info{this->relay_pdr[this->message_identifier], this->number_of_retransmission,  this->message_identifier};\n",
      "                                                                                                       ~~~~~~^~~~~~~~~~~~~~~~~~\n",
      "In file included from ../../src/cd++/val/tbool.h:21,\n",
      "                 from ../../src/cd++/val/real.h:22,\n",
      "                 from ../../src/cd++/utils/strutil.h:28,\n",
      "                 from ../../src/cd++/model/pmodeladm.h:29,\n",
      "                 from ../../src/cd++/model/port.h:25,\n",
      "                 from ../../src/cd++/model/model.h:26,\n",
      "                 from ../../src/cd++/msg/message.h:26,\n",
      "                 from scheduler.cpp:7:\n",
      "../../src/cd++/val/tuple_value.h: In instantiation of ‘const T& Tuple<T>::operator[](int) const [with T = Real]’:\n",
      "scheduler.cpp:110:44:   required from here\n",
      "../../src/cd++/val/tuple_value.h:59:30: warning: comparison of integer expressions of different signedness: ‘int’ and ‘std::vector<Real, std::allocator<Real> >::size_type’ {aka ‘long unsigned int’} [-Wsign-compare]\n",
      "  MASSERT(index >= 0 && index < this->values.size());\n",
      "../../src/cd++/misc/except.h:32:30: note: in definition of macro ‘MASSERT’\n",
      " #define MASSERT(lexp) if( !( lexp ) ) { AssertException e( \"Invalid assertion\" ) ; e.addText( #lexp ) ; e.addLocation( MEXCEPTION_LOCATION() ) ; throw e ; }\n",
      "                              ^~~~\n",
      "/usr/bin/ld: /home/rodolfo/SED/CDPP_ExtendedStates-codename-Santi/examples/D2D/bin/libsimu.a(macroexp.o): en la función `macroExpansion::expand[abi:cxx11]()':\n",
      "/home/rodolfo/SED/CDPP_ExtendedStates-codename-Santi/src/cd++/utils/macroexp.cpp:147: aviso: the use of `tmpnam' is dangerous, better use `mkstemp'\n",
      "/usr/bin/ld: warped/notime/obj/DebugStream.o: en la función `DebugStream::interact()':\n",
      "/home/rodolfo/SED/CDPP_ExtendedStates-codename-Santi/src/cd++/warped/notime/DebugStream.cpp:682: aviso: the `gets' function is dangerous and should not be used.\n"
     ]
    }
   ],
   "source": [
    "%%bash -s \"$CDPP_EXAMPLES\"\n",
    "\n",
    "cd $1/D2D\n",
    "\n",
    "make clean\n",
    "\n",
    "make"
   ]
  },
  {
   "cell_type": "markdown",
   "id": "cb2e3e44-70f2-4f30-be67-cf1f9996a821",
   "metadata": {},
   "source": [
    "<a id='Experimentation'></a>\n",
    "# Experimentation"
   ]
  },
  {
   "cell_type": "code",
   "execution_count": 5,
   "id": "a3232622-95e0-4ac3-99c3-338f9300b48e",
   "metadata": {},
   "outputs": [],
   "source": [
    "import numpy as np\n",
    "import pandas as pd\n",
    "import matplotlib.pyplot as plt"
   ]
  },
  {
   "cell_type": "markdown",
   "id": "8edd7f06-4489-47b7-8428-8fc88371dd6c",
   "metadata": {},
   "source": [
    "## Population Density \n",
    "\n",
    "    We will focus on how wireless devices of 13 DBm Signal-to-Noise-plus-Interference Ratio is affected by enviroments of variable obstacle and device density, measuring the packet hit/miss ratio (pdr) "
   ]
  },
  {
   "cell_type": "markdown",
   "id": "09df2e47-faaf-44cd-acb3-04a8b642c51b",
   "metadata": {},
   "source": [
    "### Urban Areas with low device interference "
   ]
  },
  {
   "cell_type": "code",
   "execution_count": 6,
   "id": "63b32c21-8c5d-4149-82c0-3096c7dd82dd",
   "metadata": {},
   "outputs": [
    {
     "name": "stderr",
     "output_type": "stream",
     "text": [
      "At 00:05:00:000:0\r"
     ]
    }
   ],
   "source": [
    "%%bash -s \"$CDPP_EXAMPLES\"\n",
    "\n",
    "cd $1/D2D\n",
    "\n",
    "bin/cd++ -m model/D2D_urban_1.ma \\\n",
    "         -o D2D_urban_1.out \\\n",
    "         -l D2D_urban_1.log \\\n",
    "         -t 00:05:00:00 \\\n",
    "        > debug.txt "
   ]
  },
  {
   "cell_type": "code",
   "execution_count": 7,
   "id": "372c3ede-0c6a-4cc1-bdb9-3a08da2af5c5",
   "metadata": {},
   "outputs": [
    {
     "data": {
      "image/png": "[encoded data removed]",
      "text/plain": [
       "<Figure size 1440x720 with 1 Axes>"
      ]
     },
     "metadata": {
      "needs_background": "light"
     },
     "output_type": "display_data"
    }
   ],
   "source": [
    "\n",
    "# file path\n",
    "OUT_FILENAME = str(CDPP_EXAMPLES)+\"/D2D/D2D_urban_1.out\"\n",
    "\n",
    "# def colums names of pandas dataframes\n",
    "TIME_COL = 'time'\n",
    "PORT_COL = 'port'\n",
    "VALUE_COL = 'value'\n",
    "\n",
    "def parse_value(value: str):\n",
    "    is_list = value.strip().startswith(\"[\") and value.strip().endswith(\"]\")\n",
    "    if is_list:\n",
    "        return 1\n",
    "    return 0\n",
    "\n",
    "# conversion VTime a float\n",
    "def time_to_min(time):\n",
    "    h, m, s, ms, r = time.split(':')\n",
    "    return float(m)\n",
    "\n",
    "df_converters = {\n",
    "    VALUE_COL: parse_value,\n",
    "    TIME_COL: time_to_min\n",
    "}\n",
    "\n",
    "salida = pd.read_csv(OUT_FILENAME,\n",
    "                     delimiter=r'(?<!,)\\s+',\n",
    "                     engine='python',  # C engine doesnt work for regex\n",
    "                     converters=df_converters,\n",
    "                     names=[TIME_COL, PORT_COL, VALUE_COL]\n",
    "                    )\n",
    "\n",
    "is_hit =  salida['value']==1 \n",
    "\n",
    "is_miss = salida['value']==0 \n",
    "\n",
    "salida_hits = salida[is_hit]\n",
    "\n",
    "salida_miss = salida[is_miss]\n",
    "\n",
    "plt.figure(figsize=(20,10))\n",
    "\n",
    "plt.hist([salida_hits['time'],salida_miss['time']], 50, density=False, color=['g', 'r'], alpha=0.40,label=['Hits','Miss'])\n",
    "\n",
    "plt.xlabel('Events time (minutes)')\n",
    "plt.ylabel('# Ocurrences')\n",
    "plt.title('Hits and Miss vs Time ranges')\n",
    "plt.grid(True)\n",
    "plt.legend();"
   ]
  },
  {
   "cell_type": "markdown",
   "id": "c12ffbc7-0cfc-407d-a964-66e3f91f6e17",
   "metadata": {},
   "source": [
    "### Urban Areas with high device interference "
   ]
  },
  {
   "cell_type": "code",
   "execution_count": 8,
   "id": "f9dff426-0d9f-4aca-8c75-45bb50b9c240",
   "metadata": {},
   "outputs": [
    {
     "name": "stderr",
     "output_type": "stream",
     "text": [
      "At 00:05:00:000:0\r"
     ]
    }
   ],
   "source": [
    "%%bash -s \"$CDPP_EXAMPLES\"\n",
    "\n",
    "cd $1/D2D\n",
    "\n",
    "bin/cd++ -m model/D2D_urban_2.ma \\\n",
    "         -o D2D_urban_2.out \\\n",
    "         -l D2D_urban_2.log \\\n",
    "         -t 00:05:00:00 \\\n",
    "         > debug.txt "
   ]
  },
  {
   "cell_type": "code",
   "execution_count": 9,
   "id": "52c4475f-d10e-430f-b14c-3af51a09bac8",
   "metadata": {},
   "outputs": [
    {
     "data": {
      "image/png": "[encoded data removed]",
      "text/plain": [
       "<Figure size 1440x720 with 1 Axes>"
      ]
     },
     "metadata": {
      "needs_background": "light"
     },
     "output_type": "display_data"
    }
   ],
   "source": [
    "\n",
    "# file path\n",
    "OUT_FILENAME = str(CDPP_EXAMPLES)+\"/D2D/D2D_urban_2.out\"\n",
    "\n",
    "# def colums names of pandas dataframes\n",
    "TIME_COL = 'time'\n",
    "PORT_COL = 'port'\n",
    "VALUE_COL = 'value'\n",
    "\n",
    "def parse_value(value: str):\n",
    "    is_list = value.strip().startswith(\"[\") and value.strip().endswith(\"]\")\n",
    "    if is_list:\n",
    "        return 1\n",
    "    return 0\n",
    "\n",
    "# conversion VTime a float\n",
    "def time_to_min(time):\n",
    "    h, m, s, ms, r = time.split(':')\n",
    "    return float(m)\n",
    "\n",
    "df_converters = {\n",
    "    VALUE_COL: parse_value,\n",
    "    TIME_COL: time_to_min\n",
    "}\n",
    "\n",
    "salida = pd.read_csv(OUT_FILENAME,\n",
    "                     delimiter=r'(?<!,)\\s+',\n",
    "                     engine='python',  # C engine doesnt work for regex\n",
    "                     converters=df_converters,\n",
    "                     names=[TIME_COL, PORT_COL, VALUE_COL]\n",
    "                    )\n",
    "\n",
    "is_hit =  salida['value']==1 \n",
    "\n",
    "is_miss = salida['value']==0 \n",
    "\n",
    "salida_hits = salida[is_hit]\n",
    "\n",
    "salida_miss = salida[is_miss]\n",
    "\n",
    "plt.figure(figsize=(20,10))\n",
    "\n",
    "plt.hist([salida_hits['time'],salida_miss['time']], 50, density=False, color=['g', 'r'], alpha=0.40,label=['Hits','Miss'])\n",
    "\n",
    "plt.xlabel('Events time (minutes)')\n",
    "plt.ylabel('# Ocurrences')\n",
    "plt.title('Hits and Miss vs Time ranges')\n",
    "plt.grid(True)\n",
    "plt.legend();"
   ]
  },
  {
   "cell_type": "markdown",
   "id": "44faa0f7-cc46-44e0-9f60-09ec792fd05f",
   "metadata": {},
   "source": [
    "### Suburban Areas with low device interference "
   ]
  },
  {
   "cell_type": "code",
   "execution_count": 10,
   "id": "84a6d6ce-a611-4e1d-953d-1e289680bfa8",
   "metadata": {},
   "outputs": [
    {
     "name": "stderr",
     "output_type": "stream",
     "text": [
      "At 00:05:00:000:0\r"
     ]
    }
   ],
   "source": [
    "%%bash -s \"$CDPP_EXAMPLES\"\n",
    "\n",
    "cd $1/D2D\n",
    "\n",
    "bin/cd++ -m model/D2D_suburban_1.ma \\\n",
    "         -o D2D_suburban_1.out \\\n",
    "         -l D2D_suburban_1.log \\\n",
    "         -t 00:05:00:00 \\\n",
    "         > debug.txt "
   ]
  },
  {
   "cell_type": "code",
   "execution_count": 11,
   "id": "7638504f-877a-4a75-9be3-0653dba344e8",
   "metadata": {},
   "outputs": [
    {
     "data": {
      "image/png": "[encoded data removed]",
      "text/plain": [
       "<Figure size 1440x720 with 1 Axes>"
      ]
     },
     "metadata": {
      "needs_background": "light"
     },
     "output_type": "display_data"
    }
   ],
   "source": [
    "# file path\n",
    "OUT_FILENAME = str(CDPP_EXAMPLES)+\"/D2D/D2D_suburban_1.out\"\n",
    "\n",
    "# def colums names of pandas dataframes\n",
    "TIME_COL = 'time'\n",
    "PORT_COL = 'port'\n",
    "VALUE_COL = 'value'\n",
    "\n",
    "def parse_value(value: str):\n",
    "    is_list = value.strip().startswith(\"[\") and value.strip().endswith(\"]\")\n",
    "    if is_list:\n",
    "        return 1\n",
    "    return 0\n",
    "\n",
    "# conversion VTime a float\n",
    "def time_to_min(time):\n",
    "    h, m, s, ms, r = time.split(':')\n",
    "    return float(m)\n",
    "\n",
    "df_converters = {\n",
    "    VALUE_COL: parse_value,\n",
    "    TIME_COL: time_to_min\n",
    "}\n",
    "\n",
    "salida = pd.read_csv(OUT_FILENAME,\n",
    "                     delimiter=r'(?<!,)\\s+',\n",
    "                     engine='python',  # C engine doesnt work for regex\n",
    "                     converters=df_converters,\n",
    "                     names=[TIME_COL, PORT_COL, VALUE_COL]\n",
    "                    )\n",
    "\n",
    "is_hit =  salida['value']==1 \n",
    "\n",
    "is_miss = salida['value']==0 \n",
    "\n",
    "salida_hits = salida[is_hit]\n",
    "\n",
    "salida_miss = salida[is_miss]\n",
    "\n",
    "plt.figure(figsize=(20,10))\n",
    "\n",
    "plt.hist([salida_hits['time'],salida_miss['time']], 50, density=False, color=['g', 'r'], alpha=0.40,label=['Hits','Miss'])\n",
    "\n",
    "\n",
    "plt.xlabel('Events time(minutes)')\n",
    "plt.ylabel('# Ocurrences')\n",
    "plt.title('Hits and Miss vs Time ranges')\n",
    "plt.grid(True)\n",
    "plt.legend();\n"
   ]
  },
  {
   "cell_type": "markdown",
   "id": "5340f694-2946-497b-91a8-1c1d405d784c",
   "metadata": {},
   "source": [
    "### Suburban Areas with high device interference"
   ]
  },
  {
   "cell_type": "code",
   "execution_count": 12,
   "id": "a65a66fe-d92b-4088-9d81-008fad8b21a8",
   "metadata": {},
   "outputs": [
    {
     "name": "stderr",
     "output_type": "stream",
     "text": [
      "At 00:05:00:000:0\r"
     ]
    }
   ],
   "source": [
    "%%bash -s \"$CDPP_EXAMPLES\"\n",
    "\n",
    "cd $1/D2D\n",
    "\n",
    "bin/cd++ -m model/D2D_suburban_2.ma \\\n",
    "         -o D2D_suburban_2.out \\\n",
    "         -l D2D_suburban_2.log \\\n",
    "         -t 00:05:00:00 \\\n",
    "         > debug.txt"
   ]
  },
  {
   "cell_type": "code",
   "execution_count": 13,
   "id": "1f097971-e888-4a49-b7e3-8820072e0728",
   "metadata": {},
   "outputs": [
    {
     "data": {
      "image/png": "[encoded data removed]",
      "text/plain": [
       "<Figure size 1440x720 with 1 Axes>"
      ]
     },
     "metadata": {
      "needs_background": "light"
     },
     "output_type": "display_data"
    }
   ],
   "source": [
    "# file path\n",
    "OUT_FILENAME = str(CDPP_EXAMPLES)+\"/D2D/D2D_suburban_2.out\"\n",
    "\n",
    "# def colums names of pandas dataframes\n",
    "TIME_COL = 'time'\n",
    "PORT_COL = 'port'\n",
    "VALUE_COL = 'value'\n",
    "\n",
    "def parse_value(value: str):\n",
    "    is_list = value.strip().startswith(\"[\") and value.strip().endswith(\"]\")\n",
    "    if is_list:\n",
    "        return 1\n",
    "    return 0\n",
    "\n",
    "# conversion VTime a float\n",
    "def time_to_min(time):\n",
    "    h, m, s, ms, r = time.split(':')\n",
    "    return float(m)\n",
    "\n",
    "df_converters = {\n",
    "    VALUE_COL: parse_value,\n",
    "    TIME_COL: time_to_min\n",
    "}\n",
    "\n",
    "salida = pd.read_csv(OUT_FILENAME,\n",
    "                     delimiter=r'(?<!,)\\s+',\n",
    "                     engine='python',  # C engine doesnt work for regex\n",
    "                     converters=df_converters,\n",
    "                     names=[TIME_COL, PORT_COL, VALUE_COL]\n",
    "                    )\n",
    "\n",
    "is_hit =  salida['value']==1 \n",
    "\n",
    "is_miss = salida['value']==0 \n",
    "\n",
    "salida_hits = salida[is_hit]\n",
    "\n",
    "salida_miss = salida[is_miss]\n",
    "\n",
    "plt.figure(figsize=(20,10))\n",
    "\n",
    "plt.hist([salida_hits['time'],salida_miss['time']], 50, density=False, color=['g', 'r'], alpha=0.40,label=['Hits','Miss'])\n",
    "\n",
    "plt.xlabel('Events time(minutes)')\n",
    "plt.ylabel('# Ocurrences')\n",
    "plt.title('Hits and Miss vs Time ranges')\n",
    "plt.grid(True)\n",
    "plt.legend();"
   ]
  },
  {
   "cell_type": "markdown",
   "id": "b78d3f5e-d6ee-4c01-b59b-7067e36af80e",
   "metadata": {},
   "source": [
    "### Analysis of Results"
   ]
  },
  {
   "cell_type": "markdown",
   "id": "56e4dffb-54d6-4d5e-9420-2c338f214139",
   "metadata": {},
   "source": [
    "In this preliminary study of the simulator created, a first experimental scenario was used to show its behavior through the number of messages successfully sent vs. the number of messages lost.  It was considered to vary two essential parameters for communication such as the density of obstacles in the channel and interference from other devices.\n",
    " \n",
    "Regarding the density of obstacles, two possible scenarios were used, one called urban, which represents communications in cities and places with a high density of obstacles, and the other called suburban, to represent unpopulated areas.\n",
    "\n",
    "Interference was controlled through the number of devices that generate their own signals, which are interpreted as interference in the communication of the DUE - Relay - Base Station. This means that the greater the number of nearby devices, the greater the interference.\n",
    "\n",
    "In both urban and suburban scenarios, it can be observed that interference plays a preponderant role in the quality of communications, since using low densities of interfering devices, it is possible to obtain a greater number of successfully delivered messages.\n",
    "\n",
    "It is also evident that the density of obstacles has a greater influence on the quality of communications, since for a suburban scenario, in both cases (high or low interference), it turns out to be better for the quality of communication measured by the number of messages delivered.\n",
    "\n",
    "The consistency of the created simulator can also be validated based on the expected behavior vs. the obtained result, i.e., it is naturally expected that the higher the density of obstacles and the greater the interference, the lower the quality of the communication, and this is evidenced in the results shown.\n"
   ]
  },
  {
   "cell_type": "markdown",
   "id": "bb4090d0-ccb7-41b3-83c1-2ba3d396a471",
   "metadata": {},
   "source": [
    "### Future Work"
   ]
  },
  {
   "cell_type": "markdown",
   "id": "62ab0db0-fe02-4a76-9969-461394c1601c",
   "metadata": {},
   "source": [
    "For the second installment of this work we will create a statistical evaluation environment to measure communication performance using expected packet delivery ratio (EDR) and end-to-end delay (EED) as metrics. Evaluations will be performed based on parametric combinations established by design of experiments techniques, such as the Latin hypercube.\n",
    "\n",
    "Statistical convergence is expected to be validated based on the central limit theorem and the law of large numbers, which will establish that both EDR and EED obtained will have a normal distribution, and will represent a good poblational estimator."
   ]
  },
  {
   "cell_type": "code",
   "execution_count": null,
   "id": "d11620d5-8911-4d34-aeed-008aa8937ae8",
   "metadata": {},
   "outputs": [],
   "source": []
  }
 ],
 "metadata": {
  "kernelspec": {
   "display_name": "Python 3 (ipykernel)",
   "language": "python",
   "name": "python3"
  },
  "language_info": {
   "codemirror_mode": {
    "name": "ipython",
    "version": 3
   },
   "file_extension": ".py",
   "mimetype": "text/x-python",
   "name": "python",
   "nbconvert_exporter": "python",
   "pygments_lexer": "ipython3",
   "version": "3.7.3"
  }
 },
 "nbformat": 4,
 "nbformat_minor": 5
}
